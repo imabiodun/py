{
 "cells": [
  {
   "cell_type": "code",
   "execution_count": 2,
   "id": "d0fb14ec",
   "metadata": {},
   "outputs": [
    {
     "name": "stdout",
     "output_type": "stream",
     "text": [
      " Volume in drive C has no label.\n",
      " Volume Serial Number is 4CD3-B1F1\n",
      "\n",
      " Directory of C:\\Users\\AMOS OSHIYOYE\\Documents\\VSCODE_user_files\\py\n",
      "\n",
      "12/27/2022  01:48 AM               591 #first_work.py\n",
      "03/13/2023  09:35 PM    <DIR>          .\n",
      "03/13/2023  09:35 PM    <DIR>          ..\n",
      "03/11/2023  12:47 AM    <DIR>          .ipynb_checkpoints\n",
      "12/27/2022  01:48 AM    <DIR>          1_DShit\n",
      "03/13/2023  09:35 PM            59,431 birth_learn.ipynb\n",
      "12/27/2022  01:48 AM            49,675 first jupyter file.py.ipynb\n",
      "02/21/2023  12:57 AM            52,975 pres_df.ipynb\n",
      "03/11/2023  12:13 AM           101,792 titanic_first_work.ipynb\n",
      "12/27/2022  01:48 AM            14,536 Untitled.ipynb\n",
      "02/27/2023  10:39 PM                72 Untitled1.ipynb\n",
      "02/28/2023  10:19 PM             1,829 Untitled2.ipynb\n",
      "03/11/2023  12:46 AM             6,862 Untitled3.ipynb\n",
      "12/27/2022  01:48 AM               950 wine_de.py\n",
      "12/27/2022  01:48 AM           102,551 winequality-red.csv\n",
      "12/27/2022  01:48 AM             1,533 winequality-work.py\n",
      "12/27/2022  01:48 AM                76 workspace_py.code-workspace\n",
      "              13 File(s)        392,873 bytes\n",
      "               4 Dir(s)  127,142,871,040 bytes free\n"
     ]
    }
   ],
   "source": [
    "# %cd Birth_CDC/\n",
    "%ls"
   ]
  },
  {
   "cell_type": "code",
   "execution_count": 3,
   "id": "100fe9a6",
   "metadata": {},
   "outputs": [],
   "source": [
    "import pandas as pd\n",
    "import numpy as np\n",
    "import matplotlib.pyplot as plt\n",
    "import seaborn as sns"
   ]
  },
  {
   "cell_type": "code",
   "execution_count": 4,
   "id": "d49fe942",
   "metadata": {},
   "outputs": [],
   "source": [
    "birth = pd.read_csv('https://raw.githubusercontent.com/jakevdp/data-CDCbirths/master/births.csv')"
   ]
  },
  {
   "cell_type": "code",
   "execution_count": 5,
   "id": "34628b97",
   "metadata": {},
   "outputs": [
    {
     "name": "stdout",
     "output_type": "stream",
     "text": [
      "<class 'pandas.core.frame.DataFrame'>\n",
      "RangeIndex: 15547 entries, 0 to 15546\n",
      "Data columns (total 5 columns):\n",
      " #   Column  Non-Null Count  Dtype  \n",
      "---  ------  --------------  -----  \n",
      " 0   year    15547 non-null  int64  \n",
      " 1   month   15547 non-null  int64  \n",
      " 2   day     15067 non-null  float64\n",
      " 3   gender  15547 non-null  object \n",
      " 4   births  15547 non-null  int64  \n",
      "dtypes: float64(1), int64(3), object(1)\n",
      "memory usage: 607.4+ KB\n"
     ]
    }
   ],
   "source": [
    "birth.info()"
   ]
  },
  {
   "cell_type": "code",
   "execution_count": 111,
   "id": "829ecf66",
   "metadata": {},
   "outputs": [
    {
     "name": "stderr",
     "output_type": "stream",
     "text": [
      "C:\\Users\\AMOS OSHIYOYE\\AppData\\Local\\Temp\\ipykernel_5952\\3652837518.py:1: SettingWithCopyWarning: \n",
      "A value is trying to be set on a copy of a slice from a DataFrame.\n",
      "Try using .loc[row_indexer,col_indexer] = value instead\n",
      "\n",
      "See the caveats in the documentation: https://pandas.pydata.org/pandas-docs/stable/user_guide/indexing.html#returning-a-view-versus-a-copy\n",
      "  new_birth['month_name']=[months_arr[a] for a in new_birth['month']]\n"
     ]
    }
   ],
   "source": [
    "new_birth['month_name']=[months_arr[a] for a in new_birth['month']]"
   ]
  },
  {
   "cell_type": "code",
   "execution_count": 112,
   "id": "9bef7e5b",
   "metadata": {},
   "outputs": [
    {
     "data": {
      "text/plain": [
       "{1: 'Jan',\n",
       " 2: 'Feb',\n",
       " 3: 'Mar',\n",
       " 4: 'Apr',\n",
       " 5: 'May',\n",
       " 6: 'Jun',\n",
       " 7: 'Jul',\n",
       " 8: 'Aug',\n",
       " 9: 'Sep',\n",
       " 10: 'Oct',\n",
       " 11: 'Nov',\n",
       " 12: 'Dec'}"
      ]
     },
     "execution_count": 112,
     "metadata": {},
     "output_type": "execute_result"
    }
   ],
   "source": [
    "months_arr"
   ]
  },
  {
   "cell_type": "code",
   "execution_count": 7,
   "id": "6ce8b104",
   "metadata": {},
   "outputs": [
    {
     "name": "stdout",
     "output_type": "stream",
     "text": [
      "F\":\"7776\n",
      "M\":\"7771\n"
     ]
    }
   ],
   "source": [
    "for a,b in birth.groupby('gender')['births']:\n",
    "    print(f'{a}\":\"{b.count()}')"
   ]
  },
  {
   "cell_type": "code",
   "execution_count": 8,
   "id": "f8f5d15b",
   "metadata": {},
   "outputs": [
    {
     "data": {
      "text/plain": [
       "7776"
      ]
     },
     "execution_count": 8,
     "metadata": {},
     "output_type": "execute_result"
    }
   ],
   "source": [
    "len(birth[birth['gender']=='F'])"
   ]
  },
  {
   "cell_type": "code",
   "execution_count": 9,
   "id": "6780609d",
   "metadata": {},
   "outputs": [],
   "source": [
    "decade=10*(birth['year']//10)\n",
    "decade=decade.astype('str')+'s'\n",
    "decade.name='decade'\n",
    "birth['decade']=decade"
   ]
  },
  {
   "cell_type": "code",
   "execution_count": 10,
   "id": "aaf575f3",
   "metadata": {},
   "outputs": [
    {
     "data": {
      "text/html": [
       "<div>\n",
       "<style scoped>\n",
       "    .dataframe tbody tr th:only-of-type {\n",
       "        vertical-align: middle;\n",
       "    }\n",
       "\n",
       "    .dataframe tbody tr th {\n",
       "        vertical-align: top;\n",
       "    }\n",
       "\n",
       "    .dataframe thead th {\n",
       "        text-align: right;\n",
       "    }\n",
       "</style>\n",
       "<table border=\"1\" class=\"dataframe\">\n",
       "  <thead>\n",
       "    <tr style=\"text-align: right;\">\n",
       "      <th>gender</th>\n",
       "      <th>F</th>\n",
       "      <th>M</th>\n",
       "    </tr>\n",
       "    <tr>\n",
       "      <th>decade</th>\n",
       "      <th></th>\n",
       "      <th></th>\n",
       "    </tr>\n",
       "  </thead>\n",
       "  <tbody>\n",
       "    <tr>\n",
       "      <th>1960s</th>\n",
       "      <td>1753634</td>\n",
       "      <td>1846572</td>\n",
       "    </tr>\n",
       "    <tr>\n",
       "      <th>1970s</th>\n",
       "      <td>16263075</td>\n",
       "      <td>17121550</td>\n",
       "    </tr>\n",
       "    <tr>\n",
       "      <th>1980s</th>\n",
       "      <td>18310351</td>\n",
       "      <td>19243452</td>\n",
       "    </tr>\n",
       "    <tr>\n",
       "      <th>1990s</th>\n",
       "      <td>19479454</td>\n",
       "      <td>20420553</td>\n",
       "    </tr>\n",
       "    <tr>\n",
       "      <th>2000s</th>\n",
       "      <td>18229309</td>\n",
       "      <td>19106428</td>\n",
       "    </tr>\n",
       "  </tbody>\n",
       "</table>\n",
       "</div>"
      ],
      "text/plain": [
       "gender         F         M\n",
       "decade                    \n",
       "1960s    1753634   1846572\n",
       "1970s   16263075  17121550\n",
       "1980s   18310351  19243452\n",
       "1990s   19479454  20420553\n",
       "2000s   18229309  19106428"
      ]
     },
     "execution_count": 10,
     "metadata": {},
     "output_type": "execute_result"
    }
   ],
   "source": [
    "birth.pivot_table('births',index='decade', columns='gender',aggfunc=np.sum)\n"
   ]
  },
  {
   "cell_type": "code",
   "execution_count": 13,
   "id": "846307bb",
   "metadata": {},
   "outputs": [],
   "source": [
    "quartiles = np.percentile(birth['births'], [25, 50, 75])\n",
    "mu = quartiles[1]\n",
    "sig = 0.74 * (quartiles[2] - quartiles[0])"
   ]
  },
  {
   "cell_type": "code",
   "execution_count": 14,
   "id": "7e8132bf",
   "metadata": {},
   "outputs": [
    {
     "data": {
      "text/plain": [
       "array([4358. , 4814. , 5289.5])"
      ]
     },
     "execution_count": 14,
     "metadata": {},
     "output_type": "execute_result"
    }
   ],
   "source": [
    "quartiles"
   ]
  },
  {
   "cell_type": "code",
   "execution_count": 16,
   "id": "f140892e",
   "metadata": {},
   "outputs": [
    {
     "data": {
      "text/plain": [
       "689.31"
      ]
     },
     "execution_count": 16,
     "metadata": {},
     "output_type": "execute_result"
    }
   ],
   "source": [
    "sig"
   ]
  },
  {
   "cell_type": "code",
   "execution_count": 18,
   "id": "9792ddf5",
   "metadata": {},
   "outputs": [
    {
     "data": {
      "text/plain": [
       "year      False\n",
       "month     False\n",
       "day        True\n",
       "gender    False\n",
       "births    False\n",
       "decade    False\n",
       "dtype: bool"
      ]
     },
     "execution_count": 18,
     "metadata": {},
     "output_type": "execute_result"
    }
   ],
   "source": [
    "birth.isnull().any()"
   ]
  },
  {
   "cell_type": "code",
   "execution_count": 22,
   "id": "779dab81",
   "metadata": {},
   "outputs": [
    {
     "data": {
      "text/html": [
       "<div>\n",
       "<style scoped>\n",
       "    .dataframe tbody tr th:only-of-type {\n",
       "        vertical-align: middle;\n",
       "    }\n",
       "\n",
       "    .dataframe tbody tr th {\n",
       "        vertical-align: top;\n",
       "    }\n",
       "\n",
       "    .dataframe thead th {\n",
       "        text-align: right;\n",
       "    }\n",
       "</style>\n",
       "<table border=\"1\" class=\"dataframe\">\n",
       "  <thead>\n",
       "    <tr style=\"text-align: right;\">\n",
       "      <th></th>\n",
       "      <th>year</th>\n",
       "      <th>month</th>\n",
       "      <th>day</th>\n",
       "      <th>births</th>\n",
       "    </tr>\n",
       "  </thead>\n",
       "  <tbody>\n",
       "    <tr>\n",
       "      <th>count</th>\n",
       "      <td>480.000000</td>\n",
       "      <td>480.000000</td>\n",
       "      <td>0.0</td>\n",
       "      <td>480.000000</td>\n",
       "    </tr>\n",
       "    <tr>\n",
       "      <th>mean</th>\n",
       "      <td>1998.500000</td>\n",
       "      <td>6.500000</td>\n",
       "      <td>NaN</td>\n",
       "      <td>169336.327083</td>\n",
       "    </tr>\n",
       "    <tr>\n",
       "      <th>std</th>\n",
       "      <td>5.772297</td>\n",
       "      <td>3.455654</td>\n",
       "      <td>NaN</td>\n",
       "      <td>9860.005609</td>\n",
       "    </tr>\n",
       "    <tr>\n",
       "      <th>min</th>\n",
       "      <td>1989.000000</td>\n",
       "      <td>1.000000</td>\n",
       "      <td>NaN</td>\n",
       "      <td>142259.000000</td>\n",
       "    </tr>\n",
       "    <tr>\n",
       "      <th>25%</th>\n",
       "      <td>1993.750000</td>\n",
       "      <td>3.750000</td>\n",
       "      <td>NaN</td>\n",
       "      <td>162788.500000</td>\n",
       "    </tr>\n",
       "    <tr>\n",
       "      <th>50%</th>\n",
       "      <td>1998.500000</td>\n",
       "      <td>6.500000</td>\n",
       "      <td>NaN</td>\n",
       "      <td>169526.500000</td>\n",
       "    </tr>\n",
       "    <tr>\n",
       "      <th>75%</th>\n",
       "      <td>2003.250000</td>\n",
       "      <td>9.250000</td>\n",
       "      <td>NaN</td>\n",
       "      <td>176078.000000</td>\n",
       "    </tr>\n",
       "    <tr>\n",
       "      <th>max</th>\n",
       "      <td>2008.000000</td>\n",
       "      <td>12.000000</td>\n",
       "      <td>NaN</td>\n",
       "      <td>199622.000000</td>\n",
       "    </tr>\n",
       "  </tbody>\n",
       "</table>\n",
       "</div>"
      ],
      "text/plain": [
       "              year       month  day         births\n",
       "count   480.000000  480.000000  0.0     480.000000\n",
       "mean   1998.500000    6.500000  NaN  169336.327083\n",
       "std       5.772297    3.455654  NaN    9860.005609\n",
       "min    1989.000000    1.000000  NaN  142259.000000\n",
       "25%    1993.750000    3.750000  NaN  162788.500000\n",
       "50%    1998.500000    6.500000  NaN  169526.500000\n",
       "75%    2003.250000    9.250000  NaN  176078.000000\n",
       "max    2008.000000   12.000000  NaN  199622.000000"
      ]
     },
     "execution_count": 22,
     "metadata": {},
     "output_type": "execute_result"
    }
   ],
   "source": [
    "birth.loc[birth['day'].isnull()].describe()"
   ]
  },
  {
   "cell_type": "code",
   "execution_count": 25,
   "id": "b7dcfe7e",
   "metadata": {},
   "outputs": [],
   "source": [
    "new_birth=birth.dropna()"
   ]
  },
  {
   "cell_type": "code",
   "execution_count": 30,
   "id": "295deebb",
   "metadata": {},
   "outputs": [
    {
     "data": {
      "text/html": [
       "<div>\n",
       "<style scoped>\n",
       "    .dataframe tbody tr th:only-of-type {\n",
       "        vertical-align: middle;\n",
       "    }\n",
       "\n",
       "    .dataframe tbody tr th {\n",
       "        vertical-align: top;\n",
       "    }\n",
       "\n",
       "    .dataframe thead th {\n",
       "        text-align: right;\n",
       "    }\n",
       "</style>\n",
       "<table border=\"1\" class=\"dataframe\">\n",
       "  <thead>\n",
       "    <tr style=\"text-align: right;\">\n",
       "      <th></th>\n",
       "      <th>year</th>\n",
       "      <th>month</th>\n",
       "      <th>day</th>\n",
       "      <th>gender</th>\n",
       "      <th>births</th>\n",
       "      <th>decade</th>\n",
       "    </tr>\n",
       "  </thead>\n",
       "  <tbody>\n",
       "    <tr>\n",
       "      <th>62</th>\n",
       "      <td>1969</td>\n",
       "      <td>1</td>\n",
       "      <td>99.0</td>\n",
       "      <td>F</td>\n",
       "      <td>26</td>\n",
       "      <td>1960s</td>\n",
       "    </tr>\n",
       "    <tr>\n",
       "      <th>63</th>\n",
       "      <td>1969</td>\n",
       "      <td>1</td>\n",
       "      <td>99.0</td>\n",
       "      <td>M</td>\n",
       "      <td>38</td>\n",
       "      <td>1960s</td>\n",
       "    </tr>\n",
       "    <tr>\n",
       "      <th>126</th>\n",
       "      <td>1969</td>\n",
       "      <td>2</td>\n",
       "      <td>99.0</td>\n",
       "      <td>F</td>\n",
       "      <td>42</td>\n",
       "      <td>1960s</td>\n",
       "    </tr>\n",
       "    <tr>\n",
       "      <th>127</th>\n",
       "      <td>1969</td>\n",
       "      <td>2</td>\n",
       "      <td>99.0</td>\n",
       "      <td>M</td>\n",
       "      <td>48</td>\n",
       "      <td>1960s</td>\n",
       "    </tr>\n",
       "    <tr>\n",
       "      <th>190</th>\n",
       "      <td>1969</td>\n",
       "      <td>3</td>\n",
       "      <td>99.0</td>\n",
       "      <td>F</td>\n",
       "      <td>64</td>\n",
       "      <td>1960s</td>\n",
       "    </tr>\n",
       "    <tr>\n",
       "      <th>...</th>\n",
       "      <td>...</td>\n",
       "      <td>...</td>\n",
       "      <td>...</td>\n",
       "      <td>...</td>\n",
       "      <td>...</td>\n",
       "      <td>...</td>\n",
       "    </tr>\n",
       "    <tr>\n",
       "      <th>14572</th>\n",
       "      <td>1988</td>\n",
       "      <td>4</td>\n",
       "      <td>99.0</td>\n",
       "      <td>F</td>\n",
       "      <td>1</td>\n",
       "      <td>1980s</td>\n",
       "    </tr>\n",
       "    <tr>\n",
       "      <th>14635</th>\n",
       "      <td>1988</td>\n",
       "      <td>5</td>\n",
       "      <td>99.0</td>\n",
       "      <td>F</td>\n",
       "      <td>1</td>\n",
       "      <td>1980s</td>\n",
       "    </tr>\n",
       "    <tr>\n",
       "      <th>14696</th>\n",
       "      <td>1988</td>\n",
       "      <td>6</td>\n",
       "      <td>99.0</td>\n",
       "      <td>F</td>\n",
       "      <td>1</td>\n",
       "      <td>1980s</td>\n",
       "    </tr>\n",
       "    <tr>\n",
       "      <th>14697</th>\n",
       "      <td>1988</td>\n",
       "      <td>6</td>\n",
       "      <td>99.0</td>\n",
       "      <td>M</td>\n",
       "      <td>1</td>\n",
       "      <td>1980s</td>\n",
       "    </tr>\n",
       "    <tr>\n",
       "      <th>14944</th>\n",
       "      <td>1988</td>\n",
       "      <td>10</td>\n",
       "      <td>99.0</td>\n",
       "      <td>M</td>\n",
       "      <td>1</td>\n",
       "      <td>1980s</td>\n",
       "    </tr>\n",
       "  </tbody>\n",
       "</table>\n",
       "<p>350 rows × 6 columns</p>\n",
       "</div>"
      ],
      "text/plain": [
       "       year  month   day gender  births decade\n",
       "62     1969      1  99.0      F      26  1960s\n",
       "63     1969      1  99.0      M      38  1960s\n",
       "126    1969      2  99.0      F      42  1960s\n",
       "127    1969      2  99.0      M      48  1960s\n",
       "190    1969      3  99.0      F      64  1960s\n",
       "...     ...    ...   ...    ...     ...    ...\n",
       "14572  1988      4  99.0      F       1  1980s\n",
       "14635  1988      5  99.0      F       1  1980s\n",
       "14696  1988      6  99.0      F       1  1980s\n",
       "14697  1988      6  99.0      M       1  1980s\n",
       "14944  1988     10  99.0      M       1  1980s\n",
       "\n",
       "[350 rows x 6 columns]"
      ]
     },
     "execution_count": 30,
     "metadata": {},
     "output_type": "execute_result"
    }
   ],
   "source": [
    "new_birth.loc[new_birth['day']>31]"
   ]
  },
  {
   "cell_type": "code",
   "execution_count": 109,
   "id": "87bd0ca2",
   "metadata": {},
   "outputs": [],
   "source": [
    "months=['Jan','Feb','Mar','Apr','May','Jun','Jul','Aug','Sep','Oct','Nov','Dec']\n",
    "months_arr={a+1:b for a,b in enumerate(months)}\n",
    "    "
   ]
  },
  {
   "cell_type": "code",
   "execution_count": 110,
   "id": "8b92ef9b",
   "metadata": {},
   "outputs": [
    {
     "data": {
      "text/plain": [
       "{1: 'Jan',\n",
       " 2: 'Feb',\n",
       " 3: 'Mar',\n",
       " 4: 'Apr',\n",
       " 5: 'May',\n",
       " 6: 'Jun',\n",
       " 7: 'Jul',\n",
       " 8: 'Aug',\n",
       " 9: 'Sep',\n",
       " 10: 'Oct',\n",
       " 11: 'Nov',\n",
       " 12: 'Dec'}"
      ]
     },
     "execution_count": 110,
     "metadata": {},
     "output_type": "execute_result"
    }
   ],
   "source": [
    "months_arr"
   ]
  },
  {
   "cell_type": "code",
   "execution_count": 65,
   "id": "c4f405c8",
   "metadata": {},
   "outputs": [
    {
     "data": {
      "text/plain": [
       "month  gender\n",
       "1      F         2810078\n",
       "       M         2949490\n",
       "2      F         2616914\n",
       "       M         2746503\n",
       "3      F         2859813\n",
       "       M         3008838\n",
       "4      F         2706556\n",
       "       M         2854761\n",
       "5      F         2813046\n",
       "       M         2972556\n",
       "6      F         2798479\n",
       "       M         2960754\n",
       "7      F         3026280\n",
       "       M         3194497\n",
       "8      F         3075596\n",
       "       M         3234680\n",
       "9      F         3029496\n",
       "       M         3177289\n",
       "10     F         2956098\n",
       "       M         3100095\n",
       "11     F         2776740\n",
       "       M         2919295\n",
       "12     F         2884252\n",
       "       M         3020835\n",
       "Name: births, dtype: int64"
      ]
     },
     "execution_count": 65,
     "metadata": {},
     "output_type": "execute_result"
    }
   ],
   "source": [
    "new_birth.groupby(['month','gender'])['births'].sum()"
   ]
  },
  {
   "cell_type": "code",
   "execution_count": 121,
   "id": "d52aaeb3",
   "metadata": {},
   "outputs": [
    {
     "data": {
      "text/plain": [
       "Text(0, 0.5, 'Sum of birth by month')"
      ]
     },
     "execution_count": 121,
     "metadata": {},
     "output_type": "execute_result"
    },
    {
     "data": {
      "image/png": "[encoded data removed]",
      "text/plain": [
       "<Figure size 432x288 with 1 Axes>"
      ]
     },
     "metadata": {
      "needs_background": "light"
     },
     "output_type": "display_data"
    }
   ],
   "source": [
    "new_birth.pivot_table('births',index='month',columns='gender',aggfunc=sum).plot()\n",
    "plt.gca().xticklabels=months\n",
    "plt.ylabel('Sum of birth by month')"
   ]
  },
  {
   "cell_type": "code",
   "execution_count": 114,
   "id": "49deb32f",
   "metadata": {},
   "outputs": [
    {
     "data": {
      "text/plain": [
       "Text(0, 0.5, 'total births per year')"
      ]
     },
     "execution_count": 114,
     "metadata": {},
     "output_type": "execute_result"
    },
    {
     "data": {
      "image/png": "[encoded data removed]",
      "text/plain": [
       "<Figure size 432x288 with 1 Axes>"
      ]
     },
     "metadata": {
      "needs_background": "light"
     },
     "output_type": "display_data"
    }
   ],
   "source": [
    "birth.pivot_table('births', index='year', columns='gender', aggfunc='sum').plot()\n",
    "\n",
    "plt.ylabel('total births per year')"
   ]
  },
  {
   "cell_type": "code",
   "execution_count": 49,
   "id": "29ee7f07",
   "metadata": {},
   "outputs": [
    {
     "data": {
      "text/plain": [
       "70492941"
      ]
     },
     "execution_count": 49,
     "metadata": {},
     "output_type": "execute_result"
    }
   ],
   "source": [
    "new_birth['births'].sum()"
   ]
  },
  {
   "cell_type": "code",
   "execution_count": null,
   "id": "8de5072b",
   "metadata": {},
   "outputs": [],
   "source": []
  }
 ],
 "metadata": {
  "kernelspec": {
   "display_name": "Python 3 (ipykernel)",
   "language": "python",
   "name": "python3"
  },
  "language_info": {
   "codemirror_mode": {
    "name": "ipython",
    "version": 3
   },
   "file_extension": ".py",
   "mimetype": "text/x-python",
   "name": "python",
   "nbconvert_exporter": "python",
   "pygments_lexer": "ipython3",
   "version": "3.8.6"
  }
 },
 "nbformat": 4,
 "nbformat_minor": 5
}
