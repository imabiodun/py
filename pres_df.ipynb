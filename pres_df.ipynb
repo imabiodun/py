{
 "cells": [
  {
   "cell_type": "code",
   "execution_count": 1,
   "id": "316a3af5",
   "metadata": {},
   "outputs": [],
   "source": [
    "import numpy as np\n",
    "import pandas as pd\n",
    "import matplotlib.pyplot as plt\n",
    "import seaborn as sns\n",
    "import itertools as iter\n",
    "# import random as rand\n",
    "sns.set()\n",
    "import re\n",
    "import sys"
   ]
  },
  {
   "cell_type": "code",
   "execution_count": 247,
   "id": "4fa94117",
   "metadata": {},
   "outputs": [
    {
     "data": {
      "text/plain": [
       "0"
      ]
     },
     "execution_count": 247,
     "metadata": {},
     "output_type": "execute_result"
    }
   ],
   "source": [
    "import os\n",
    "os.system('cmd command')"
   ]
  },
  {
   "cell_type": "code",
   "execution_count": 248,
   "id": "db5d5366",
   "metadata": {},
   "outputs": [
    {
     "name": "stderr",
     "output_type": "stream",
     "text": [
      "UsageError: Line magic function `%del` not found.\n"
     ]
    }
   ],
   "source": [
    "# %ls\n",
    "# %cd new_DS_shit/\n",
    "# %cd ..\n",
    "%del Guitar-Scales-by-Lloyd-English.pdf/\n",
    "%ls"
   ]
  },
  {
   "cell_type": "code",
   "execution_count": null,
   "id": "b1e458b2",
   "metadata": {},
   "outputs": [],
   "source": [
    "pres_df=pd.read_csv('president_heights_party.csv', index_col='order')"
   ]
  },
  {
   "cell_type": "code",
   "execution_count": null,
   "id": "101144c8",
   "metadata": {
    "scrolled": true
   },
   "outputs": [],
   "source": [
    "pres_df.columns"
   ]
  },
  {
   "cell_type": "code",
   "execution_count": null,
   "id": "403bdd77",
   "metadata": {},
   "outputs": [],
   "source": [
    "# pres_df.drop('order', axis=1, inplace=True)"
   ]
  },
  {
   "cell_type": "code",
   "execution_count": null,
   "id": "f2179895",
   "metadata": {
    "scrolled": true
   },
   "outputs": [],
   "source": [
    "pres_df.head(4)"
   ]
  },
  {
   "cell_type": "code",
   "execution_count": null,
   "id": "9319520f",
   "metadata": {},
   "outputs": [],
   "source": [
    "pres_df.plot(kind='hist',y='height', title='Heights of presidents')\n",
    "plt.xlabel('Heights')\n",
    "plt.show()"
   ]
  },
  {
   "cell_type": "code",
   "execution_count": null,
   "id": "e8048632",
   "metadata": {},
   "outputs": [],
   "source": [
    "pres_df.hist('height')\n",
    "# plt.hist('call')\n",
    "# plt.legend()"
   ]
  },
  {
   "cell_type": "code",
   "execution_count": null,
   "id": "38bf2020",
   "metadata": {},
   "outputs": [],
   "source": [
    "pres_df.describe()"
   ]
  },
  {
   "cell_type": "code",
   "execution_count": null,
   "id": "016c6cf5",
   "metadata": {},
   "outputs": [],
   "source": [
    "# sns.lineplot(pres_df, x=pres_df['age'],y=pres_df['height'])\n"
   ]
  },
  {
   "cell_type": "code",
   "execution_count": null,
   "id": "ca3ee7b8",
   "metadata": {},
   "outputs": [],
   "source": [
    "sns.scatterplot(x=pres_df['age'],y=pres_df['height'])"
   ]
  },
  {
   "cell_type": "code",
   "execution_count": null,
   "id": "4a8e2f48",
   "metadata": {},
   "outputs": [],
   "source": [
    "from sklearn.model_selection import train_test_split"
   ]
  },
  {
   "cell_type": "code",
   "execution_count": null,
   "id": "ba64eef3",
   "metadata": {},
   "outputs": [],
   "source": [
    "Y_test"
   ]
  },
  {
   "cell_type": "code",
   "execution_count": null,
   "id": "01f6e010",
   "metadata": {},
   "outputs": [],
   "source": [
    "X=pres_df[['age']]\n",
    "Y=pres_df['height']\n",
    "X_train,X_test,Y_train,Y_test=train_test_split(X,Y,test_size=0.3,random_state=1)\n",
    "# train_test_split(pres_df, )?"
   ]
  },
  {
   "cell_type": "code",
   "execution_count": null,
   "id": "7d45481f",
   "metadata": {},
   "outputs": [],
   "source": [
    "lR.fit(X_train,Y_train)"
   ]
  },
  {
   "cell_type": "code",
   "execution_count": null,
   "id": "7ae35c32",
   "metadata": {},
   "outputs": [],
   "source": [
    "lR.intercept_"
   ]
  },
  {
   "cell_type": "code",
   "execution_count": null,
   "id": "ddda9634",
   "metadata": {},
   "outputs": [],
   "source": [
    "pres_df.groupby('age').describe()"
   ]
  },
  {
   "cell_type": "code",
   "execution_count": null,
   "id": "4b7ebb8c",
   "metadata": {},
   "outputs": [],
   "source": [
    "# pres_df['height'].max()"
   ]
  },
  {
   "cell_type": "code",
   "execution_count": null,
   "id": "75944ac7",
   "metadata": {
    "scrolled": true
   },
   "outputs": [],
   "source": [
    "pres_df.count"
   ]
  },
  {
   "cell_type": "code",
   "execution_count": null,
   "id": "9d734897",
   "metadata": {},
   "outputs": [],
   "source": [
    "pres_df['age'].describe()"
   ]
  },
  {
   "cell_type": "code",
   "execution_count": null,
   "id": "0f85ebec",
   "metadata": {},
   "outputs": [],
   "source": [
    "a=np.ones((2,3))\n",
    "b=np.arange(3)"
   ]
  },
  {
   "cell_type": "code",
   "execution_count": null,
   "id": "ceecb2dc",
   "metadata": {},
   "outputs": [],
   "source": [
    "b+a, a+b"
   ]
  },
  {
   "cell_type": "code",
   "execution_count": null,
   "id": "7d823b67",
   "metadata": {},
   "outputs": [],
   "source": [
    "a"
   ]
  },
  {
   "cell_type": "code",
   "execution_count": null,
   "id": "e4db5a64",
   "metadata": {},
   "outputs": [],
   "source": [
    "b"
   ]
  },
  {
   "cell_type": "code",
   "execution_count": null,
   "id": "297592f8",
   "metadata": {},
   "outputs": [],
   "source": [
    "ax=np.ones((3,2))"
   ]
  },
  {
   "cell_type": "code",
   "execution_count": null,
   "id": "dbca7dcb",
   "metadata": {},
   "outputs": [],
   "source": [
    "arr=np.array([2,4,3])"
   ]
  },
  {
   "cell_type": "code",
   "execution_count": null,
   "id": "2f30603e",
   "metadata": {},
   "outputs": [],
   "source": [
    "arr=np.random.randint(10,30,(3,3))"
   ]
  },
  {
   "cell_type": "code",
   "execution_count": null,
   "id": "21349307",
   "metadata": {
    "scrolled": true
   },
   "outputs": [],
   "source": [
    "np.count_nonzero(arr>15)"
   ]
  },
  {
   "cell_type": "code",
   "execution_count": null,
   "id": "32d5547e",
   "metadata": {},
   "outputs": [],
   "source": [
    "\n"
   ]
  },
  {
   "cell_type": "code",
   "execution_count": null,
   "id": "dbed462a",
   "metadata": {},
   "outputs": [],
   "source": [
    "arr"
   ]
  },
  {
   "cell_type": "code",
   "execution_count": null,
   "id": "e010f96f",
   "metadata": {
    "scrolled": true
   },
   "outputs": [],
   "source": [
    "# arr[[arr==13] or [arr<12]]"
   ]
  },
  {
   "cell_type": "code",
   "execution_count": null,
   "id": "69e47e51",
   "metadata": {},
   "outputs": [],
   "source": [
    "# arr_centred.mean(0).round(4)"
   ]
  },
  {
   "cell_type": "code",
   "execution_count": null,
   "id": "8acb5d82",
   "metadata": {},
   "outputs": [],
   "source": [
    "x=np.linspace(0,5,50)\n",
    "y=np.linspace(0,5,50)[:,np.newaxis]\n",
    "z=np.sin(x) ** 10 + np.cos(10 + y * x) * np.cos(x)"
   ]
  },
  {
   "cell_type": "code",
   "execution_count": null,
   "id": "c32fb908",
   "metadata": {},
   "outputs": [],
   "source": [
    "plt.imshow(z, origin='lower', extent=[0, 5, 0, 5],cmap='viridis')\n",
    "plt.colorbar();"
   ]
  },
  {
   "cell_type": "code",
   "execution_count": null,
   "id": "012d717d",
   "metadata": {},
   "outputs": [],
   "source": [
    "all_sets"
   ]
  },
  {
   "cell_type": "code",
   "execution_count": null,
   "id": "3cb3f23a",
   "metadata": {},
   "outputs": [],
   "source": [
    "new_sets=set ([21,33,12])"
   ]
  },
  {
   "cell_type": "code",
   "execution_count": null,
   "id": "a7fcbfd5",
   "metadata": {},
   "outputs": [],
   "source": [
    "all_sets=new_sets"
   ]
  },
  {
   "cell_type": "code",
   "execution_count": null,
   "id": "6989b02c",
   "metadata": {},
   "outputs": [],
   "source": []
  },
  {
   "cell_type": "code",
   "execution_count": null,
   "id": "0cd87ff3",
   "metadata": {},
   "outputs": [],
   "source": [
    "all_sets.issubset(new_sets)"
   ]
  },
  {
   "cell_type": "code",
   "execution_count": null,
   "id": "c5140bac",
   "metadata": {},
   "outputs": [],
   "source": [
    "arr1=np.array([1,0,1,1,0,1])\n",
    "arr2=np.array([0,1,0,0,0,1])\n"
   ]
  },
  {
   "cell_type": "code",
   "execution_count": null,
   "id": "201bf591",
   "metadata": {},
   "outputs": [],
   "source": [
    "(arr1 & arr2)"
   ]
  },
  {
   "cell_type": "code",
   "execution_count": null,
   "id": "9acd7789",
   "metadata": {},
   "outputs": [],
   "source": [
    "~arr2"
   ]
  },
  {
   "cell_type": "code",
   "execution_count": null,
   "id": "29613c1e",
   "metadata": {},
   "outputs": [],
   "source": [
    "print(list(iter.combinations(range(3),3)))"
   ]
  },
  {
   "cell_type": "code",
   "execution_count": null,
   "id": "fd3a103f",
   "metadata": {},
   "outputs": [],
   "source": [
    "np.random.multivariate_normal?"
   ]
  },
  {
   "cell_type": "code",
   "execution_count": null,
   "id": "605e961d",
   "metadata": {},
   "outputs": [],
   "source": [
    "list(iter.permutations(range(4),2))"
   ]
  },
  {
   "cell_type": "code",
   "execution_count": null,
   "id": "cfcb4158",
   "metadata": {},
   "outputs": [],
   "source": [
    "sns.scatterplot(x='age',y='height', data= pres_df)"
   ]
  },
  {
   "cell_type": "markdown",
   "id": "bb70f2b3",
   "metadata": {},
   "source": [
    "# hier ist ein Ei, mochtest du ein Kaffee fur mich kaufen\n",
    "# Ich brache eine kleidung fur meine schwester."
   ]
  },
  {
   "cell_type": "code",
   "execution_count": null,
   "id": "9deb30a9",
   "metadata": {},
   "outputs": [],
   "source": [
    "mean = [1, 1]\n",
    "cov = [[1, 2],[2, 5]]\n",
    "X = np.random.multivariate_normal(mean, cov, 100)"
   ]
  },
  {
   "cell_type": "code",
   "execution_count": null,
   "id": "bc57341d",
   "metadata": {},
   "outputs": [],
   "source": [
    "selected=np.random.choice(X.shape[0],20,replace=False)"
   ]
  },
  {
   "cell_type": "code",
   "execution_count": null,
   "id": "227f7c8e",
   "metadata": {},
   "outputs": [],
   "source": [
    "select=X[selected]"
   ]
  },
  {
   "cell_type": "code",
   "execution_count": null,
   "id": "04504be9",
   "metadata": {},
   "outputs": [],
   "source": [
    "select.shape"
   ]
  },
  {
   "cell_type": "code",
   "execution_count": null,
   "id": "7fbe630a",
   "metadata": {},
   "outputs": [],
   "source": [
    "%matplotlib inline\n",
    "plt.scatter(X[:,0],X[:,1],alpha=0.3)\n",
    "plt.scatter(select[:,0],select[:,1],facecolor='none',s=50)\n",
    "sns.set()"
   ]
  },
  {
   "cell_type": "code",
   "execution_count": null,
   "id": "0ddcf85b",
   "metadata": {},
   "outputs": [],
   "source": [
    "x=np.zeros(10)\n",
    "i=[2,3,3,4,4,4]\n",
    "np.add.at(x,i,4)"
   ]
  },
  {
   "cell_type": "code",
   "execution_count": null,
   "id": "3aaf5d51",
   "metadata": {
    "scrolled": true
   },
   "outputs": [],
   "source": [
    "knn=np.random.rand(10,2)"
   ]
  },
  {
   "cell_type": "code",
   "execution_count": null,
   "id": "2f03279c",
   "metadata": {},
   "outputs": [],
   "source": [
    "knn"
   ]
  },
  {
   "cell_type": "code",
   "execution_count": null,
   "id": "97a051f7",
   "metadata": {},
   "outputs": [],
   "source": [
    "knn[:,np.newaxis,:].shape"
   ]
  },
  {
   "cell_type": "code",
   "execution_count": null,
   "id": "ff0bd7ad",
   "metadata": {},
   "outputs": [],
   "source": [
    "knn[np.newaxis,:,:].shape"
   ]
  },
  {
   "cell_type": "code",
   "execution_count": null,
   "id": "f50598f2",
   "metadata": {},
   "outputs": [],
   "source": [
    " 0.88034098-0.64401926"
   ]
  },
  {
   "cell_type": "code",
   "execution_count": null,
   "id": "921bf596",
   "metadata": {},
   "outputs": [],
   "source": [
    "# knn=np.random.rand(10,2)"
   ]
  },
  {
   "cell_type": "code",
   "execution_count": null,
   "id": "4e56e68b",
   "metadata": {},
   "outputs": [],
   "source": [
    "plt.scatter(knn[:,0],knn[:,1])"
   ]
  },
  {
   "cell_type": "code",
   "execution_count": null,
   "id": "f48afd2f",
   "metadata": {},
   "outputs": [],
   "source": [
    "knn[np.newaxis,:,:]"
   ]
  },
  {
   "cell_type": "code",
   "execution_count": null,
   "id": "d3004413",
   "metadata": {},
   "outputs": [],
   "source": [
    "np.array([[0.2835313 , 0.88034098]])-np.array([[0.2835313 , 0.88034098],\n",
    "[0.62586126, 0.64401926],\n",
    "[0.81030683, 0.14819023],\n",
    "[0.24604424, 0.53482592],\n",
    "[0.13915836, 0.55014405],\n",
    "[0.42203612, 0.82712441],\n",
    "[0.70399057, 0.55748275],\n",
    "[0.89525007, 0.63838845],\n",
    "[0.69282795, 0.59248741],\n",
    "[0.96805253, 0.60311561]])"
   ]
  },
  {
   "cell_type": "code",
   "execution_count": null,
   "id": "1893a344",
   "metadata": {},
   "outputs": [],
   "source": [
    "kn=(knn[:,np.newaxis,:]-knn[np.newaxis,:,:])"
   ]
  },
  {
   "cell_type": "code",
   "execution_count": null,
   "id": "98a59405",
   "metadata": {},
   "outputs": [],
   "source": [
    "kn.sum(-1)"
   ]
  },
  {
   "cell_type": "code",
   "execution_count": null,
   "id": "85f7371d",
   "metadata": {},
   "outputs": [],
   "source": [
    "kn.sum(-1).diagonal()"
   ]
  },
  {
   "cell_type": "code",
   "execution_count": null,
   "id": "a0d4ef0c",
   "metadata": {},
   "outputs": [],
   "source": [
    "kn.shape"
   ]
  },
  {
   "cell_type": "code",
   "execution_count": null,
   "id": "601c4069",
   "metadata": {},
   "outputs": [],
   "source": [
    "arr=np.random.randint(0,10,(3,3))"
   ]
  },
  {
   "cell_type": "code",
   "execution_count": null,
   "id": "60351293",
   "metadata": {},
   "outputs": [],
   "source": [
    "arr=arr[:,np.newaxis,:]"
   ]
  },
  {
   "cell_type": "code",
   "execution_count": null,
   "id": "3ed5295b",
   "metadata": {},
   "outputs": [],
   "source": [
    "arr[1]-arr[0]"
   ]
  },
  {
   "cell_type": "code",
   "execution_count": null,
   "id": "ef1c29de",
   "metadata": {},
   "outputs": [],
   "source": [
    "arr"
   ]
  },
  {
   "cell_type": "code",
   "execution_count": null,
   "id": "ab1d596c",
   "metadata": {},
   "outputs": [],
   "source": [
    "(arr[np.newaxis,:,:])"
   ]
  },
  {
   "cell_type": "code",
   "execution_count": null,
   "id": "7bb62200",
   "metadata": {},
   "outputs": [],
   "source": [
    "car=np.random.randint(0,10,(2,2))"
   ]
  },
  {
   "cell_type": "code",
   "execution_count": null,
   "id": "1b1ed5ce",
   "metadata": {},
   "outputs": [],
   "source": [
    "car"
   ]
  },
  {
   "cell_type": "code",
   "execution_count": null,
   "id": "f1579e8c",
   "metadata": {},
   "outputs": [],
   "source": [
    "cra=car[:,np.newaxis,:]\n",
    "print(cra)\n",
    "cra.shape"
   ]
  },
  {
   "cell_type": "code",
   "execution_count": null,
   "id": "fd781672",
   "metadata": {},
   "outputs": [],
   "source": [
    "arc=car[np.newaxis,:,:]\n",
    "print(arc)\n",
    "arc.shape"
   ]
  },
  {
   "cell_type": "markdown",
   "id": "6a985e32",
   "metadata": {},
   "source": [
    "# (2,4,3)"
   ]
  },
  {
   "cell_type": "code",
   "execution_count": null,
   "id": "bc9250dc",
   "metadata": {},
   "outputs": [],
   "source": [
    "cam=np.array([\n",
    "    [[1,2,3]],\n",
    "    [[1,2,3]],\n",
    "])"
   ]
  },
  {
   "cell_type": "code",
   "execution_count": null,
   "id": "23770bd7",
   "metadata": {},
   "outputs": [],
   "source": [
    "cam.shape"
   ]
  },
  {
   "cell_type": "code",
   "execution_count": null,
   "id": "5716e2b5",
   "metadata": {},
   "outputs": [],
   "source": [
    "np.array([[\n",
    "    [4,6]],\n",
    "    [[1,7]]\n",
    "]).shape"
   ]
  },
  {
   "cell_type": "code",
   "execution_count": null,
   "id": "2f805088",
   "metadata": {},
   "outputs": [],
   "source": [
    "nab=np.array([\n",
    "                [[1,2]],\n",
    "                [[1,2]]                \n",
    "                     ])"
   ]
  },
  {
   "cell_type": "code",
   "execution_count": null,
   "id": "795a8976",
   "metadata": {},
   "outputs": [],
   "source": [
    "nab.shape"
   ]
  },
  {
   "cell_type": "code",
   "execution_count": null,
   "id": "e93b4660",
   "metadata": {},
   "outputs": [],
   "source": [
    "np.array([[[4,7],[4,7]]]).shape"
   ]
  },
  {
   "cell_type": "code",
   "execution_count": null,
   "id": "2abafc08",
   "metadata": {},
   "outputs": [],
   "source": [
    "(arc-cra).shape\n",
    "# 2,2,2"
   ]
  },
  {
   "cell_type": "code",
   "execution_count": null,
   "id": "6d87e476",
   "metadata": {},
   "outputs": [],
   "source": [
    "arc\n",
    "# 1,1,2,2"
   ]
  },
  {
   "cell_type": "code",
   "execution_count": null,
   "id": "5c2ae137",
   "metadata": {},
   "outputs": [],
   "source": [
    "barc=arc"
   ]
  },
  {
   "cell_type": "code",
   "execution_count": null,
   "id": "19dbd549",
   "metadata": {},
   "outputs": [],
   "source": [
    "barc.shape\n",
    "# 1,1,1,2"
   ]
  },
  {
   "cell_type": "code",
   "execution_count": null,
   "id": "09913f43",
   "metadata": {},
   "outputs": [],
   "source": [
    "ax=x.argsort()"
   ]
  },
  {
   "cell_type": "code",
   "execution_count": null,
   "id": "80c34975",
   "metadata": {},
   "outputs": [],
   "source": [
    "x[ax]"
   ]
  },
  {
   "cell_type": "code",
   "execution_count": null,
   "id": "fe0d98f2",
   "metadata": {},
   "outputs": [],
   "source": [
    "knd=(kn.sum(-1))**2"
   ]
  },
  {
   "cell_type": "code",
   "execution_count": null,
   "id": "0a3039b5",
   "metadata": {},
   "outputs": [],
   "source": [
    "knd"
   ]
  },
  {
   "cell_type": "code",
   "execution_count": null,
   "id": "244f8b47",
   "metadata": {},
   "outputs": [],
   "source": [
    "knd.round(2)"
   ]
  },
  {
   "cell_type": "code",
   "execution_count": null,
   "id": "0661b4a4",
   "metadata": {},
   "outputs": [],
   "source": [
    "knd.argsort()"
   ]
  },
  {
   "cell_type": "code",
   "execution_count": null,
   "id": "ab831fdb",
   "metadata": {},
   "outputs": [],
   "source": [
    "k=2\n",
    "nearest_knd=knd.argpartition(k+1)"
   ]
  },
  {
   "cell_type": "code",
   "execution_count": null,
   "id": "c48154fc",
   "metadata": {},
   "outputs": [],
   "source": [
    "nearest_knd"
   ]
  },
  {
   "cell_type": "code",
   "execution_count": null,
   "id": "07ffc45c",
   "metadata": {},
   "outputs": [],
   "source": [
    "\n",
    "plt.scatter(knn[:,0],knn[:,1])\n",
    "sns.set()"
   ]
  },
  {
   "cell_type": "code",
   "execution_count": null,
   "id": "f046f965",
   "metadata": {},
   "outputs": [],
   "source": [
    "nearest_knd[9]"
   ]
  },
  {
   "cell_type": "code",
   "execution_count": null,
   "id": "fe6d1e6f",
   "metadata": {},
   "outputs": [],
   "source": [
    "for i in range(10):\n",
    "    print(i)"
   ]
  },
  {
   "cell_type": "code",
   "execution_count": null,
   "id": "d599ecb7",
   "metadata": {},
   "outputs": [],
   "source": [
    "plt.scatter(knn[:,0],knn[:,1])\n",
    "for i in range(knn.shape[0]):\n",
    "    for j in nearest_knd[i, :k+1]:\n",
    "        plt.plot(*zip(X[j], X[i]), color='black')\n"
   ]
  },
  {
   "cell_type": "code",
   "execution_count": null,
   "id": "5a2fcd94",
   "metadata": {},
   "outputs": [],
   "source": [
    "# status=pd.Series({'Dad':'Head','Ma':'Assist'})\n",
    "# pos=pd.Series({'Dad':'01','Ma':'02'})\n",
    "# loc=pd.Series({\"Dad\":'Nig','Ma':\"Nig\"})\n",
    "\n",
    "mem=[\"Dad\",'Ma',\"Mama D\",'Tee Boi', 'Abi Boi','Bobo D']\n",
    "\n",
    "status=pd.Series(['Head','Assist','Somebody\\'s wife','Fransozisch', 'Data Boi','Disturbance'], index=[\"Dad\",'Ma',\"Mama D\",'Tee Boi', 'Abi Boi','Bobo D'])\n",
    "pos=pd.Series(['01','02','03','04', '05','06'], index=mem)\n",
    "loc=pd.Series(['Nig',\"Nig\",'Nig','Fra', 'Nig','Nig'], index=mem)\n",
    "\n"
   ]
  },
  {
   "cell_type": "code",
   "execution_count": null,
   "id": "29d63f42",
   "metadata": {},
   "outputs": [],
   "source": [
    "fam=pd.DataFrame({\"Status\":status,\"Position\":pos, 'Location':loc},index=(mem))"
   ]
  },
  {
   "cell_type": "code",
   "execution_count": null,
   "id": "6d14e46b",
   "metadata": {},
   "outputs": [],
   "source": []
  },
  {
   "cell_type": "code",
   "execution_count": null,
   "id": "ea24b4b1",
   "metadata": {},
   "outputs": [],
   "source": [
    "fam"
   ]
  },
  {
   "cell_type": "code",
   "execution_count": null,
   "id": "9494c9c0",
   "metadata": {},
   "outputs": [],
   "source": [
    "pd.Series.groupby()."
   ]
  },
  {
   "cell_type": "code",
   "execution_count": 421,
   "id": "f204fd93",
   "metadata": {},
   "outputs": [
    {
     "data": {
      "text/html": [
       "<div>\n",
       "<style scoped>\n",
       "    .dataframe tbody tr th:only-of-type {\n",
       "        vertical-align: middle;\n",
       "    }\n",
       "\n",
       "    .dataframe tbody tr th {\n",
       "        vertical-align: top;\n",
       "    }\n",
       "\n",
       "    .dataframe thead th {\n",
       "        text-align: right;\n",
       "    }\n",
       "</style>\n",
       "<table border=\"1\" class=\"dataframe\">\n",
       "  <thead>\n",
       "    <tr style=\"text-align: right;\">\n",
       "      <th></th>\n",
       "      <th>state/region</th>\n",
       "      <th>ages</th>\n",
       "      <th>year</th>\n",
       "      <th>population</th>\n",
       "      <th>state</th>\n",
       "    </tr>\n",
       "  </thead>\n",
       "  <tbody>\n",
       "    <tr>\n",
       "      <th>6</th>\n",
       "      <td>AL</td>\n",
       "      <td>total</td>\n",
       "      <td>2009</td>\n",
       "      <td>4757938.0</td>\n",
       "      <td>Alabama</td>\n",
       "    </tr>\n",
       "    <tr>\n",
       "      <th>7</th>\n",
       "      <td>AL</td>\n",
       "      <td>under18</td>\n",
       "      <td>2009</td>\n",
       "      <td>1134192.0</td>\n",
       "      <td>Alabama</td>\n",
       "    </tr>\n",
       "    <tr>\n",
       "      <th>2</th>\n",
       "      <td>AL</td>\n",
       "      <td>under18</td>\n",
       "      <td>2010</td>\n",
       "      <td>1130966.0</td>\n",
       "      <td>Alabama</td>\n",
       "    </tr>\n",
       "    <tr>\n",
       "      <th>3</th>\n",
       "      <td>AL</td>\n",
       "      <td>total</td>\n",
       "      <td>2010</td>\n",
       "      <td>4785570.0</td>\n",
       "      <td>Alabama</td>\n",
       "    </tr>\n",
       "    <tr>\n",
       "      <th>4</th>\n",
       "      <td>AL</td>\n",
       "      <td>under18</td>\n",
       "      <td>2011</td>\n",
       "      <td>1125763.0</td>\n",
       "      <td>Alabama</td>\n",
       "    </tr>\n",
       "    <tr>\n",
       "      <th>5</th>\n",
       "      <td>AL</td>\n",
       "      <td>total</td>\n",
       "      <td>2011</td>\n",
       "      <td>4801627.0</td>\n",
       "      <td>Alabama</td>\n",
       "    </tr>\n",
       "    <tr>\n",
       "      <th>0</th>\n",
       "      <td>AL</td>\n",
       "      <td>under18</td>\n",
       "      <td>2012</td>\n",
       "      <td>1117489.0</td>\n",
       "      <td>Alabama</td>\n",
       "    </tr>\n",
       "    <tr>\n",
       "      <th>1</th>\n",
       "      <td>AL</td>\n",
       "      <td>total</td>\n",
       "      <td>2012</td>\n",
       "      <td>4817528.0</td>\n",
       "      <td>Alabama</td>\n",
       "    </tr>\n",
       "    <tr>\n",
       "      <th>8</th>\n",
       "      <td>AL</td>\n",
       "      <td>under18</td>\n",
       "      <td>2013</td>\n",
       "      <td>1111481.0</td>\n",
       "      <td>Alabama</td>\n",
       "    </tr>\n",
       "    <tr>\n",
       "      <th>9</th>\n",
       "      <td>AL</td>\n",
       "      <td>total</td>\n",
       "      <td>2013</td>\n",
       "      <td>4833722.0</td>\n",
       "      <td>Alabama</td>\n",
       "    </tr>\n",
       "  </tbody>\n",
       "</table>\n",
       "</div>"
      ],
      "text/plain": [
       "  state/region     ages  year  population    state\n",
       "6           AL    total  2009   4757938.0  Alabama\n",
       "7           AL  under18  2009   1134192.0  Alabama\n",
       "2           AL  under18  2010   1130966.0  Alabama\n",
       "3           AL    total  2010   4785570.0  Alabama\n",
       "4           AL  under18  2011   1125763.0  Alabama\n",
       "5           AL    total  2011   4801627.0  Alabama\n",
       "0           AL  under18  2012   1117489.0  Alabama\n",
       "1           AL    total  2012   4817528.0  Alabama\n",
       "8           AL  under18  2013   1111481.0  Alabama\n",
       "9           AL    total  2013   4833722.0  Alabama"
      ]
     },
     "execution_count": 421,
     "metadata": {},
     "output_type": "execute_result"
    }
   ],
   "source": [
    "alle.head(10).sort_values(by='year', ascending=True)"
   ]
  },
  {
   "cell_type": "code",
   "execution_count": 563,
   "id": "8d21472b",
   "metadata": {
    "scrolled": true
   },
   "outputs": [],
   "source": [
    "above18=alle.head(10).sort_values(by='year', ascending=True).groupby(['year','ages'])['population'].mean().unstack()"
   ]
  },
  {
   "cell_type": "code",
   "execution_count": 586,
   "id": "a57a895f",
   "metadata": {},
   "outputs": [
    {
     "data": {
      "text/html": [
       "<div>\n",
       "<style scoped>\n",
       "    .dataframe tbody tr th:only-of-type {\n",
       "        vertical-align: middle;\n",
       "    }\n",
       "\n",
       "    .dataframe tbody tr th {\n",
       "        vertical-align: top;\n",
       "    }\n",
       "\n",
       "    .dataframe thead th {\n",
       "        text-align: right;\n",
       "    }\n",
       "</style>\n",
       "<table border=\"1\" class=\"dataframe\">\n",
       "  <thead>\n",
       "    <tr style=\"text-align: right;\">\n",
       "      <th></th>\n",
       "      <th>population</th>\n",
       "      <th>state</th>\n",
       "    </tr>\n",
       "  </thead>\n",
       "  <tbody>\n",
       "    <tr>\n",
       "      <th>0</th>\n",
       "      <td>1117489.0</td>\n",
       "      <td>Alabama</td>\n",
       "    </tr>\n",
       "    <tr>\n",
       "      <th>1</th>\n",
       "      <td>4817528.0</td>\n",
       "      <td>Alabama</td>\n",
       "    </tr>\n",
       "    <tr>\n",
       "      <th>2</th>\n",
       "      <td>1130966.0</td>\n",
       "      <td>Alabama</td>\n",
       "    </tr>\n",
       "    <tr>\n",
       "      <th>3</th>\n",
       "      <td>4785570.0</td>\n",
       "      <td>Alabama</td>\n",
       "    </tr>\n",
       "    <tr>\n",
       "      <th>4</th>\n",
       "      <td>1125763.0</td>\n",
       "      <td>Alabama</td>\n",
       "    </tr>\n",
       "    <tr>\n",
       "      <th>...</th>\n",
       "      <td>...</td>\n",
       "      <td>...</td>\n",
       "    </tr>\n",
       "    <tr>\n",
       "      <th>2539</th>\n",
       "      <td>309326295.0</td>\n",
       "      <td>USA</td>\n",
       "    </tr>\n",
       "    <tr>\n",
       "      <th>2540</th>\n",
       "      <td>73902222.0</td>\n",
       "      <td>USA</td>\n",
       "    </tr>\n",
       "    <tr>\n",
       "      <th>2541</th>\n",
       "      <td>311582564.0</td>\n",
       "      <td>USA</td>\n",
       "    </tr>\n",
       "    <tr>\n",
       "      <th>2542</th>\n",
       "      <td>73708179.0</td>\n",
       "      <td>USA</td>\n",
       "    </tr>\n",
       "    <tr>\n",
       "      <th>2543</th>\n",
       "      <td>313873685.0</td>\n",
       "      <td>USA</td>\n",
       "    </tr>\n",
       "  </tbody>\n",
       "</table>\n",
       "<p>2544 rows × 2 columns</p>\n",
       "</div>"
      ],
      "text/plain": [
       "       population    state\n",
       "0       1117489.0  Alabama\n",
       "1       4817528.0  Alabama\n",
       "2       1130966.0  Alabama\n",
       "3       4785570.0  Alabama\n",
       "4       1125763.0  Alabama\n",
       "...           ...      ...\n",
       "2539  309326295.0      USA\n",
       "2540   73902222.0      USA\n",
       "2541  311582564.0      USA\n",
       "2542   73708179.0      USA\n",
       "2543  313873685.0      USA\n",
       "\n",
       "[2544 rows x 2 columns]"
      ]
     },
     "execution_count": 586,
     "metadata": {},
     "output_type": "execute_result"
    }
   ],
   "source": [
    "alle[state].fi('USA')"
   ]
  },
  {
   "cell_type": "code",
   "execution_count": 572,
   "id": "5bedcbc3",
   "metadata": {},
   "outputs": [
    {
     "data": {
      "text/html": [
       "<div>\n",
       "<style scoped>\n",
       "    .dataframe tbody tr th:only-of-type {\n",
       "        vertical-align: middle;\n",
       "    }\n",
       "\n",
       "    .dataframe tbody tr th {\n",
       "        vertical-align: top;\n",
       "    }\n",
       "\n",
       "    .dataframe thead th {\n",
       "        text-align: right;\n",
       "    }\n",
       "</style>\n",
       "<table border=\"1\" class=\"dataframe\">\n",
       "  <thead>\n",
       "    <tr style=\"text-align: right;\">\n",
       "      <th>ages</th>\n",
       "      <th>total</th>\n",
       "      <th>under18</th>\n",
       "    </tr>\n",
       "    <tr>\n",
       "      <th>year</th>\n",
       "      <th></th>\n",
       "      <th></th>\n",
       "    </tr>\n",
       "  </thead>\n",
       "  <tbody>\n",
       "    <tr>\n",
       "      <th>2009</th>\n",
       "      <td>4757938.0</td>\n",
       "      <td>1134192.0</td>\n",
       "    </tr>\n",
       "    <tr>\n",
       "      <th>2010</th>\n",
       "      <td>4785570.0</td>\n",
       "      <td>1130966.0</td>\n",
       "    </tr>\n",
       "    <tr>\n",
       "      <th>2011</th>\n",
       "      <td>4801627.0</td>\n",
       "      <td>1125763.0</td>\n",
       "    </tr>\n",
       "    <tr>\n",
       "      <th>2012</th>\n",
       "      <td>4817528.0</td>\n",
       "      <td>1117489.0</td>\n",
       "    </tr>\n",
       "    <tr>\n",
       "      <th>2013</th>\n",
       "      <td>4833722.0</td>\n",
       "      <td>1111481.0</td>\n",
       "    </tr>\n",
       "  </tbody>\n",
       "</table>\n",
       "</div>"
      ],
      "text/plain": [
       "ages      total    under18\n",
       "year                      \n",
       "2009  4757938.0  1134192.0\n",
       "2010  4785570.0  1130966.0\n",
       "2011  4801627.0  1125763.0\n",
       "2012  4817528.0  1117489.0\n",
       "2013  4833722.0  1111481.0"
      ]
     },
     "execution_count": 572,
     "metadata": {},
     "output_type": "execute_result"
    }
   ],
   "source": [
    "# del all_ages\n",
    "above18"
   ]
  },
  {
   "cell_type": "code",
   "execution_count": 450,
   "id": "5a0c0507",
   "metadata": {},
   "outputs": [],
   "source": [
    "all_ages_index=alles[alles['ages']=='under18'].index\n",
    "# alle.loc[]"
   ]
  },
  {
   "cell_type": "code",
   "execution_count": 429,
   "id": "cc835fcf",
   "metadata": {},
   "outputs": [],
   "source": [
    "def above(x):\n",
    "    return x['total']-x['under18']"
   ]
  },
  {
   "cell_type": "code",
   "execution_count": 409,
   "id": "1bb04038",
   "metadata": {},
   "outputs": [
    {
     "data": {
      "text/plain": [
       "0    \n",
       "2    \n",
       "4    \n",
       "Name: ages, dtype: object"
      ]
     },
     "execution_count": 409,
     "metadata": {},
     "output_type": "execute_result"
    }
   ],
   "source": [
    "# alle.loc[all_ages,'ages']==alle.loc[ages,'ages']*-1\n",
    "alles.loc[all_ages,'ages']*(-1)"
   ]
  },
  {
   "cell_type": "code",
   "execution_count": 386,
   "id": "d4fa8d75",
   "metadata": {},
   "outputs": [
    {
     "data": {
      "text/html": [
       "<div>\n",
       "<style scoped>\n",
       "    .dataframe tbody tr th:only-of-type {\n",
       "        vertical-align: middle;\n",
       "    }\n",
       "\n",
       "    .dataframe tbody tr th {\n",
       "        vertical-align: top;\n",
       "    }\n",
       "\n",
       "    .dataframe thead th {\n",
       "        text-align: right;\n",
       "    }\n",
       "</style>\n",
       "<table border=\"1\" class=\"dataframe\">\n",
       "  <thead>\n",
       "    <tr style=\"text-align: right;\">\n",
       "      <th></th>\n",
       "      <th>state/region</th>\n",
       "      <th>ages</th>\n",
       "      <th>year</th>\n",
       "      <th>population</th>\n",
       "      <th>state</th>\n",
       "    </tr>\n",
       "  </thead>\n",
       "  <tbody>\n",
       "    <tr>\n",
       "      <th>0</th>\n",
       "      <td>AL</td>\n",
       "      <td></td>\n",
       "      <td>2012</td>\n",
       "      <td>1117489.0</td>\n",
       "      <td>Alabama</td>\n",
       "    </tr>\n",
       "    <tr>\n",
       "      <th>1</th>\n",
       "      <td>AL</td>\n",
       "      <td>total</td>\n",
       "      <td>2012</td>\n",
       "      <td>4817528.0</td>\n",
       "      <td>Alabama</td>\n",
       "    </tr>\n",
       "    <tr>\n",
       "      <th>2</th>\n",
       "      <td>AL</td>\n",
       "      <td></td>\n",
       "      <td>2010</td>\n",
       "      <td>1130966.0</td>\n",
       "      <td>Alabama</td>\n",
       "    </tr>\n",
       "    <tr>\n",
       "      <th>3</th>\n",
       "      <td>AL</td>\n",
       "      <td>total</td>\n",
       "      <td>2010</td>\n",
       "      <td>4785570.0</td>\n",
       "      <td>Alabama</td>\n",
       "    </tr>\n",
       "    <tr>\n",
       "      <th>4</th>\n",
       "      <td>AL</td>\n",
       "      <td></td>\n",
       "      <td>2011</td>\n",
       "      <td>1125763.0</td>\n",
       "      <td>Alabama</td>\n",
       "    </tr>\n",
       "  </tbody>\n",
       "</table>\n",
       "</div>"
      ],
      "text/plain": [
       "  state/region   ages  year  population    state\n",
       "0           AL         2012   1117489.0  Alabama\n",
       "1           AL  total  2012   4817528.0  Alabama\n",
       "2           AL         2010   1130966.0  Alabama\n",
       "3           AL  total  2010   4785570.0  Alabama\n",
       "4           AL         2011   1125763.0  Alabama"
      ]
     },
     "execution_count": 386,
     "metadata": {},
     "output_type": "execute_result"
    }
   ],
   "source": [
    "alle.head()"
   ]
  },
  {
   "cell_type": "code",
   "execution_count": 355,
   "id": "18d54711",
   "metadata": {},
   "outputs": [
    {
     "data": {
      "text/plain": [
       "<pandas.core.groupby.generic.SeriesGroupBy object at 0x0000000022E6C490>"
      ]
     },
     "execution_count": 355,
     "metadata": {},
     "output_type": "execute_result"
    }
   ],
   "source": [
    "alle.groupby(['year','population'])['ages']"
   ]
  },
  {
   "cell_type": "code",
   "execution_count": 340,
   "id": "eda73b6a",
   "metadata": {},
   "outputs": [],
   "source": [
    "def above18(x):\n",
    "    '''\n",
    "    to find the population of people above the age of 18\n",
    "    '''\n",
    "    rem=x['total']-x['under18']\n",
    "    return rem"
   ]
  },
  {
   "cell_type": "code",
   "execution_count": null,
   "id": "8b8fda39",
   "metadata": {},
   "outputs": [],
   "source": [
    "def appf(x):\n",
    "    x['data1']/=x['data2'].sum()\n",
    "    return x"
   ]
  },
  {
   "cell_type": "code",
   "execution_count": null,
   "id": "93cf17a6",
   "metadata": {
    "scrolled": true
   },
   "outputs": [],
   "source": [
    "df.groupby('key').apply(appf)"
   ]
  },
  {
   "cell_type": "code",
   "execution_count": null,
   "id": "93557356",
   "metadata": {},
   "outputs": [],
   "source": []
  },
  {
   "cell_type": "code",
   "execution_count": null,
   "id": "a3ba8774",
   "metadata": {},
   "outputs": [],
   "source": [
    "status[[0,3,5]]"
   ]
  },
  {
   "cell_type": "code",
   "execution_count": null,
   "id": "2fc967d4",
   "metadata": {},
   "outputs": [],
   "source": [
    "fam.loc['Tee Boi':,:\"Location\"]"
   ]
  },
  {
   "cell_type": "code",
   "execution_count": null,
   "id": "7eb72d76",
   "metadata": {},
   "outputs": [],
   "source": [
    "# %xmode\n",
    "rng = np.random.RandomState(42)\n",
    "ser = pd.DataFrame(rng.randint(0, 10, (3,4)), columns=['A','B','C','D'])"
   ]
  },
  {
   "cell_type": "code",
   "execution_count": null,
   "id": "94851990",
   "metadata": {},
   "outputs": [],
   "source": [
    "ser"
   ]
  },
  {
   "cell_type": "code",
   "execution_count": null,
   "id": "7ee8db8f",
   "metadata": {},
   "outputs": [],
   "source": [
    "A=pd.DataFrame(rng.randint(1,20,(2,2,)), columns=list('AB'))"
   ]
  },
  {
   "cell_type": "code",
   "execution_count": null,
   "id": "d799f35e",
   "metadata": {},
   "outputs": [],
   "source": [
    "A"
   ]
  },
  {
   "cell_type": "code",
   "execution_count": null,
   "id": "e124cb25",
   "metadata": {},
   "outputs": [],
   "source": [
    "B=pd.DataFrame(rng.randint(1,10,(4,4)), columns=list('QRST'))"
   ]
  },
  {
   "cell_type": "code",
   "execution_count": null,
   "id": "ab64b8d2",
   "metadata": {},
   "outputs": [],
   "source": [
    "B"
   ]
  },
  {
   "cell_type": "code",
   "execution_count": null,
   "id": "762c49d3",
   "metadata": {},
   "outputs": [],
   "source": [
    "gab=pd.Series([23,np.nan,'crib',34,None,17])"
   ]
  },
  {
   "cell_type": "code",
   "execution_count": null,
   "id": "5f6fa8af",
   "metadata": {},
   "outputs": [],
   "source": [
    "gab.isna()"
   ]
  },
  {
   "cell_type": "code",
   "execution_count": null,
   "id": "524f94b9",
   "metadata": {},
   "outputs": [],
   "source": [
    "pd.MultiIndex.from_tuples([('Dad',0),('Ma',1),('Dan',2),('Bio',3),(0,0,1,1)])"
   ]
  },
  {
   "cell_type": "code",
   "execution_count": null,
   "id": "8d480834",
   "metadata": {},
   "outputs": [],
   "source": [
    "gab.isna()"
   ]
  },
  {
   "cell_type": "code",
   "execution_count": null,
   "id": "15467c15",
   "metadata": {},
   "outputs": [],
   "source": []
  },
  {
   "cell_type": "code",
   "execution_count": null,
   "id": "2a578b65",
   "metadata": {},
   "outputs": [],
   "source": [
    "gab.fillna(value=gab.mean().round(2))"
   ]
  },
  {
   "cell_type": "code",
   "execution_count": null,
   "id": "0df3a968",
   "metadata": {},
   "outputs": [],
   "source": []
  },
  {
   "cell_type": "code",
   "execution_count": null,
   "id": "e31d18e4",
   "metadata": {
    "scrolled": true
   },
   "outputs": [],
   "source": [
    "B.subtract(B.iloc[1])"
   ]
  },
  {
   "cell_type": "code",
   "execution_count": null,
   "id": "5bc25576",
   "metadata": {},
   "outputs": [],
   "source": [
    "list(iter.product(['Abiodun','Baba','Tee','Bobo D'],['Mama D','Ma']))"
   ]
  },
  {
   "cell_type": "code",
   "execution_count": null,
   "id": "d1f4603c",
   "metadata": {},
   "outputs": [],
   "source": [
    "cases=pd.MultiIndex.from_tuples([('Abiodun','1'),('Baba','2'),('Tee','1'),('Bobo D','2')])"
   ]
  },
  {
   "cell_type": "code",
   "execution_count": null,
   "id": "5eae8eed",
   "metadata": {},
   "outputs": [],
   "source": [
    "cases"
   ]
  },
  {
   "cell_type": "code",
   "execution_count": null,
   "id": "4e73a37e",
   "metadata": {},
   "outputs": [],
   "source": [
    "case=pd.MultiIndex.from_product([['a','b'],['1','2']])"
   ]
  },
  {
   "cell_type": "code",
   "execution_count": null,
   "id": "d804e77e",
   "metadata": {
    "scrolled": true
   },
   "outputs": [],
   "source": [
    "case"
   ]
  },
  {
   "cell_type": "code",
   "execution_count": null,
   "id": "38121356",
   "metadata": {},
   "outputs": [],
   "source": [
    "list('ABCD')"
   ]
  },
  {
   "cell_type": "code",
   "execution_count": null,
   "id": "d46d0235",
   "metadata": {},
   "outputs": [],
   "source": [
    "index = [('California', 2000), ('California', 2010),\n",
    "('New York', 2000), ('New York', 2010),\n",
    "('Texas', 2000), ('Texas', 2010)]\n",
    "populations = [33871648, 37253956,\n",
    "18976457, 19378102,\n",
    "20851820, 25145561]\n",
    "pop = pd.Series(populations, index=index)"
   ]
  },
  {
   "cell_type": "code",
   "execution_count": null,
   "id": "a6c5dfe3",
   "metadata": {},
   "outputs": [],
   "source": [
    "pop"
   ]
  },
  {
   "cell_type": "code",
   "execution_count": null,
   "id": "7c5ea806",
   "metadata": {},
   "outputs": [],
   "source": [
    "pop__df=pd.DataFrame({'State':pop},index=pd.MultiIndex.from_tuples(index))"
   ]
  },
  {
   "cell_type": "code",
   "execution_count": null,
   "id": "770c032e",
   "metadata": {},
   "outputs": [],
   "source": [
    "pop__df"
   ]
  },
  {
   "cell_type": "code",
   "execution_count": null,
   "id": "d85adf25",
   "metadata": {},
   "outputs": [],
   "source": [
    "pop.index=pd.MultiIndex.from_tuples(index)"
   ]
  },
  {
   "cell_type": "code",
   "execution_count": null,
   "id": "1678cebb",
   "metadata": {},
   "outputs": [],
   "source": [
    "pop_df=pd.DataFrame({'everyone':pop,'u18':[9267089, 9284094, 4687374, 4318033,5906301, 6879014]})\n"
   ]
  },
  {
   "cell_type": "code",
   "execution_count": null,
   "id": "ac7f81da",
   "metadata": {},
   "outputs": [],
   "source": [
    "pop_df.index.names=['State','Year']"
   ]
  },
  {
   "cell_type": "code",
   "execution_count": null,
   "id": "29c2beb9",
   "metadata": {
    "scrolled": true
   },
   "outputs": [],
   "source": [
    "pop_df"
   ]
  },
  {
   "cell_type": "code",
   "execution_count": null,
   "id": "78620ed3",
   "metadata": {},
   "outputs": [],
   "source": [
    "pop[:,2000], pop[:,2010]"
   ]
  },
  {
   "cell_type": "code",
   "execution_count": null,
   "id": "daa77b74",
   "metadata": {},
   "outputs": [],
   "source": [
    "indices = pd.MultiIndex.from_product([[2013, 2014], [1, 2]],\n",
    "names=['Year', 'Visit'])"
   ]
  },
  {
   "cell_type": "code",
   "execution_count": null,
   "id": "e20fb68e",
   "metadata": {},
   "outputs": [],
   "source": [
    "indices"
   ]
  },
  {
   "cell_type": "code",
   "execution_count": null,
   "id": "c8217861",
   "metadata": {},
   "outputs": [],
   "source": [
    "cols=pd.MultiIndex.from_product([['Bob', 'Guido', 'Sue'], ['HR', 'Temp']],\n",
    "names=['Subject', 'Type'])"
   ]
  },
  {
   "cell_type": "code",
   "execution_count": null,
   "id": "3ed4b374",
   "metadata": {},
   "outputs": [],
   "source": [
    "cols"
   ]
  },
  {
   "cell_type": "code",
   "execution_count": null,
   "id": "79476877",
   "metadata": {},
   "outputs": [],
   "source": [
    "data = np.round(np.random.randn(4, 6), 2, out=data)\n",
    "# data[:, ::2] *= 10\n",
    "# data += 37"
   ]
  },
  {
   "cell_type": "code",
   "execution_count": null,
   "id": "40c9ef99",
   "metadata": {},
   "outputs": [],
   "source": [
    "data[:, ::2] *= 10\n",
    "data += 37"
   ]
  },
  {
   "cell_type": "code",
   "execution_count": null,
   "id": "2ef69a08",
   "metadata": {},
   "outputs": [],
   "source": [
    "data"
   ]
  },
  {
   "cell_type": "code",
   "execution_count": null,
   "id": "5c4d542b",
   "metadata": {},
   "outputs": [],
   "source": [
    "data"
   ]
  },
  {
   "cell_type": "code",
   "execution_count": null,
   "id": "dc652ff5",
   "metadata": {},
   "outputs": [],
   "source": [
    "-0.57+37"
   ]
  },
  {
   "cell_type": "code",
   "execution_count": null,
   "id": "a68a1a50",
   "metadata": {},
   "outputs": [],
   "source": [
    "med_rec=pd.DataFrame(data=data,index=indices,columns=cols)"
   ]
  },
  {
   "cell_type": "code",
   "execution_count": null,
   "id": "a1ea1826",
   "metadata": {},
   "outputs": [],
   "source": [
    "med_rec"
   ]
  },
  {
   "cell_type": "code",
   "execution_count": null,
   "id": "36fb30b5",
   "metadata": {},
   "outputs": [],
   "source": [
    "(med_rec['Bob']).shape"
   ]
  },
  {
   "cell_type": "code",
   "execution_count": null,
   "id": "2cb4a114",
   "metadata": {},
   "outputs": [],
   "source": [
    "(med_rec[['Bob']]).shape"
   ]
  },
  {
   "cell_type": "code",
   "execution_count": 145,
   "id": "004ed085",
   "metadata": {},
   "outputs": [],
   "source": [
    "index=pd.MultiIndex.from_product([['Jan','May','July'],list(range(1,32))])"
   ]
  },
  {
   "cell_type": "code",
   "execution_count": 146,
   "id": "2e33fe9c",
   "metadata": {},
   "outputs": [],
   "source": [
    "col=pd.MultiIndex.from_product([['Credit','Debit'],['First Quarter Hours','Second Quarter Hours','Third Quarter Hours','Fourth Quarter Hours']])"
   ]
  },
  {
   "cell_type": "code",
   "execution_count": 147,
   "id": "6f96e10f",
   "metadata": {},
   "outputs": [
    {
     "data": {
      "text/plain": [
       "MultiIndex([('Credit',  'First Quarter Hours'),\n",
       "            ('Credit', 'Second Quarter Hours'),\n",
       "            ('Credit',  'Third Quarter Hours'),\n",
       "            ('Credit', 'Fourth Quarter Hours'),\n",
       "            ( 'Debit',  'First Quarter Hours'),\n",
       "            ( 'Debit', 'Second Quarter Hours'),\n",
       "            ( 'Debit',  'Third Quarter Hours'),\n",
       "            ( 'Debit', 'Fourth Quarter Hours')],\n",
       "           )"
      ]
     },
     "execution_count": 147,
     "metadata": {},
     "output_type": "execute_result"
    }
   ],
   "source": [
    "col"
   ]
  },
  {
   "cell_type": "code",
   "execution_count": 148,
   "id": "f1f0afbb",
   "metadata": {
    "scrolled": true
   },
   "outputs": [
    {
     "ename": "NameError",
     "evalue": "name 'data' is not defined",
     "output_type": "error",
     "traceback": [
      "\u001b[1;31m---------------------------------------------------------------------------\u001b[0m",
      "\u001b[1;31mNameError\u001b[0m                                 Traceback (most recent call last)",
      "Input \u001b[1;32mIn [148]\u001b[0m, in \u001b[0;36m<cell line: 1>\u001b[1;34m()\u001b[0m\n\u001b[1;32m----> 1\u001b[0m contributions\u001b[38;5;241m=\u001b[39mpd\u001b[38;5;241m.\u001b[39mDataFrame(data\u001b[38;5;241m=\u001b[39m\u001b[43mdata\u001b[49m,index\u001b[38;5;241m=\u001b[39mindex, columns\u001b[38;5;241m=\u001b[39mcol)\n",
      "\u001b[1;31mNameError\u001b[0m: name 'data' is not defined"
     ]
    }
   ],
   "source": [
    "contributions=pd.DataFrame(data=data,index=index, columns=col)"
   ]
  },
  {
   "cell_type": "code",
   "execution_count": 149,
   "id": "0377bea9",
   "metadata": {},
   "outputs": [
    {
     "ename": "SyntaxError",
     "evalue": "invalid syntax (2524362538.py, line 1)",
     "output_type": "error",
     "traceback": [
      "\u001b[1;36m  Input \u001b[1;32mIn [149]\u001b[1;36m\u001b[0m\n\u001b[1;33m    `contributions.index.names=['Month','Date']\u001b[0m\n\u001b[1;37m    ^\u001b[0m\n\u001b[1;31mSyntaxError\u001b[0m\u001b[1;31m:\u001b[0m invalid syntax\n"
     ]
    }
   ],
   "source": [
    "`contributions.index.names=['Month','Date']"
   ]
  },
  {
   "cell_type": "code",
   "execution_count": null,
   "id": "f09585ed",
   "metadata": {},
   "outputs": [],
   "source": [
    "contributions.loc[:,('Credit','First Quarter Hours')]"
   ]
  },
  {
   "cell_type": "code",
   "execution_count": null,
   "id": "4ddeb829",
   "metadata": {},
   "outputs": [],
   "source": [
    "# %%timeit\n",
    "contributions.isna()"
   ]
  },
  {
   "cell_type": "code",
   "execution_count": null,
   "id": "957a55cc",
   "metadata": {},
   "outputs": [],
   "source": [
    "contributions.reset_index()"
   ]
  },
  {
   "cell_type": "code",
   "execution_count": null,
   "id": "56a7ffad",
   "metadata": {},
   "outputs": [],
   "source": [
    "med_rec"
   ]
  },
  {
   "cell_type": "code",
   "execution_count": null,
   "id": "cf5d8969",
   "metadata": {},
   "outputs": [],
   "source": [
    "bax=pd.MultiIndex.from_product([['A','B','C'],['1','2','3']])"
   ]
  },
  {
   "cell_type": "code",
   "execution_count": null,
   "id": "30dd22fc",
   "metadata": {},
   "outputs": [],
   "source": [
    "bax"
   ]
  },
  {
   "cell_type": "code",
   "execution_count": null,
   "id": "7ed9a186",
   "metadata": {},
   "outputs": [],
   "source": [
    "med_recmean=med_rec.groupby(level=0).mean()\n",
    "med_recmean"
   ]
  },
  {
   "cell_type": "code",
   "execution_count": null,
   "id": "353ec660",
   "metadata": {},
   "outputs": [],
   "source": [
    "med_recmean.groupby(level=0).mean()"
   ]
  },
  {
   "cell_type": "code",
   "execution_count": null,
   "id": "2bd84833",
   "metadata": {},
   "outputs": [],
   "source": [
    "arr=np.array([[4,9],[8,7]])"
   ]
  },
  {
   "cell_type": "code",
   "execution_count": null,
   "id": "3af2617a",
   "metadata": {},
   "outputs": [],
   "source": [
    "arr"
   ]
  },
  {
   "cell_type": "code",
   "execution_count": null,
   "id": "3da46bb4",
   "metadata": {},
   "outputs": [],
   "source": [
    "np.concatenate([arr,arr],axis=0)"
   ]
  },
  {
   "cell_type": "code",
   "execution_count": null,
   "id": "adfdfc7c",
   "metadata": {},
   "outputs": [],
   "source": [
    "print(__)"
   ]
  },
  {
   "cell_type": "code",
   "execution_count": null,
   "id": "66b2b343",
   "metadata": {},
   "outputs": [],
   "source": [
    "df6 = pd.DataFrame ({ 'name' : [ 'Peter' , 'Paul' , 'Mary' ],'food' : [ 'fish' , 'beans' , 'bread' ]},columns= [ 'name' , 'food' ])\n",
    "df7 = pd.DataFrame ({ 'name' : [ 'Mary' , 'Joseph' ],'drink' : [ 'wine' , 'beer' ]},columns= [ 'name' , 'drink' ])"
   ]
  },
  {
   "cell_type": "code",
   "execution_count": null,
   "id": "21b78363",
   "metadata": {},
   "outputs": [],
   "source": [
    "print(pd.merge(df6,df7,how='right'))"
   ]
  },
  {
   "cell_type": "code",
   "execution_count": null,
   "id": "5df8e5c5",
   "metadata": {},
   "outputs": [],
   "source": [
    "Fam1=pd.DataFrame({'Parents':['Father','Mom'],'names':['Amos','Mary'],\"Influence\":[2,1]})\n",
    "Fam2=pd.DataFrame({'Eltern':['Father','Mom'],'Salary':['200 000','150 000'], 'Position':[1,2]})"
   ]
  },
  {
   "cell_type": "code",
   "execution_count": null,
   "id": "854e34e7",
   "metadata": {},
   "outputs": [],
   "source": [
    "print(pd.merge(Fam1,Fam2,left_on='Parents',right_on='Eltern', suffixes=[' Pa',' Ma']).drop('Parents', axis=1))"
   ]
  },
  {
   "cell_type": "code",
   "execution_count": null,
   "id": "b693f547",
   "metadata": {},
   "outputs": [],
   "source": [
    "df8 = pd . DataFrame ({ 'name' : [ 'Bob' , 'Jake' , 'Lisa' , 'Sue' ],'rank' : [ 1 , 2 , 3 , 4 ]})\n",
    "df9 = pd . DataFrame ({ 'name' : [ 'Bob' , 'Jake' , 'Lisa' , 'Sue' ],'rank' : [ 3 , 1 , 4 , 2 ]})\n",
    "print(pd.merge(df8,df9,on='name'))"
   ]
  },
  {
   "cell_type": "code",
   "execution_count": null,
   "id": "cd1d033c",
   "metadata": {},
   "outputs": [],
   "source": []
  },
  {
   "cell_type": "code",
   "execution_count": null,
   "id": "13ec6aed",
   "metadata": {},
   "outputs": [],
   "source": [
    "%cd data-USstates/"
   ]
  },
  {
   "cell_type": "markdown",
   "id": "df1a9a34",
   "metadata": {},
   "source": [
    "# Example 2"
   ]
  },
  {
   "cell_type": "code",
   "execution_count": null,
   "id": "d1111439",
   "metadata": {},
   "outputs": [],
   "source": [
    "states_areas=pd.read_csv('state-areas.csv')\n",
    "states_pop=pd.read_csv('state-population.csv')\n",
    "states_abbrev=pd.read_csv('state-abbrevs.csv')"
   ]
  },
  {
   "cell_type": "code",
   "execution_count": null,
   "id": "479d2b71",
   "metadata": {
    "scrolled": true
   },
   "outputs": [],
   "source": [
    "states_abbrev"
   ]
  },
  {
   "cell_type": "code",
   "execution_count": null,
   "id": "aad55402",
   "metadata": {},
   "outputs": [],
   "source": [
    "a=states_abbrev['state'].sort_values(ascending=True)\n",
    "b=states_areas['state'].sort_values(ascending=True)\n",
    "# states_abbrev in states_area\n",
    "# print(a)\n",
    "# print(b)\n",
    "states_areas.iloc[23]"
   ]
  },
  {
   "cell_type": "code",
   "execution_count": null,
   "id": "e6767560",
   "metadata": {},
   "outputs": [],
   "source": [
    "\n",
    "# states_pop.sort_values()\n",
    "states_pop['state/region'].unique()"
   ]
  },
  {
   "cell_type": "code",
   "execution_count": null,
   "id": "f20be1d1",
   "metadata": {},
   "outputs": [],
   "source": [
    "pd.merge(states_abbrev,states_pop,right_on='state/region',left_on='state').drop('state/region',axis=1)"
   ]
  },
  {
   "cell_type": "code",
   "execution_count": 389,
   "id": "273cdba1",
   "metadata": {},
   "outputs": [],
   "source": [
    "alle=pd.merge(states_pop,states_abbrev, how='outer', left_on='state/region',right_on='abbreviation').drop('abbreviation', axis=1)"
   ]
  },
  {
   "cell_type": "code",
   "execution_count": null,
   "id": "d3a9936f",
   "metadata": {},
   "outputs": [],
   "source": [
    "alle.tail(6)"
   ]
  },
  {
   "cell_type": "code",
   "execution_count": null,
   "id": "b1707c5c",
   "metadata": {},
   "outputs": [],
   "source": [
    "alle.loc[alle['population']>1,]"
   ]
  },
  {
   "cell_type": "code",
   "execution_count": null,
   "id": "b0577ee8",
   "metadata": {},
   "outputs": [],
   "source": [
    "alle_nulls=alle[alle['state'].isnull()]"
   ]
  },
  {
   "cell_type": "code",
   "execution_count": null,
   "id": "44608137",
   "metadata": {},
   "outputs": [],
   "source": [
    "alle.stack()"
   ]
  },
  {
   "cell_type": "code",
   "execution_count": null,
   "id": "048300c0",
   "metadata": {},
   "outputs": [],
   "source": [
    "alle.loc[alle['state/region']=='PR','state']='Puerto Rico'\n",
    "alle.loc[alle['state/region']=='USA','state']='United State of America'"
   ]
  },
  {
   "cell_type": "code",
   "execution_count": null,
   "id": "9d940083",
   "metadata": {
    "scrolled": true
   },
   "outputs": [],
   "source": [
    "pop18=alle.loc[:,'ages':'population'].head()"
   ]
  },
  {
   "cell_type": "code",
   "execution_count": null,
   "id": "a3b81000",
   "metadata": {},
   "outputs": [],
   "source": [
    "alle.set_index=['ages']"
   ]
  },
  {
   "cell_type": "code",
   "execution_count": null,
   "id": "3f54d268",
   "metadata": {},
   "outputs": [],
   "source": [
    "alle[alle['state'].isnull()]\n",
    "alle.loc[['state/region']=='PR','state']"
   ]
  },
  {
   "cell_type": "code",
   "execution_count": null,
   "id": "b2f412ab",
   "metadata": {
    "scrolled": false
   },
   "outputs": [],
   "source": [
    "calle.groupby('ages')['population']"
   ]
  },
  {
   "cell_type": "code",
   "execution_count": null,
   "id": "239d6917",
   "metadata": {},
   "outputs": [],
   "source": [
    "for"
   ]
  },
  {
   "cell_type": "code",
   "execution_count": null,
   "id": "e20d6563",
   "metadata": {},
   "outputs": [],
   "source": [
    "all_data=pd.merge(states_areas,alle,on='state',how='outer',)"
   ]
  },
  {
   "cell_type": "code",
   "execution_count": null,
   "id": "0268c3ab",
   "metadata": {},
   "outputs": [],
   "source": [
    "all_data.columns"
   ]
  },
  {
   "cell_type": "code",
   "execution_count": null,
   "id": "a73c176b",
   "metadata": {
    "scrolled": true
   },
   "outputs": [],
   "source": [
    "all_data.isnull().any()"
   ]
  },
  {
   "cell_type": "code",
   "execution_count": null,
   "id": "d79abb41",
   "metadata": {},
   "outputs": [],
   "source": [
    "# all_data['state'][all_data['area (sq. mi)'].isnull()]\n",
    "all_data.loc[all_data['area (sq. mi)'].isnull(),'state'].unique()"
   ]
  },
  {
   "cell_type": "code",
   "execution_count": null,
   "id": "b8f34da7",
   "metadata": {},
   "outputs": [],
   "source": [
    "all_data=all_data.dropna()"
   ]
  },
  {
   "cell_type": "code",
   "execution_count": null,
   "id": "c9535293",
   "metadata": {
    "scrolled": true
   },
   "outputs": [],
   "source": [
    "all_data.isnull().any()"
   ]
  },
  {
   "cell_type": "code",
   "execution_count": null,
   "id": "9c32eca1",
   "metadata": {},
   "outputs": [],
   "source": [
    "all_total_2010=all_data.query(\"year==2010 & ages=='total'\")"
   ]
  },
  {
   "cell_type": "code",
   "execution_count": null,
   "id": "880b81dd",
   "metadata": {},
   "outputs": [],
   "source": [
    "all_total_2010.head()"
   ]
  },
  {
   "cell_type": "code",
   "execution_count": null,
   "id": "eb8e7f71",
   "metadata": {},
   "outputs": [],
   "source": [
    "all_total_2010.head(1)\n",
    "all_total_2010.columns"
   ]
  },
  {
   "cell_type": "code",
   "execution_count": null,
   "id": "abc5df61",
   "metadata": {
    "scrolled": true
   },
   "outputs": [],
   "source": [
    "all_total_2010.set_index(['state','state/region'], inplace=True)"
   ]
  },
  {
   "cell_type": "code",
   "execution_count": null,
   "id": "4242a023",
   "metadata": {},
   "outputs": [],
   "source": [
    "dense2010=all_total_2010['population']/all_total_2010['area (sq. mi)']"
   ]
  },
  {
   "cell_type": "code",
   "execution_count": null,
   "id": "0b673e76",
   "metadata": {},
   "outputs": [],
   "source": [
    "dense2010.sort_values(ascending=True)"
   ]
  },
  {
   "cell_type": "code",
   "execution_count": null,
   "id": "8a81283f",
   "metadata": {},
   "outputs": [],
   "source": [
    "dense2010.max()"
   ]
  },
  {
   "cell_type": "code",
   "execution_count": null,
   "id": "45ba1a7b",
   "metadata": {},
   "outputs": [],
   "source": [
    "PR_1=alle[(alle['state/region']=='PR')&(alle['population']>1)]\n",
    "PR_1q=PR_1.query('ages==\"under18\" & year>2000')"
   ]
  },
  {
   "cell_type": "code",
   "execution_count": null,
   "id": "a52c5bcb",
   "metadata": {
    "scrolled": true
   },
   "outputs": [],
   "source": [
    "alle.head(6)"
   ]
  },
  {
   "cell_type": "code",
   "execution_count": null,
   "id": "e6b8a723",
   "metadata": {},
   "outputs": [],
   "source": [
    "PR_1q.reset_index(drop=True,inplace=True)"
   ]
  },
  {
   "cell_type": "code",
   "execution_count": null,
   "id": "e0941af8",
   "metadata": {},
   "outputs": [],
   "source": [
    "alle.set_index(['state','ages'])"
   ]
  },
  {
   "cell_type": "code",
   "execution_count": null,
   "id": "6f0eea12",
   "metadata": {},
   "outputs": [],
   "source": [
    "alle[alle['ages']=='total']"
   ]
  },
  {
   "cell_type": "code",
   "execution_count": null,
   "id": "d31663b0",
   "metadata": {},
   "outputs": [],
   "source": [
    "alle.iloc[53:59]"
   ]
  },
  {
   "cell_type": "code",
   "execution_count": null,
   "id": "616c8bbe",
   "metadata": {},
   "outputs": [],
   "source": []
  },
  {
   "cell_type": "code",
   "execution_count": null,
   "id": "6c0d5547",
   "metadata": {},
   "outputs": [],
   "source": [
    "alle.loc[alle['year']>2010,'year':'state']"
   ]
  },
  {
   "cell_type": "code",
   "execution_count": null,
   "id": "e1431456",
   "metadata": {},
   "outputs": [],
   "source": [
    "alle.groupby('ages').aggregate(['min',np.median,max])"
   ]
  },
  {
   "cell_type": "code",
   "execution_count": null,
   "id": "68dbdcab",
   "metadata": {
    "scrolled": true
   },
   "outputs": [],
   "source": [
    "alle.groupby('year')['population'].sum()"
   ]
  },
  {
   "cell_type": "markdown",
   "id": "71703552",
   "metadata": {},
   "source": [
    "# Example 3"
   ]
  },
  {
   "cell_type": "code",
   "execution_count": 2,
   "id": "b0f5e567",
   "metadata": {},
   "outputs": [],
   "source": [
    "planets_data=sns.load_dataset('planets')"
   ]
  },
  {
   "cell_type": "code",
   "execution_count": 13,
   "id": "4af4cba6",
   "metadata": {},
   "outputs": [
    {
     "data": {
      "text/html": [
       "<div>\n",
       "<style scoped>\n",
       "    .dataframe tbody tr th:only-of-type {\n",
       "        vertical-align: middle;\n",
       "    }\n",
       "\n",
       "    .dataframe tbody tr th {\n",
       "        vertical-align: top;\n",
       "    }\n",
       "\n",
       "    .dataframe thead th {\n",
       "        text-align: right;\n",
       "    }\n",
       "</style>\n",
       "<table border=\"1\" class=\"dataframe\">\n",
       "  <thead>\n",
       "    <tr style=\"text-align: right;\">\n",
       "      <th></th>\n",
       "      <th>method</th>\n",
       "      <th>number</th>\n",
       "      <th>orbital_period</th>\n",
       "      <th>mass</th>\n",
       "      <th>distance</th>\n",
       "      <th>year</th>\n",
       "    </tr>\n",
       "  </thead>\n",
       "  <tbody>\n",
       "    <tr>\n",
       "      <th>0</th>\n",
       "      <td>Radial Velocity</td>\n",
       "      <td>1</td>\n",
       "      <td>269.300</td>\n",
       "      <td>7.10</td>\n",
       "      <td>77.40</td>\n",
       "      <td>2006</td>\n",
       "    </tr>\n",
       "    <tr>\n",
       "      <th>1</th>\n",
       "      <td>Radial Velocity</td>\n",
       "      <td>1</td>\n",
       "      <td>874.774</td>\n",
       "      <td>2.21</td>\n",
       "      <td>56.95</td>\n",
       "      <td>2008</td>\n",
       "    </tr>\n",
       "    <tr>\n",
       "      <th>2</th>\n",
       "      <td>Radial Velocity</td>\n",
       "      <td>1</td>\n",
       "      <td>763.000</td>\n",
       "      <td>2.60</td>\n",
       "      <td>19.84</td>\n",
       "      <td>2011</td>\n",
       "    </tr>\n",
       "    <tr>\n",
       "      <th>3</th>\n",
       "      <td>Radial Velocity</td>\n",
       "      <td>1</td>\n",
       "      <td>326.030</td>\n",
       "      <td>19.40</td>\n",
       "      <td>110.62</td>\n",
       "      <td>2007</td>\n",
       "    </tr>\n",
       "    <tr>\n",
       "      <th>4</th>\n",
       "      <td>Radial Velocity</td>\n",
       "      <td>1</td>\n",
       "      <td>516.220</td>\n",
       "      <td>10.50</td>\n",
       "      <td>119.47</td>\n",
       "      <td>2009</td>\n",
       "    </tr>\n",
       "  </tbody>\n",
       "</table>\n",
       "</div>"
      ],
      "text/plain": [
       "            method  number  orbital_period   mass  distance  year\n",
       "0  Radial Velocity       1         269.300   7.10     77.40  2006\n",
       "1  Radial Velocity       1         874.774   2.21     56.95  2008\n",
       "2  Radial Velocity       1         763.000   2.60     19.84  2011\n",
       "3  Radial Velocity       1         326.030  19.40    110.62  2007\n",
       "4  Radial Velocity       1         516.220  10.50    119.47  2009"
      ]
     },
     "execution_count": 13,
     "metadata": {},
     "output_type": "execute_result"
    }
   ],
   "source": [
    "planets_data.head()\n",
    "# planets_data.shape"
   ]
  },
  {
   "cell_type": "code",
   "execution_count": 11,
   "id": "196482c9",
   "metadata": {},
   "outputs": [
    {
     "name": "stdout",
     "output_type": "stream",
     "text": [
      "<class 'pandas.core.frame.DataFrame'>\n",
      "RangeIndex: 1035 entries, 0 to 1034\n",
      "Data columns (total 6 columns):\n",
      " #   Column          Non-Null Count  Dtype  \n",
      "---  ------          --------------  -----  \n",
      " 0   method          1035 non-null   object \n",
      " 1   number          1035 non-null   int64  \n",
      " 2   orbital_period  992 non-null    float64\n",
      " 3   mass            513 non-null    float64\n",
      " 4   distance        808 non-null    float64\n",
      " 5   year            1035 non-null   int64  \n",
      "dtypes: float64(3), int64(2), object(1)\n",
      "memory usage: 48.6+ KB\n"
     ]
    }
   ],
   "source": [
    "planets_data.info()"
   ]
  },
  {
   "cell_type": "code",
   "execution_count": 38,
   "id": "326380f9",
   "metadata": {},
   "outputs": [
    {
     "data": {
      "text/plain": [
       "method              0\n",
       "number              0\n",
       "orbital_period     43\n",
       "mass              522\n",
       "distance          227\n",
       "year                0\n",
       "dtype: int64"
      ]
     },
     "execution_count": 38,
     "metadata": {},
     "output_type": "execute_result"
    }
   ],
   "source": [
    "planets_data.isnull().sum()"
   ]
  },
  {
   "cell_type": "code",
   "execution_count": 58,
   "id": "adc3570b",
   "metadata": {},
   "outputs": [
    {
     "data": {
      "text/html": [
       "<div>\n",
       "<style scoped>\n",
       "    .dataframe tbody tr th:only-of-type {\n",
       "        vertical-align: middle;\n",
       "    }\n",
       "\n",
       "    .dataframe tbody tr th {\n",
       "        vertical-align: top;\n",
       "    }\n",
       "\n",
       "    .dataframe thead th {\n",
       "        text-align: right;\n",
       "    }\n",
       "</style>\n",
       "<table border=\"1\" class=\"dataframe\">\n",
       "  <thead>\n",
       "    <tr style=\"text-align: right;\">\n",
       "      <th></th>\n",
       "      <th>method</th>\n",
       "      <th>number</th>\n",
       "      <th>orbital_period</th>\n",
       "      <th>mass</th>\n",
       "      <th>distance</th>\n",
       "      <th>year</th>\n",
       "    </tr>\n",
       "  </thead>\n",
       "  <tbody>\n",
       "    <tr>\n",
       "      <th>7</th>\n",
       "      <td>Radial Velocity</td>\n",
       "      <td>1</td>\n",
       "      <td>798.500000</td>\n",
       "      <td>NaN</td>\n",
       "      <td>21.41</td>\n",
       "      <td>1996</td>\n",
       "    </tr>\n",
       "    <tr>\n",
       "      <th>20</th>\n",
       "      <td>Radial Velocity</td>\n",
       "      <td>5</td>\n",
       "      <td>0.736540</td>\n",
       "      <td>NaN</td>\n",
       "      <td>12.53</td>\n",
       "      <td>2011</td>\n",
       "    </tr>\n",
       "    <tr>\n",
       "      <th>25</th>\n",
       "      <td>Radial Velocity</td>\n",
       "      <td>1</td>\n",
       "      <td>116.688400</td>\n",
       "      <td>NaN</td>\n",
       "      <td>18.11</td>\n",
       "      <td>1996</td>\n",
       "    </tr>\n",
       "    <tr>\n",
       "      <th>26</th>\n",
       "      <td>Radial Velocity</td>\n",
       "      <td>1</td>\n",
       "      <td>691.900000</td>\n",
       "      <td>NaN</td>\n",
       "      <td>81.50</td>\n",
       "      <td>2012</td>\n",
       "    </tr>\n",
       "    <tr>\n",
       "      <th>29</th>\n",
       "      <td>Imaging</td>\n",
       "      <td>1</td>\n",
       "      <td>NaN</td>\n",
       "      <td>NaN</td>\n",
       "      <td>45.52</td>\n",
       "      <td>2005</td>\n",
       "    </tr>\n",
       "    <tr>\n",
       "      <th>...</th>\n",
       "      <td>...</td>\n",
       "      <td>...</td>\n",
       "      <td>...</td>\n",
       "      <td>...</td>\n",
       "      <td>...</td>\n",
       "      <td>...</td>\n",
       "    </tr>\n",
       "    <tr>\n",
       "      <th>1030</th>\n",
       "      <td>Transit</td>\n",
       "      <td>1</td>\n",
       "      <td>3.941507</td>\n",
       "      <td>NaN</td>\n",
       "      <td>172.00</td>\n",
       "      <td>2006</td>\n",
       "    </tr>\n",
       "    <tr>\n",
       "      <th>1031</th>\n",
       "      <td>Transit</td>\n",
       "      <td>1</td>\n",
       "      <td>2.615864</td>\n",
       "      <td>NaN</td>\n",
       "      <td>148.00</td>\n",
       "      <td>2007</td>\n",
       "    </tr>\n",
       "    <tr>\n",
       "      <th>1032</th>\n",
       "      <td>Transit</td>\n",
       "      <td>1</td>\n",
       "      <td>3.191524</td>\n",
       "      <td>NaN</td>\n",
       "      <td>174.00</td>\n",
       "      <td>2007</td>\n",
       "    </tr>\n",
       "    <tr>\n",
       "      <th>1033</th>\n",
       "      <td>Transit</td>\n",
       "      <td>1</td>\n",
       "      <td>4.125083</td>\n",
       "      <td>NaN</td>\n",
       "      <td>293.00</td>\n",
       "      <td>2008</td>\n",
       "    </tr>\n",
       "    <tr>\n",
       "      <th>1034</th>\n",
       "      <td>Transit</td>\n",
       "      <td>1</td>\n",
       "      <td>4.187757</td>\n",
       "      <td>NaN</td>\n",
       "      <td>260.00</td>\n",
       "      <td>2008</td>\n",
       "    </tr>\n",
       "  </tbody>\n",
       "</table>\n",
       "<p>537 rows × 6 columns</p>\n",
       "</div>"
      ],
      "text/plain": [
       "               method  number  orbital_period  mass  distance  year\n",
       "7     Radial Velocity       1      798.500000   NaN     21.41  1996\n",
       "20    Radial Velocity       5        0.736540   NaN     12.53  2011\n",
       "25    Radial Velocity       1      116.688400   NaN     18.11  1996\n",
       "26    Radial Velocity       1      691.900000   NaN     81.50  2012\n",
       "29            Imaging       1             NaN   NaN     45.52  2005\n",
       "...               ...     ...             ...   ...       ...   ...\n",
       "1030          Transit       1        3.941507   NaN    172.00  2006\n",
       "1031          Transit       1        2.615864   NaN    148.00  2007\n",
       "1032          Transit       1        3.191524   NaN    174.00  2007\n",
       "1033          Transit       1        4.125083   NaN    293.00  2008\n",
       "1034          Transit       1        4.187757   NaN    260.00  2008\n",
       "\n",
       "[537 rows x 6 columns]"
      ]
     },
     "execution_count": 58,
     "metadata": {},
     "output_type": "execute_result"
    }
   ],
   "source": [
    "planets_data[planets_data.isna().any(axis=1)]\n",
    "# planets_data.loc[planets_data['method'].isna():planets_data['mass'].isna()]\n",
    "# planets_data.notna()\n",
    "# planets_data.shape"
   ]
  },
  {
   "cell_type": "code",
   "execution_count": 125,
   "id": "a04b2d29",
   "metadata": {},
   "outputs": [
    {
     "name": "stderr",
     "output_type": "stream",
     "text": [
      "C:\\Users\\AMOS OSHIYOYE\\AppData\\Local\\Temp\\ipykernel_8248\\217519763.py:3: SettingWithCopyWarning: \n",
      "A value is trying to be set on a copy of a slice from a DataFrame\n",
      "\n",
      "See the caveats in the documentation: https://pandas.pydata.org/pandas-docs/stable/user_guide/indexing.html#returning-a-view-versus-a-copy\n",
      "  planets_data_nd.sort_values(by='year', inplace=True)\n"
     ]
    }
   ],
   "source": [
    "#dropped all NaN data\n",
    "planets_data_nd=planets_data.dropna()\n",
    "planets_data_nd.sort_values(by='year', inplace=True)\n",
    "planets_data_nd.reset_index(drop=True, inplace=True)\n",
    "planets_data_nd.index=planets_data_nd.index+1"
   ]
  },
  {
   "cell_type": "code",
   "execution_count": 116,
   "id": "50883dd9",
   "metadata": {},
   "outputs": [
    {
     "data": {
      "text/plain": [
       "Index(['method', 'number', 'orbital_period', 'mass', 'distance', 'year'], dtype='object')"
      ]
     },
     "execution_count": 116,
     "metadata": {},
     "output_type": "execute_result"
    }
   ],
   "source": [
    "planets_data_nd.columns"
   ]
  },
  {
   "cell_type": "code",
   "execution_count": 158,
   "id": "a417f7ee",
   "metadata": {
    "scrolled": false
   },
   "outputs": [
    {
     "data": {
      "text/html": [
       "<div>\n",
       "<style scoped>\n",
       "    .dataframe tbody tr th:only-of-type {\n",
       "        vertical-align: middle;\n",
       "    }\n",
       "\n",
       "    .dataframe tbody tr th {\n",
       "        vertical-align: top;\n",
       "    }\n",
       "\n",
       "    .dataframe thead th {\n",
       "        text-align: right;\n",
       "    }\n",
       "</style>\n",
       "<table border=\"1\" class=\"dataframe\">\n",
       "  <thead>\n",
       "    <tr style=\"text-align: right;\">\n",
       "      <th></th>\n",
       "      <th>method</th>\n",
       "      <th>number</th>\n",
       "      <th>orbital_period</th>\n",
       "      <th>mass</th>\n",
       "      <th>distance</th>\n",
       "      <th>year</th>\n",
       "    </tr>\n",
       "  </thead>\n",
       "  <tbody>\n",
       "    <tr>\n",
       "      <th>69</th>\n",
       "      <td>Radial Velocity</td>\n",
       "      <td>1</td>\n",
       "      <td>1289.0</td>\n",
       "      <td>3.0</td>\n",
       "      <td>46.93</td>\n",
       "      <td>2002</td>\n",
       "    </tr>\n",
       "    <tr>\n",
       "      <th>193</th>\n",
       "      <td>Radial Velocity</td>\n",
       "      <td>3</td>\n",
       "      <td>559.4</td>\n",
       "      <td>3.0</td>\n",
       "      <td>52.83</td>\n",
       "      <td>2007</td>\n",
       "    </tr>\n",
       "    <tr>\n",
       "      <th>264</th>\n",
       "      <td>Radial Velocity</td>\n",
       "      <td>1</td>\n",
       "      <td>2097.0</td>\n",
       "      <td>3.0</td>\n",
       "      <td>85.18</td>\n",
       "      <td>2009</td>\n",
       "    </tr>\n",
       "  </tbody>\n",
       "</table>\n",
       "</div>"
      ],
      "text/plain": [
       "              method  number  orbital_period  mass  distance  year\n",
       "69   Radial Velocity       1          1289.0   3.0     46.93  2002\n",
       "193  Radial Velocity       3           559.4   3.0     52.83  2007\n",
       "264  Radial Velocity       1          2097.0   3.0     85.18  2009"
      ]
     },
     "execution_count": 158,
     "metadata": {},
     "output_type": "execute_result"
    }
   ],
   "source": [
    "planets_data_nd[planets_data_nd.loc[:,'mass']==3]"
   ]
  },
  {
   "cell_type": "code",
   "execution_count": 75,
   "id": "7fd1b481",
   "metadata": {},
   "outputs": [],
   "source": [
    "# to reload PLT\n",
    "from importlib import reload\n",
    "plt=reload(plt)"
   ]
  },
  {
   "cell_type": "code",
   "execution_count": 134,
   "id": "929b19f3",
   "metadata": {},
   "outputs": [
    {
     "data": {
      "text/plain": [
       "Index(['method', 'number', 'orbital_period', 'mass', 'distance', 'year'], dtype='object')"
      ]
     },
     "execution_count": 134,
     "metadata": {},
     "output_type": "execute_result"
    }
   ],
   "source": [
    "planets_data_nd.columns"
   ]
  },
  {
   "cell_type": "code",
   "execution_count": 132,
   "id": "ac32ec3d",
   "metadata": {},
   "outputs": [],
   "source": [
    "from sklearn.linear_model import LinearRegression\n",
    "from sklearn.model_selection import train_test_split \n",
    "model_planets=LinearRegression()"
   ]
  },
  {
   "cell_type": "code",
   "execution_count": 262,
   "id": "3830ea82",
   "metadata": {},
   "outputs": [],
   "source": [
    "X=planets_data_nd[['orbital_period']]\n",
    "Y=planets_data_nd['year']"
   ]
  },
  {
   "cell_type": "code",
   "execution_count": 263,
   "id": "ab96ab8a",
   "metadata": {
    "scrolled": true
   },
   "outputs": [],
   "source": [
    "X_train,X_test,Y_train,Y_test=train_test_split(X,Y,test_size=0.3)"
   ]
  },
  {
   "cell_type": "code",
   "execution_count": 264,
   "id": "9742bee9",
   "metadata": {
    "scrolled": true
   },
   "outputs": [
    {
     "data": {
      "text/html": [
       "<style>#sk-container-id-7 {color: black;background-color: white;}#sk-container-id-7 pre{padding: 0;}#sk-container-id-7 div.sk-toggleable {background-color: white;}#sk-container-id-7 label.sk-toggleable__label {cursor: pointer;display: block;width: 100%;margin-bottom: 0;padding: 0.3em;box-sizing: border-box;text-align: center;}#sk-container-id-7 label.sk-toggleable__label-arrow:before {content: \"▸\";float: left;margin-right: 0.25em;color: #696969;}#sk-container-id-7 label.sk-toggleable__label-arrow:hover:before {color: black;}#sk-container-id-7 div.sk-estimator:hover label.sk-toggleable__label-arrow:before {color: black;}#sk-container-id-7 div.sk-toggleable__content {max-height: 0;max-width: 0;overflow: hidden;text-align: left;background-color: #f0f8ff;}#sk-container-id-7 div.sk-toggleable__content pre {margin: 0.2em;color: black;border-radius: 0.25em;background-color: #f0f8ff;}#sk-container-id-7 input.sk-toggleable__control:checked~div.sk-toggleable__content {max-height: 200px;max-width: 100%;overflow: auto;}#sk-container-id-7 input.sk-toggleable__control:checked~label.sk-toggleable__label-arrow:before {content: \"▾\";}#sk-container-id-7 div.sk-estimator input.sk-toggleable__control:checked~label.sk-toggleable__label {background-color: #d4ebff;}#sk-container-id-7 div.sk-label input.sk-toggleable__control:checked~label.sk-toggleable__label {background-color: #d4ebff;}#sk-container-id-7 input.sk-hidden--visually {border: 0;clip: rect(1px 1px 1px 1px);clip: rect(1px, 1px, 1px, 1px);height: 1px;margin: -1px;overflow: hidden;padding: 0;position: absolute;width: 1px;}#sk-container-id-7 div.sk-estimator {font-family: monospace;background-color: #f0f8ff;border: 1px dotted black;border-radius: 0.25em;box-sizing: border-box;margin-bottom: 0.5em;}#sk-container-id-7 div.sk-estimator:hover {background-color: #d4ebff;}#sk-container-id-7 div.sk-parallel-item::after {content: \"\";width: 100%;border-bottom: 1px solid gray;flex-grow: 1;}#sk-container-id-7 div.sk-label:hover label.sk-toggleable__label {background-color: #d4ebff;}#sk-container-id-7 div.sk-serial::before {content: \"\";position: absolute;border-left: 1px solid gray;box-sizing: border-box;top: 0;bottom: 0;left: 50%;z-index: 0;}#sk-container-id-7 div.sk-serial {display: flex;flex-direction: column;align-items: center;background-color: white;padding-right: 0.2em;padding-left: 0.2em;position: relative;}#sk-container-id-7 div.sk-item {position: relative;z-index: 1;}#sk-container-id-7 div.sk-parallel {display: flex;align-items: stretch;justify-content: center;background-color: white;position: relative;}#sk-container-id-7 div.sk-item::before, #sk-container-id-7 div.sk-parallel-item::before {content: \"\";position: absolute;border-left: 1px solid gray;box-sizing: border-box;top: 0;bottom: 0;left: 50%;z-index: -1;}#sk-container-id-7 div.sk-parallel-item {display: flex;flex-direction: column;z-index: 1;position: relative;background-color: white;}#sk-container-id-7 div.sk-parallel-item:first-child::after {align-self: flex-end;width: 50%;}#sk-container-id-7 div.sk-parallel-item:last-child::after {align-self: flex-start;width: 50%;}#sk-container-id-7 div.sk-parallel-item:only-child::after {width: 0;}#sk-container-id-7 div.sk-dashed-wrapped {border: 1px dashed gray;margin: 0 0.4em 0.5em 0.4em;box-sizing: border-box;padding-bottom: 0.4em;background-color: white;}#sk-container-id-7 div.sk-label label {font-family: monospace;font-weight: bold;display: inline-block;line-height: 1.2em;}#sk-container-id-7 div.sk-label-container {text-align: center;}#sk-container-id-7 div.sk-container {/* jupyter's `normalize.less` sets `[hidden] { display: none; }` but bootstrap.min.css set `[hidden] { display: none !important; }` so we also need the `!important` here to be able to override the default hidden behavior on the sphinx rendered scikit-learn.org. See: https://github.com/scikit-learn/scikit-learn/issues/21755 */display: inline-block !important;position: relative;}#sk-container-id-7 div.sk-text-repr-fallback {display: none;}</style><div id=\"sk-container-id-7\" class=\"sk-top-container\"><div class=\"sk-text-repr-fallback\"><pre>LinearRegression()</pre><b>In a Jupyter environment, please rerun this cell to show the HTML representation or trust the notebook. <br />On GitHub, the HTML representation is unable to render, please try loading this page with nbviewer.org.</b></div><div class=\"sk-container\" hidden><div class=\"sk-item\"><div class=\"sk-estimator sk-toggleable\"><input class=\"sk-toggleable__control sk-hidden--visually\" id=\"sk-estimator-id-7\" type=\"checkbox\" checked><label for=\"sk-estimator-id-7\" class=\"sk-toggleable__label sk-toggleable__label-arrow\">LinearRegression</label><div class=\"sk-toggleable__content\"><pre>LinearRegression()</pre></div></div></div></div></div>"
      ],
      "text/plain": [
       "LinearRegression()"
      ]
     },
     "execution_count": 264,
     "metadata": {},
     "output_type": "execute_result"
    }
   ],
   "source": [
    "model_planets.fit(X_train,Y_train)"
   ]
  },
  {
   "cell_type": "code",
   "execution_count": 265,
   "id": "9fc855c2",
   "metadata": {},
   "outputs": [
    {
     "data": {
      "text/plain": [
       "array([0.00010721])"
      ]
     },
     "execution_count": 265,
     "metadata": {},
     "output_type": "execute_result"
    }
   ],
   "source": [
    "model_planets.coef_"
   ]
  },
  {
   "cell_type": "code",
   "execution_count": 266,
   "id": "38d7add5",
   "metadata": {},
   "outputs": [],
   "source": [
    "y_test_pred=model_planets.predict(X_test)\n",
    "# y_train_pred=model_planets.predict(X_train)"
   ]
  },
  {
   "cell_type": "code",
   "execution_count": 267,
   "id": "0f5acf3e",
   "metadata": {
    "scrolled": true
   },
   "outputs": [
    {
     "data": {
      "text/plain": [
       "<matplotlib.legend.Legend at 0x221cbc10>"
      ]
     },
     "execution_count": 267,
     "metadata": {},
     "output_type": "execute_result"
    },
    {
     "data": {
      "image/png": "[encoded data removed]",
      "text/plain": [
       "<Figure size 432x288 with 1 Axes>"
      ]
     },
     "metadata": {},
     "output_type": "display_data"
    }
   ],
   "source": [
    "plt.scatter(X_test,Y_test,label='testing data')\n",
    "plt.plot(X_test,y_test_pred,linewidth=3,linestyle='dashed', c='k',label='predicted data')\n",
    "plt.xlabel('Orbital Period')\n",
    "plt.title('Orbial Period against Year of the planetary bodies')\n",
    "plt.ylabel('Year')\n",
    "plt.legend()"
   ]
  },
  {
   "cell_type": "code",
   "execution_count": 253,
   "id": "c99a96fc",
   "metadata": {},
   "outputs": [
    {
     "data": {
      "text/plain": [
       "18.15"
      ]
     },
     "execution_count": 253,
     "metadata": {},
     "output_type": "execute_result"
    }
   ],
   "source": [
    "X_test.max(numeric_only=True).mass"
   ]
  },
  {
   "cell_type": "code",
   "execution_count": 255,
   "id": "d86c0cbc",
   "metadata": {},
   "outputs": [
    {
     "data": {
      "text/plain": [
       "Text(0, 0.5, 'residuals')"
      ]
     },
     "execution_count": 255,
     "metadata": {},
     "output_type": "execute_result"
    },
    {
     "data": {
      "image/png": "[encoded data removed]",
      "text/plain": [
       "<Figure size 432x288 with 1 Axes>"
      ]
     },
     "metadata": {},
     "output_type": "display_data"
    }
   ],
   "source": [
    "plt.scatter(X_test,residuals)\n",
    "\n",
    "plt.hlines(y=0,xmin=X_test.min(), xmax=X_test.max(),colors='k',linestyles='dashed')\n",
    "plt.xlim(0,X_test.max().mass+2)\n",
    "plt.xlabel('Distance')\n",
    "plt.ylabel('residuals')"
   ]
  },
  {
   "cell_type": "code",
   "execution_count": 247,
   "id": "98f17843",
   "metadata": {},
   "outputs": [
    {
     "data": {
      "text/plain": [
       "15.60976323626788"
      ]
     },
     "execution_count": 247,
     "metadata": {},
     "output_type": "execute_result"
    }
   ],
   "source": [
    "residuals=Y_test-y_test_pred\n",
    "(residuals**2).mean()"
   ]
  },
  {
   "cell_type": "code",
   "execution_count": 256,
   "id": "cf9f8c75",
   "metadata": {},
   "outputs": [
    {
     "data": {
      "text/plain": [
       "15.60976323626788"
      ]
     },
     "execution_count": 256,
     "metadata": {},
     "output_type": "execute_result"
    }
   ],
   "source": [
    "from sklearn.metrics import mean_squared_error\n",
    "mean_squared_error(Y_test,y_test_pred)"
   ]
  },
  {
   "cell_type": "code",
   "execution_count": 258,
   "id": "f4d12cd3",
   "metadata": {},
   "outputs": [
    {
     "data": {
      "text/plain": [
       "-0.02906437977154197"
      ]
     },
     "execution_count": 258,
     "metadata": {},
     "output_type": "execute_result"
    }
   ],
   "source": [
    "model_planets.score(X_test,Y_test)"
   ]
  },
  {
   "cell_type": "code",
   "execution_count": 261,
   "id": "928e5f6b",
   "metadata": {},
   "outputs": [
    {
     "data": {
      "text/html": [
       "<div>\n",
       "<style scoped>\n",
       "    .dataframe tbody tr th:only-of-type {\n",
       "        vertical-align: middle;\n",
       "    }\n",
       "\n",
       "    .dataframe tbody tr th {\n",
       "        vertical-align: top;\n",
       "    }\n",
       "\n",
       "    .dataframe thead th {\n",
       "        text-align: right;\n",
       "    }\n",
       "</style>\n",
       "<table border=\"1\" class=\"dataframe\">\n",
       "  <thead>\n",
       "    <tr style=\"text-align: right;\">\n",
       "      <th></th>\n",
       "      <th>number</th>\n",
       "      <th>orbital_period</th>\n",
       "      <th>mass</th>\n",
       "      <th>distance</th>\n",
       "      <th>year</th>\n",
       "    </tr>\n",
       "  </thead>\n",
       "  <tbody>\n",
       "    <tr>\n",
       "      <th>number</th>\n",
       "      <td>1.000000</td>\n",
       "      <td>-0.059435</td>\n",
       "      <td>-0.249915</td>\n",
       "      <td>-0.288808</td>\n",
       "      <td>0.110399</td>\n",
       "    </tr>\n",
       "    <tr>\n",
       "      <th>orbital_period</th>\n",
       "      <td>-0.059435</td>\n",
       "      <td>1.000000</td>\n",
       "      <td>0.184906</td>\n",
       "      <td>-0.035069</td>\n",
       "      <td>0.070186</td>\n",
       "    </tr>\n",
       "    <tr>\n",
       "      <th>mass</th>\n",
       "      <td>-0.249915</td>\n",
       "      <td>0.184906</td>\n",
       "      <td>1.000000</td>\n",
       "      <td>0.274082</td>\n",
       "      <td>-0.137946</td>\n",
       "    </tr>\n",
       "    <tr>\n",
       "      <th>distance</th>\n",
       "      <td>-0.288808</td>\n",
       "      <td>-0.035069</td>\n",
       "      <td>0.274082</td>\n",
       "      <td>1.000000</td>\n",
       "      <td>0.193087</td>\n",
       "    </tr>\n",
       "    <tr>\n",
       "      <th>year</th>\n",
       "      <td>0.110399</td>\n",
       "      <td>0.070186</td>\n",
       "      <td>-0.137946</td>\n",
       "      <td>0.193087</td>\n",
       "      <td>1.000000</td>\n",
       "    </tr>\n",
       "  </tbody>\n",
       "</table>\n",
       "</div>"
      ],
      "text/plain": [
       "                  number  orbital_period      mass  distance      year\n",
       "number          1.000000       -0.059435 -0.249915 -0.288808  0.110399\n",
       "orbital_period -0.059435        1.000000  0.184906 -0.035069  0.070186\n",
       "mass           -0.249915        0.184906  1.000000  0.274082 -0.137946\n",
       "distance       -0.288808       -0.035069  0.274082  1.000000  0.193087\n",
       "year            0.110399        0.070186 -0.137946  0.193087  1.000000"
      ]
     },
     "execution_count": 261,
     "metadata": {},
     "output_type": "execute_result"
    }
   ],
   "source": [
    "planets_data_nd.corr()"
   ]
  },
  {
   "cell_type": "code",
   "execution_count": 88,
   "id": "8a9eefdc",
   "metadata": {
    "scrolled": true
   },
   "outputs": [
    {
     "name": "stderr",
     "output_type": "stream",
     "text": [
      "No artists with labels found to put in legend.  Note that artists whose label start with an underscore are ignored when legend() is called with no argument.\n"
     ]
    },
    {
     "data": {
      "image/png": "[encoded data removed]",
      "text/plain": [
       "<Figure size 432x288 with 1 Axes>"
      ]
     },
     "metadata": {},
     "output_type": "display_data"
    }
   ],
   "source": [
    "# fig=plt.figure()\n",
    "# plt.scatter(x='mass',y='distance',data=planets_data_nd)\n",
    "sns.scatterplot(x='orbital_period',y='mass', data=planets_data_nd)\n",
    "plt.legend()\n",
    "plt.xlabel('mass')\n",
    "plt.ylabel('distance')\n",
    "plt.title('Mass against Distance')\n",
    "plt.show()"
   ]
  },
  {
   "cell_type": "code",
   "execution_count": null,
   "id": "f48d5f67",
   "metadata": {},
   "outputs": [],
   "source": [
    "planets_data.sort_values(by='method',ascending=True)"
   ]
  },
  {
   "cell_type": "code",
   "execution_count": null,
   "id": "51ac27ab",
   "metadata": {},
   "outputs": [],
   "source": [
    "planets_data[planets_data['method']=='Transit Timing Variations']"
   ]
  },
  {
   "cell_type": "code",
   "execution_count": null,
   "id": "7263a34b",
   "metadata": {},
   "outputs": [],
   "source": [
    "planets_data.groupby('method')['year'].describe()"
   ]
  },
  {
   "cell_type": "code",
   "execution_count": null,
   "id": "d621862e",
   "metadata": {},
   "outputs": [],
   "source": [
    "planets_data[planets_data['method']=='Transit Timing Variations'].count()"
   ]
  },
  {
   "cell_type": "code",
   "execution_count": null,
   "id": "0075ceee",
   "metadata": {},
   "outputs": [],
   "source": [
    "for ( method , group ) in planets_data.groupby( 'method' ):\n",
    "    print ( \"{0:30s} shape={1}\" . format ( method , group.shape))"
   ]
  },
  {
   "cell_type": "code",
   "execution_count": null,
   "id": "c5b9e203",
   "metadata": {},
   "outputs": [],
   "source": [
    "decade = 10 * ( planets_data [ 'year' ] // 10 )\n",
    "decade = decade . astype ( str ) + 's'\n",
    "# decade . name = 'decade'\n",
    "planets_data . groupby ([ 'method' , decade ])[ 'number' ] . sum ().unstack(). fillna ( 0 )"
   ]
  },
  {
   "cell_type": "code",
   "execution_count": 554,
   "id": "3f1fa5be",
   "metadata": {},
   "outputs": [
    {
     "data": {
      "text/html": [
       "<div>\n",
       "<style scoped>\n",
       "    .dataframe tbody tr th:only-of-type {\n",
       "        vertical-align: middle;\n",
       "    }\n",
       "\n",
       "    .dataframe tbody tr th {\n",
       "        vertical-align: top;\n",
       "    }\n",
       "\n",
       "    .dataframe thead th {\n",
       "        text-align: right;\n",
       "    }\n",
       "</style>\n",
       "<table border=\"1\" class=\"dataframe\">\n",
       "  <thead>\n",
       "    <tr style=\"text-align: right;\">\n",
       "      <th></th>\n",
       "      <th>state/region</th>\n",
       "      <th>ages</th>\n",
       "      <th>year</th>\n",
       "      <th>population</th>\n",
       "      <th>state</th>\n",
       "    </tr>\n",
       "  </thead>\n",
       "  <tbody>\n",
       "    <tr>\n",
       "      <th>0</th>\n",
       "      <td>AL</td>\n",
       "      <td>under18</td>\n",
       "      <td>2012</td>\n",
       "      <td>1117489.0</td>\n",
       "      <td>Alabama</td>\n",
       "    </tr>\n",
       "    <tr>\n",
       "      <th>1</th>\n",
       "      <td>AL</td>\n",
       "      <td>total</td>\n",
       "      <td>2012</td>\n",
       "      <td>4817528.0</td>\n",
       "      <td>Alabama</td>\n",
       "    </tr>\n",
       "    <tr>\n",
       "      <th>2</th>\n",
       "      <td>AL</td>\n",
       "      <td>under18</td>\n",
       "      <td>2010</td>\n",
       "      <td>1130966.0</td>\n",
       "      <td>Alabama</td>\n",
       "    </tr>\n",
       "    <tr>\n",
       "      <th>3</th>\n",
       "      <td>AL</td>\n",
       "      <td>total</td>\n",
       "      <td>2010</td>\n",
       "      <td>4785570.0</td>\n",
       "      <td>Alabama</td>\n",
       "    </tr>\n",
       "    <tr>\n",
       "      <th>4</th>\n",
       "      <td>AL</td>\n",
       "      <td>under18</td>\n",
       "      <td>2011</td>\n",
       "      <td>1125763.0</td>\n",
       "      <td>Alabama</td>\n",
       "    </tr>\n",
       "  </tbody>\n",
       "</table>\n",
       "</div>"
      ],
      "text/plain": [
       "  state/region     ages  year  population    state\n",
       "0           AL  under18  2012   1117489.0  Alabama\n",
       "1           AL    total  2012   4817528.0  Alabama\n",
       "2           AL  under18  2010   1130966.0  Alabama\n",
       "3           AL    total  2010   4785570.0  Alabama\n",
       "4           AL  under18  2011   1125763.0  Alabama"
      ]
     },
     "execution_count": 554,
     "metadata": {},
     "output_type": "execute_result"
    }
   ],
   "source": [
    "alle.head()"
   ]
  },
  {
   "cell_type": "code",
   "execution_count": 556,
   "id": "4e18be32",
   "metadata": {},
   "outputs": [
    {
     "data": {
      "text/html": [
       "<div>\n",
       "<style scoped>\n",
       "    .dataframe tbody tr th:only-of-type {\n",
       "        vertical-align: middle;\n",
       "    }\n",
       "\n",
       "    .dataframe tbody tr th {\n",
       "        vertical-align: top;\n",
       "    }\n",
       "\n",
       "    .dataframe thead th {\n",
       "        text-align: right;\n",
       "    }\n",
       "</style>\n",
       "<table border=\"1\" class=\"dataframe\">\n",
       "  <thead>\n",
       "    <tr style=\"text-align: right;\">\n",
       "      <th></th>\n",
       "      <th>ages</th>\n",
       "    </tr>\n",
       "    <tr>\n",
       "      <th>year</th>\n",
       "      <th></th>\n",
       "    </tr>\n",
       "  </thead>\n",
       "  <tbody>\n",
       "    <tr>\n",
       "      <th>1990</th>\n",
       "      <td>under18totaltotalunder18under18totalunder18tot...</td>\n",
       "    </tr>\n",
       "    <tr>\n",
       "      <th>1991</th>\n",
       "      <td>totalunder18under18totalunder18totaltotalunder...</td>\n",
       "    </tr>\n",
       "    <tr>\n",
       "      <th>1992</th>\n",
       "      <td>under18totaltotalunder18under18totalunder18tot...</td>\n",
       "    </tr>\n",
       "    <tr>\n",
       "      <th>1993</th>\n",
       "      <td>totalunder18totalunder18totalunder18totalunder...</td>\n",
       "    </tr>\n",
       "    <tr>\n",
       "      <th>1994</th>\n",
       "      <td>totalunder18totalunder18under18totalunder18tot...</td>\n",
       "    </tr>\n",
       "    <tr>\n",
       "      <th>1995</th>\n",
       "      <td>totalunder18totalunder18totalunder18under18tot...</td>\n",
       "    </tr>\n",
       "    <tr>\n",
       "      <th>1996</th>\n",
       "      <td>totalunder18totalunder18under18totalunder18tot...</td>\n",
       "    </tr>\n",
       "    <tr>\n",
       "      <th>1997</th>\n",
       "      <td>under18totalunder18totaltotalunder18totalunder...</td>\n",
       "    </tr>\n",
       "    <tr>\n",
       "      <th>1998</th>\n",
       "      <td>totalunder18under18totaltotalunder18under18tot...</td>\n",
       "    </tr>\n",
       "    <tr>\n",
       "      <th>1999</th>\n",
       "      <td>under18totalunder18totalunder18totalunder18tot...</td>\n",
       "    </tr>\n",
       "    <tr>\n",
       "      <th>2000</th>\n",
       "      <td>totalunder18totalunder18totalunder18totalunder...</td>\n",
       "    </tr>\n",
       "    <tr>\n",
       "      <th>2001</th>\n",
       "      <td>totalunder18totalunder18totalunder18totalunder...</td>\n",
       "    </tr>\n",
       "    <tr>\n",
       "      <th>2002</th>\n",
       "      <td>totalunder18totalunder18totalunder18totalunder...</td>\n",
       "    </tr>\n",
       "    <tr>\n",
       "      <th>2003</th>\n",
       "      <td>totalunder18totalunder18totalunder18totalunder...</td>\n",
       "    </tr>\n",
       "    <tr>\n",
       "      <th>2004</th>\n",
       "      <td>totalunder18totalunder18totalunder18totalunder...</td>\n",
       "    </tr>\n",
       "    <tr>\n",
       "      <th>2005</th>\n",
       "      <td>totalunder18totalunder18totalunder18totalunder...</td>\n",
       "    </tr>\n",
       "    <tr>\n",
       "      <th>2006</th>\n",
       "      <td>totalunder18totalunder18totalunder18totalunder...</td>\n",
       "    </tr>\n",
       "    <tr>\n",
       "      <th>2007</th>\n",
       "      <td>totalunder18totalunder18totalunder18totalunder...</td>\n",
       "    </tr>\n",
       "    <tr>\n",
       "      <th>2008</th>\n",
       "      <td>totalunder18totalunder18totalunder18totalunder...</td>\n",
       "    </tr>\n",
       "    <tr>\n",
       "      <th>2009</th>\n",
       "      <td>totalunder18totalunder18totalunder18totalunder...</td>\n",
       "    </tr>\n",
       "    <tr>\n",
       "      <th>2010</th>\n",
       "      <td>under18totalunder18totalunder18totalunder18tot...</td>\n",
       "    </tr>\n",
       "    <tr>\n",
       "      <th>2011</th>\n",
       "      <td>under18totalunder18totalunder18totalunder18tot...</td>\n",
       "    </tr>\n",
       "    <tr>\n",
       "      <th>2012</th>\n",
       "      <td>under18totalunder18totalunder18totalunder18tot...</td>\n",
       "    </tr>\n",
       "    <tr>\n",
       "      <th>2013</th>\n",
       "      <td>under18totalunder18totalunder18totalunder18tot...</td>\n",
       "    </tr>\n",
       "  </tbody>\n",
       "</table>\n",
       "</div>"
      ],
      "text/plain": [
       "                                                   ages\n",
       "year                                                   \n",
       "1990  under18totaltotalunder18under18totalunder18tot...\n",
       "1991  totalunder18under18totalunder18totaltotalunder...\n",
       "1992  under18totaltotalunder18under18totalunder18tot...\n",
       "1993  totalunder18totalunder18totalunder18totalunder...\n",
       "1994  totalunder18totalunder18under18totalunder18tot...\n",
       "1995  totalunder18totalunder18totalunder18under18tot...\n",
       "1996  totalunder18totalunder18under18totalunder18tot...\n",
       "1997  under18totalunder18totaltotalunder18totalunder...\n",
       "1998  totalunder18under18totaltotalunder18under18tot...\n",
       "1999  under18totalunder18totalunder18totalunder18tot...\n",
       "2000  totalunder18totalunder18totalunder18totalunder...\n",
       "2001  totalunder18totalunder18totalunder18totalunder...\n",
       "2002  totalunder18totalunder18totalunder18totalunder...\n",
       "2003  totalunder18totalunder18totalunder18totalunder...\n",
       "2004  totalunder18totalunder18totalunder18totalunder...\n",
       "2005  totalunder18totalunder18totalunder18totalunder...\n",
       "2006  totalunder18totalunder18totalunder18totalunder...\n",
       "2007  totalunder18totalunder18totalunder18totalunder...\n",
       "2008  totalunder18totalunder18totalunder18totalunder...\n",
       "2009  totalunder18totalunder18totalunder18totalunder...\n",
       "2010  under18totalunder18totalunder18totalunder18tot...\n",
       "2011  under18totalunder18totalunder18totalunder18tot...\n",
       "2012  under18totalunder18totalunder18totalunder18tot...\n",
       "2013  under18totalunder18totalunder18totalunder18tot..."
      ]
     },
     "execution_count": 556,
     "metadata": {},
     "output_type": "execute_result"
    }
   ],
   "source": [
    "alle.groupby('year')[['ages']].sum()"
   ]
  },
  {
   "cell_type": "code",
   "execution_count": null,
   "id": "e49821a2",
   "metadata": {},
   "outputs": [],
   "source": [
    "alle.columns"
   ]
  },
  {
   "cell_type": "code",
   "execution_count": null,
   "id": "4e864bc8",
   "metadata": {},
   "outputs": [],
   "source": [
    "df1=pd.DataFrame({'A':[1,2,3],'B':list('345')},index=['i','j','k'])"
   ]
  },
  {
   "cell_type": "code",
   "execution_count": null,
   "id": "32eda902",
   "metadata": {},
   "outputs": [],
   "source": [
    "df=pd.DataFrame({'cast':['Sam','Noah','Downey'],'production':['Cap America','Hulk','Thor']})"
   ]
  },
  {
   "cell_type": "code",
   "execution_count": null,
   "id": "881b9558",
   "metadata": {},
   "outputs": [],
   "source": [
    "df1"
   ]
  },
  {
   "cell_type": "code",
   "execution_count": 267,
   "id": "739a0b59",
   "metadata": {},
   "outputs": [
    {
     "data": {
      "text/html": [
       "<div>\n",
       "<style scoped>\n",
       "    .dataframe tbody tr th:only-of-type {\n",
       "        vertical-align: middle;\n",
       "    }\n",
       "\n",
       "    .dataframe tbody tr th {\n",
       "        vertical-align: top;\n",
       "    }\n",
       "\n",
       "    .dataframe thead th {\n",
       "        text-align: right;\n",
       "    }\n",
       "</style>\n",
       "<table border=\"1\" class=\"dataframe\">\n",
       "  <thead>\n",
       "    <tr style=\"text-align: right;\">\n",
       "      <th></th>\n",
       "      <th>A</th>\n",
       "      <th>B</th>\n",
       "    </tr>\n",
       "  </thead>\n",
       "  <tbody>\n",
       "    <tr>\n",
       "      <th>I</th>\n",
       "      <td>1.0</td>\n",
       "      <td>3.0</td>\n",
       "    </tr>\n",
       "    <tr>\n",
       "      <th>J</th>\n",
       "      <td>2.0</td>\n",
       "      <td>4.0</td>\n",
       "    </tr>\n",
       "    <tr>\n",
       "      <th>K</th>\n",
       "      <td>3.0</td>\n",
       "      <td>5.0</td>\n",
       "    </tr>\n",
       "  </tbody>\n",
       "</table>\n",
       "</div>"
      ],
      "text/plain": [
       "     A    B\n",
       "I  1.0  3.0\n",
       "J  2.0  4.0\n",
       "K  3.0  5.0"
      ]
     },
     "execution_count": 267,
     "metadata": {},
     "output_type": "execute_result"
    }
   ],
   "source": [
    "df1.groupby(str.upper).mean(0)"
   ]
  },
  {
   "cell_type": "code",
   "execution_count": 277,
   "id": "75c31b27",
   "metadata": {},
   "outputs": [
    {
     "data": {
      "text/html": [
       "<div>\n",
       "<style scoped>\n",
       "    .dataframe tbody tr th:only-of-type {\n",
       "        vertical-align: middle;\n",
       "    }\n",
       "\n",
       "    .dataframe tbody tr th {\n",
       "        vertical-align: top;\n",
       "    }\n",
       "\n",
       "    .dataframe thead th {\n",
       "        text-align: right;\n",
       "    }\n",
       "</style>\n",
       "<table border=\"1\" class=\"dataframe\">\n",
       "  <thead>\n",
       "    <tr style=\"text-align: right;\">\n",
       "      <th></th>\n",
       "      <th>ages</th>\n",
       "      <th>year</th>\n",
       "      <th>population</th>\n",
       "    </tr>\n",
       "    <tr>\n",
       "      <th>state/region</th>\n",
       "      <th></th>\n",
       "      <th></th>\n",
       "      <th></th>\n",
       "    </tr>\n",
       "  </thead>\n",
       "  <tbody>\n",
       "    <tr>\n",
       "      <th>AL</th>\n",
       "      <td>under18</td>\n",
       "      <td>2012</td>\n",
       "      <td>1117489.0</td>\n",
       "    </tr>\n",
       "    <tr>\n",
       "      <th>AL</th>\n",
       "      <td>total</td>\n",
       "      <td>2012</td>\n",
       "      <td>4817528.0</td>\n",
       "    </tr>\n",
       "    <tr>\n",
       "      <th>AL</th>\n",
       "      <td>under18</td>\n",
       "      <td>2010</td>\n",
       "      <td>1130966.0</td>\n",
       "    </tr>\n",
       "    <tr>\n",
       "      <th>AL</th>\n",
       "      <td>total</td>\n",
       "      <td>2010</td>\n",
       "      <td>4785570.0</td>\n",
       "    </tr>\n",
       "    <tr>\n",
       "      <th>AL</th>\n",
       "      <td>under18</td>\n",
       "      <td>2011</td>\n",
       "      <td>1125763.0</td>\n",
       "    </tr>\n",
       "  </tbody>\n",
       "</table>\n",
       "</div>"
      ],
      "text/plain": [
       "                 ages  year  population\n",
       "state/region                           \n",
       "AL            under18  2012   1117489.0\n",
       "AL              total  2012   4817528.0\n",
       "AL            under18  2010   1130966.0\n",
       "AL              total  2010   4785570.0\n",
       "AL            under18  2011   1125763.0"
      ]
     },
     "execution_count": 277,
     "metadata": {},
     "output_type": "execute_result"
    }
   ],
   "source": [
    "age=['under18','total']\n",
    "# alle.groupby(['year','ages']).agg()\n",
    "alle.set_index(['state/region'], inplace=True)\n",
    "alle.head()"
   ]
  },
  {
   "cell_type": "code",
   "execution_count": 269,
   "id": "4ce5fdd4",
   "metadata": {
    "scrolled": true
   },
   "outputs": [
    {
     "data": {
      "text/html": [
       "<div>\n",
       "<style scoped>\n",
       "    .dataframe tbody tr th:only-of-type {\n",
       "        vertical-align: middle;\n",
       "    }\n",
       "\n",
       "    .dataframe tbody tr th {\n",
       "        vertical-align: top;\n",
       "    }\n",
       "\n",
       "    .dataframe thead th {\n",
       "        text-align: right;\n",
       "    }\n",
       "</style>\n",
       "<table border=\"1\" class=\"dataframe\">\n",
       "  <thead>\n",
       "    <tr style=\"text-align: right;\">\n",
       "      <th>ages</th>\n",
       "      <th>total</th>\n",
       "      <th>under18</th>\n",
       "    </tr>\n",
       "  </thead>\n",
       "  <tbody>\n",
       "    <tr>\n",
       "      <th>population</th>\n",
       "      <td>1.088161e+07</td>\n",
       "      <td>2.729506e+06</td>\n",
       "    </tr>\n",
       "    <tr>\n",
       "      <th>year</th>\n",
       "      <td>2.001500e+03</td>\n",
       "      <td>2.001500e+03</td>\n",
       "    </tr>\n",
       "  </tbody>\n",
       "</table>\n",
       "</div>"
      ],
      "text/plain": [
       "ages               total       under18\n",
       "population  1.088161e+07  2.729506e+06\n",
       "year        2.001500e+03  2.001500e+03"
      ]
     },
     "execution_count": 269,
     "metadata": {},
     "output_type": "execute_result"
    }
   ],
   "source": [
    "alle.pivot_table(values=['population','year'],columns='ages')"
   ]
  },
  {
   "cell_type": "code",
   "execution_count": 279,
   "id": "078980b8",
   "metadata": {},
   "outputs": [],
   "source": [
    "titanic=sns.load_dataset('titanic')"
   ]
  },
  {
   "cell_type": "code",
   "execution_count": 284,
   "id": "62241c0a",
   "metadata": {},
   "outputs": [
    {
     "data": {
      "text/plain": [
       "Index(['survived', 'pclass', 'sex', 'age', 'sibsp', 'parch', 'fare',\n",
       "       'embarked', 'class', 'who', 'adult_male', 'deck', 'embark_town',\n",
       "       'alive', 'alone'],\n",
       "      dtype='object')"
      ]
     },
     "execution_count": 284,
     "metadata": {},
     "output_type": "execute_result"
    }
   ],
   "source": [
    "titanic.columns"
   ]
  },
  {
   "cell_type": "code",
   "execution_count": 285,
   "id": "ee4cfbe5",
   "metadata": {},
   "outputs": [
    {
     "data": {
      "text/html": [
       "<div>\n",
       "<style scoped>\n",
       "    .dataframe tbody tr th:only-of-type {\n",
       "        vertical-align: middle;\n",
       "    }\n",
       "\n",
       "    .dataframe tbody tr th {\n",
       "        vertical-align: top;\n",
       "    }\n",
       "\n",
       "    .dataframe thead th {\n",
       "        text-align: right;\n",
       "    }\n",
       "</style>\n",
       "<table border=\"1\" class=\"dataframe\">\n",
       "  <thead>\n",
       "    <tr style=\"text-align: right;\">\n",
       "      <th></th>\n",
       "      <th>survived</th>\n",
       "      <th>pclass</th>\n",
       "      <th>sex</th>\n",
       "      <th>age</th>\n",
       "      <th>sibsp</th>\n",
       "      <th>parch</th>\n",
       "      <th>fare</th>\n",
       "      <th>embarked</th>\n",
       "      <th>class</th>\n",
       "      <th>who</th>\n",
       "      <th>adult_male</th>\n",
       "      <th>deck</th>\n",
       "      <th>embark_town</th>\n",
       "      <th>alive</th>\n",
       "      <th>alone</th>\n",
       "    </tr>\n",
       "  </thead>\n",
       "  <tbody>\n",
       "    <tr>\n",
       "      <th>0</th>\n",
       "      <td>0</td>\n",
       "      <td>3</td>\n",
       "      <td>male</td>\n",
       "      <td>22.0</td>\n",
       "      <td>1</td>\n",
       "      <td>0</td>\n",
       "      <td>7.2500</td>\n",
       "      <td>S</td>\n",
       "      <td>Third</td>\n",
       "      <td>man</td>\n",
       "      <td>True</td>\n",
       "      <td>NaN</td>\n",
       "      <td>Southampton</td>\n",
       "      <td>no</td>\n",
       "      <td>False</td>\n",
       "    </tr>\n",
       "    <tr>\n",
       "      <th>1</th>\n",
       "      <td>1</td>\n",
       "      <td>1</td>\n",
       "      <td>female</td>\n",
       "      <td>38.0</td>\n",
       "      <td>1</td>\n",
       "      <td>0</td>\n",
       "      <td>71.2833</td>\n",
       "      <td>C</td>\n",
       "      <td>First</td>\n",
       "      <td>woman</td>\n",
       "      <td>False</td>\n",
       "      <td>C</td>\n",
       "      <td>Cherbourg</td>\n",
       "      <td>yes</td>\n",
       "      <td>False</td>\n",
       "    </tr>\n",
       "    <tr>\n",
       "      <th>2</th>\n",
       "      <td>1</td>\n",
       "      <td>3</td>\n",
       "      <td>female</td>\n",
       "      <td>26.0</td>\n",
       "      <td>0</td>\n",
       "      <td>0</td>\n",
       "      <td>7.9250</td>\n",
       "      <td>S</td>\n",
       "      <td>Third</td>\n",
       "      <td>woman</td>\n",
       "      <td>False</td>\n",
       "      <td>NaN</td>\n",
       "      <td>Southampton</td>\n",
       "      <td>yes</td>\n",
       "      <td>True</td>\n",
       "    </tr>\n",
       "    <tr>\n",
       "      <th>3</th>\n",
       "      <td>1</td>\n",
       "      <td>1</td>\n",
       "      <td>female</td>\n",
       "      <td>35.0</td>\n",
       "      <td>1</td>\n",
       "      <td>0</td>\n",
       "      <td>53.1000</td>\n",
       "      <td>S</td>\n",
       "      <td>First</td>\n",
       "      <td>woman</td>\n",
       "      <td>False</td>\n",
       "      <td>C</td>\n",
       "      <td>Southampton</td>\n",
       "      <td>yes</td>\n",
       "      <td>False</td>\n",
       "    </tr>\n",
       "    <tr>\n",
       "      <th>4</th>\n",
       "      <td>0</td>\n",
       "      <td>3</td>\n",
       "      <td>male</td>\n",
       "      <td>35.0</td>\n",
       "      <td>0</td>\n",
       "      <td>0</td>\n",
       "      <td>8.0500</td>\n",
       "      <td>S</td>\n",
       "      <td>Third</td>\n",
       "      <td>man</td>\n",
       "      <td>True</td>\n",
       "      <td>NaN</td>\n",
       "      <td>Southampton</td>\n",
       "      <td>no</td>\n",
       "      <td>True</td>\n",
       "    </tr>\n",
       "  </tbody>\n",
       "</table>\n",
       "</div>"
      ],
      "text/plain": [
       "   survived  pclass     sex   age  sibsp  parch     fare embarked  class  \\\n",
       "0         0       3    male  22.0      1      0   7.2500        S  Third   \n",
       "1         1       1  female  38.0      1      0  71.2833        C  First   \n",
       "2         1       3  female  26.0      0      0   7.9250        S  Third   \n",
       "3         1       1  female  35.0      1      0  53.1000        S  First   \n",
       "4         0       3    male  35.0      0      0   8.0500        S  Third   \n",
       "\n",
       "     who  adult_male deck  embark_town alive  alone  \n",
       "0    man        True  NaN  Southampton    no  False  \n",
       "1  woman       False    C    Cherbourg   yes  False  \n",
       "2  woman       False  NaN  Southampton   yes   True  \n",
       "3  woman       False    C  Southampton   yes  False  \n",
       "4    man        True  NaN  Southampton    no   True  "
      ]
     },
     "execution_count": 285,
     "metadata": {},
     "output_type": "execute_result"
    }
   ],
   "source": [
    "titanic.head()"
   ]
  },
  {
   "cell_type": "code",
   "execution_count": 466,
   "id": "4644d95b",
   "metadata": {},
   "outputs": [
    {
     "name": "stdout",
     "output_type": "stream",
     "text": [
      "<class 'pandas.core.series.Series'>\n",
      "RangeIndex: 891 entries, 0 to 890\n",
      "Series name: alone\n",
      "Non-Null Count  Dtype\n",
      "--------------  -----\n",
      "891 non-null    bool \n",
      "dtypes: bool(1)\n",
      "memory usage: 1019.0 bytes\n"
     ]
    }
   ],
   "source": [
    "titanic['alone']."
   ]
  },
  {
   "cell_type": "code",
   "execution_count": 480,
   "id": "c2cee148",
   "metadata": {},
   "outputs": [
    {
     "data": {
      "text/html": [
       "<div>\n",
       "<style scoped>\n",
       "    .dataframe tbody tr th:only-of-type {\n",
       "        vertical-align: middle;\n",
       "    }\n",
       "\n",
       "    .dataframe tbody tr th {\n",
       "        vertical-align: top;\n",
       "    }\n",
       "\n",
       "    .dataframe thead tr th {\n",
       "        text-align: left;\n",
       "    }\n",
       "\n",
       "    .dataframe thead tr:last-of-type th {\n",
       "        text-align: right;\n",
       "    }\n",
       "</style>\n",
       "<table border=\"1\" class=\"dataframe\">\n",
       "  <thead>\n",
       "    <tr>\n",
       "      <th></th>\n",
       "      <th colspan=\"3\" halign=\"left\">survived</th>\n",
       "      <th colspan=\"3\" halign=\"left\">alone</th>\n",
       "    </tr>\n",
       "    <tr>\n",
       "      <th></th>\n",
       "      <th>median</th>\n",
       "      <th>min</th>\n",
       "      <th>max</th>\n",
       "      <th>median</th>\n",
       "      <th>min</th>\n",
       "      <th>max</th>\n",
       "    </tr>\n",
       "    <tr>\n",
       "      <th>age</th>\n",
       "      <th></th>\n",
       "      <th></th>\n",
       "      <th></th>\n",
       "      <th></th>\n",
       "      <th></th>\n",
       "      <th></th>\n",
       "    </tr>\n",
       "  </thead>\n",
       "  <tbody>\n",
       "    <tr>\n",
       "      <th>0.42</th>\n",
       "      <td>1.0</td>\n",
       "      <td>1</td>\n",
       "      <td>1</td>\n",
       "      <td>0.0</td>\n",
       "      <td>False</td>\n",
       "      <td>False</td>\n",
       "    </tr>\n",
       "    <tr>\n",
       "      <th>0.67</th>\n",
       "      <td>1.0</td>\n",
       "      <td>1</td>\n",
       "      <td>1</td>\n",
       "      <td>0.0</td>\n",
       "      <td>False</td>\n",
       "      <td>False</td>\n",
       "    </tr>\n",
       "    <tr>\n",
       "      <th>0.75</th>\n",
       "      <td>1.0</td>\n",
       "      <td>1</td>\n",
       "      <td>1</td>\n",
       "      <td>0.0</td>\n",
       "      <td>False</td>\n",
       "      <td>False</td>\n",
       "    </tr>\n",
       "    <tr>\n",
       "      <th>0.83</th>\n",
       "      <td>1.0</td>\n",
       "      <td>1</td>\n",
       "      <td>1</td>\n",
       "      <td>0.0</td>\n",
       "      <td>False</td>\n",
       "      <td>False</td>\n",
       "    </tr>\n",
       "    <tr>\n",
       "      <th>0.92</th>\n",
       "      <td>1.0</td>\n",
       "      <td>1</td>\n",
       "      <td>1</td>\n",
       "      <td>0.0</td>\n",
       "      <td>False</td>\n",
       "      <td>False</td>\n",
       "    </tr>\n",
       "    <tr>\n",
       "      <th>...</th>\n",
       "      <td>...</td>\n",
       "      <td>...</td>\n",
       "      <td>...</td>\n",
       "      <td>...</td>\n",
       "      <td>...</td>\n",
       "      <td>...</td>\n",
       "    </tr>\n",
       "    <tr>\n",
       "      <th>70.00</th>\n",
       "      <td>0.0</td>\n",
       "      <td>0</td>\n",
       "      <td>0</td>\n",
       "      <td>0.5</td>\n",
       "      <td>False</td>\n",
       "      <td>True</td>\n",
       "    </tr>\n",
       "    <tr>\n",
       "      <th>70.50</th>\n",
       "      <td>0.0</td>\n",
       "      <td>0</td>\n",
       "      <td>0</td>\n",
       "      <td>1.0</td>\n",
       "      <td>True</td>\n",
       "      <td>True</td>\n",
       "    </tr>\n",
       "    <tr>\n",
       "      <th>71.00</th>\n",
       "      <td>0.0</td>\n",
       "      <td>0</td>\n",
       "      <td>0</td>\n",
       "      <td>1.0</td>\n",
       "      <td>True</td>\n",
       "      <td>True</td>\n",
       "    </tr>\n",
       "    <tr>\n",
       "      <th>74.00</th>\n",
       "      <td>0.0</td>\n",
       "      <td>0</td>\n",
       "      <td>0</td>\n",
       "      <td>1.0</td>\n",
       "      <td>True</td>\n",
       "      <td>True</td>\n",
       "    </tr>\n",
       "    <tr>\n",
       "      <th>80.00</th>\n",
       "      <td>1.0</td>\n",
       "      <td>1</td>\n",
       "      <td>1</td>\n",
       "      <td>1.0</td>\n",
       "      <td>True</td>\n",
       "      <td>True</td>\n",
       "    </tr>\n",
       "  </tbody>\n",
       "</table>\n",
       "<p>88 rows × 6 columns</p>\n",
       "</div>"
      ],
      "text/plain": [
       "      survived          alone              \n",
       "        median min max median    min    max\n",
       "age                                        \n",
       "0.42       1.0   1   1    0.0  False  False\n",
       "0.67       1.0   1   1    0.0  False  False\n",
       "0.75       1.0   1   1    0.0  False  False\n",
       "0.83       1.0   1   1    0.0  False  False\n",
       "0.92       1.0   1   1    0.0  False  False\n",
       "...        ...  ..  ..    ...    ...    ...\n",
       "70.00      0.0   0   0    0.5  False   True\n",
       "70.50      0.0   0   0    1.0   True   True\n",
       "71.00      0.0   0   0    1.0   True   True\n",
       "74.00      0.0   0   0    1.0   True   True\n",
       "80.00      1.0   1   1    1.0   True   True\n",
       "\n",
       "[88 rows x 6 columns]"
      ]
     },
     "execution_count": 480,
     "metadata": {},
     "output_type": "execute_result"
    }
   ],
   "source": [
    "titanic.groupby(['age']).agg({'survived':[np.median,min,max],'alone':[np.median,min,max]})"
   ]
  },
  {
   "cell_type": "code",
   "execution_count": 485,
   "id": "799913b4",
   "metadata": {},
   "outputs": [
    {
     "data": {
      "text/html": [
       "<div>\n",
       "<style scoped>\n",
       "    .dataframe tbody tr th:only-of-type {\n",
       "        vertical-align: middle;\n",
       "    }\n",
       "\n",
       "    .dataframe tbody tr th {\n",
       "        vertical-align: top;\n",
       "    }\n",
       "\n",
       "    .dataframe thead th {\n",
       "        text-align: right;\n",
       "    }\n",
       "</style>\n",
       "<table border=\"1\" class=\"dataframe\">\n",
       "  <thead>\n",
       "    <tr style=\"text-align: right;\">\n",
       "      <th></th>\n",
       "      <th>survived</th>\n",
       "      <th>pclass</th>\n",
       "      <th>fare</th>\n",
       "    </tr>\n",
       "    <tr>\n",
       "      <th>sex</th>\n",
       "      <th></th>\n",
       "      <th></th>\n",
       "      <th></th>\n",
       "    </tr>\n",
       "  </thead>\n",
       "  <tbody>\n",
       "    <tr>\n",
       "      <th>female</th>\n",
       "      <td>0.438211</td>\n",
       "      <td>0.85729</td>\n",
       "      <td>57.997698</td>\n",
       "    </tr>\n",
       "    <tr>\n",
       "      <th>male</th>\n",
       "      <td>0.391775</td>\n",
       "      <td>0.81358</td>\n",
       "      <td>43.138263</td>\n",
       "    </tr>\n",
       "  </tbody>\n",
       "</table>\n",
       "</div>"
      ],
      "text/plain": [
       "        survived   pclass       fare\n",
       "sex                                 \n",
       "female  0.438211  0.85729  57.997698\n",
       "male    0.391775  0.81358  43.138263"
      ]
     },
     "execution_count": 485,
     "metadata": {},
     "output_type": "execute_result"
    }
   ],
   "source": [
    "titanic . groupby ( 'sex' )[['survived','pclass','fare']].std()"
   ]
  },
  {
   "cell_type": "code",
   "execution_count": 521,
   "id": "12541912",
   "metadata": {},
   "outputs": [
    {
     "data": {
      "text/plain": [
       "179    36.0\n",
       "263    40.0\n",
       "271    25.0\n",
       "277     NaN\n",
       "302    19.0\n",
       "413     NaN\n",
       "466     NaN\n",
       "481     NaN\n",
       "597    49.0\n",
       "633     NaN\n",
       "674     NaN\n",
       "732     NaN\n",
       "806    39.0\n",
       "815     NaN\n",
       "822    38.0\n",
       "Name: age, dtype: float64"
      ]
     },
     "execution_count": 521,
     "metadata": {},
     "output_type": "execute_result"
    }
   ],
   "source": [
    "titanic[titanic.loc[:,'fare']==0]['age']"
   ]
  },
  {
   "cell_type": "code",
   "execution_count": 516,
   "id": "72e88431",
   "metadata": {},
   "outputs": [
    {
     "name": "stdout",
     "output_type": "stream",
     "text": [
      "1,                  ,(216, 4)\n",
      "2,                  ,(184, 4)\n",
      "3,                  ,(491, 4)\n"
     ]
    },
    {
     "name": "stderr",
     "output_type": "stream",
     "text": [
      "C:\\Users\\AMOS OSHIYOYE\\AppData\\Local\\Temp\\ipykernel_4968\\3338904371.py:1: FutureWarning: Indexing with multiple keys (implicitly converted to a tuple of keys) will be deprecated, use a list instead.\n",
      "  for (classes,grous) in titanic.groupby('pclass')['survived','sex','age','fare']:\n"
     ]
    }
   ],
   "source": [
    "for (classes,grous) in titanic.groupby('pclass')['survived','sex','age','fare']:\n",
    "    print(f'{classes},                  ,{grous.shape}')"
   ]
  },
  {
   "cell_type": "code",
   "execution_count": 523,
   "id": "42c495c6",
   "metadata": {},
   "outputs": [
    {
     "data": {
      "text/html": [
       "<div>\n",
       "<style scoped>\n",
       "    .dataframe tbody tr th:only-of-type {\n",
       "        vertical-align: middle;\n",
       "    }\n",
       "\n",
       "    .dataframe tbody tr th {\n",
       "        vertical-align: top;\n",
       "    }\n",
       "\n",
       "    .dataframe thead th {\n",
       "        text-align: right;\n",
       "    }\n",
       "</style>\n",
       "<table border=\"1\" class=\"dataframe\">\n",
       "  <thead>\n",
       "    <tr style=\"text-align: right;\">\n",
       "      <th></th>\n",
       "      <th>method</th>\n",
       "      <th>number</th>\n",
       "      <th>orbital_period</th>\n",
       "      <th>mass</th>\n",
       "      <th>distance</th>\n",
       "      <th>year</th>\n",
       "    </tr>\n",
       "  </thead>\n",
       "  <tbody>\n",
       "    <tr>\n",
       "      <th>0</th>\n",
       "      <td>Radial Velocity</td>\n",
       "      <td>1</td>\n",
       "      <td>269.300</td>\n",
       "      <td>7.10</td>\n",
       "      <td>77.40</td>\n",
       "      <td>2006</td>\n",
       "    </tr>\n",
       "    <tr>\n",
       "      <th>1</th>\n",
       "      <td>Radial Velocity</td>\n",
       "      <td>1</td>\n",
       "      <td>874.774</td>\n",
       "      <td>2.21</td>\n",
       "      <td>56.95</td>\n",
       "      <td>2008</td>\n",
       "    </tr>\n",
       "    <tr>\n",
       "      <th>2</th>\n",
       "      <td>Radial Velocity</td>\n",
       "      <td>1</td>\n",
       "      <td>763.000</td>\n",
       "      <td>2.60</td>\n",
       "      <td>19.84</td>\n",
       "      <td>2011</td>\n",
       "    </tr>\n",
       "    <tr>\n",
       "      <th>3</th>\n",
       "      <td>Radial Velocity</td>\n",
       "      <td>1</td>\n",
       "      <td>326.030</td>\n",
       "      <td>19.40</td>\n",
       "      <td>110.62</td>\n",
       "      <td>2007</td>\n",
       "    </tr>\n",
       "    <tr>\n",
       "      <th>4</th>\n",
       "      <td>Radial Velocity</td>\n",
       "      <td>1</td>\n",
       "      <td>516.220</td>\n",
       "      <td>10.50</td>\n",
       "      <td>119.47</td>\n",
       "      <td>2009</td>\n",
       "    </tr>\n",
       "  </tbody>\n",
       "</table>\n",
       "</div>"
      ],
      "text/plain": [
       "            method  number  orbital_period   mass  distance  year\n",
       "0  Radial Velocity       1         269.300   7.10     77.40  2006\n",
       "1  Radial Velocity       1         874.774   2.21     56.95  2008\n",
       "2  Radial Velocity       1         763.000   2.60     19.84  2011\n",
       "3  Radial Velocity       1         326.030  19.40    110.62  2007\n",
       "4  Radial Velocity       1         516.220  10.50    119.47  2009"
      ]
     },
     "execution_count": 523,
     "metadata": {},
     "output_type": "execute_result"
    }
   ],
   "source": [
    "planets_data.head()"
   ]
  },
  {
   "cell_type": "code",
   "execution_count": 524,
   "id": "c783b725",
   "metadata": {},
   "outputs": [],
   "source": [
    "decade=planets_data['year']"
   ]
  },
  {
   "cell_type": "code",
   "execution_count": 525,
   "id": "384a0e08",
   "metadata": {},
   "outputs": [
    {
     "data": {
      "text/plain": [
       "0       2006\n",
       "1       2008\n",
       "2       2011\n",
       "3       2007\n",
       "4       2009\n",
       "        ... \n",
       "1030    2006\n",
       "1031    2007\n",
       "1032    2007\n",
       "1033    2008\n",
       "1034    2008\n",
       "Name: year, Length: 1035, dtype: int64"
      ]
     },
     "execution_count": 525,
     "metadata": {},
     "output_type": "execute_result"
    }
   ],
   "source": [
    "decade"
   ]
  },
  {
   "cell_type": "code",
   "execution_count": 609,
   "id": "383f0020",
   "metadata": {},
   "outputs": [
    {
     "data": {
      "text/plain": [
       "count    714.000000\n",
       "mean      29.699118\n",
       "std       14.526497\n",
       "min        0.420000\n",
       "25%       20.125000\n",
       "50%       28.000000\n",
       "75%       38.000000\n",
       "max       80.000000\n",
       "Name: age, dtype: float64"
      ]
     },
     "execution_count": 609,
     "metadata": {},
     "output_type": "execute_result"
    }
   ],
   "source": [
    "titanic['age'].describe()"
   ]
  },
  {
   "cell_type": "code",
   "execution_count": 611,
   "id": "4525aae5",
   "metadata": {},
   "outputs": [],
   "source": [
    "age=pd.qcut(titanic['age'],2)"
   ]
  },
  {
   "cell_type": "code",
   "execution_count": 612,
   "id": "4bf57d65",
   "metadata": {},
   "outputs": [
    {
     "data": {
      "text/plain": [
       "0      (0.419, 28.0]\n",
       "1       (28.0, 80.0]\n",
       "2      (0.419, 28.0]\n",
       "3       (28.0, 80.0]\n",
       "4       (28.0, 80.0]\n",
       "           ...      \n",
       "886    (0.419, 28.0]\n",
       "887    (0.419, 28.0]\n",
       "888              NaN\n",
       "889    (0.419, 28.0]\n",
       "890     (28.0, 80.0]\n",
       "Name: age, Length: 891, dtype: category\n",
       "Categories (2, interval[float64, right]): [(0.419, 28.0] < (28.0, 80.0]]"
      ]
     },
     "execution_count": 612,
     "metadata": {},
     "output_type": "execute_result"
    }
   ],
   "source": [
    "age"
   ]
  },
  {
   "cell_type": "code",
   "execution_count": 602,
   "id": "7e3efe14",
   "metadata": {},
   "outputs": [
    {
     "data": {
      "text/plain": [
       "Index(['survived', 'pclass', 'sex', 'age', 'sibsp', 'parch', 'fare',\n",
       "       'embarked', 'class', 'who', 'adult_male', 'deck', 'embark_town',\n",
       "       'alive', 'alone'],\n",
       "      dtype='object')"
      ]
     },
     "execution_count": 602,
     "metadata": {},
     "output_type": "execute_result"
    }
   ],
   "source": [
    "titanic.columns"
   ]
  },
  {
   "cell_type": "code",
   "execution_count": 603,
   "id": "96423952",
   "metadata": {
    "scrolled": true
   },
   "outputs": [
    {
     "data": {
      "text/html": [
       "<div>\n",
       "<style scoped>\n",
       "    .dataframe tbody tr th:only-of-type {\n",
       "        vertical-align: middle;\n",
       "    }\n",
       "\n",
       "    .dataframe tbody tr th {\n",
       "        vertical-align: top;\n",
       "    }\n",
       "\n",
       "    .dataframe thead th {\n",
       "        text-align: right;\n",
       "    }\n",
       "</style>\n",
       "<table border=\"1\" class=\"dataframe\">\n",
       "  <thead>\n",
       "    <tr style=\"text-align: right;\">\n",
       "      <th></th>\n",
       "      <th>class</th>\n",
       "      <th>First</th>\n",
       "      <th>Second</th>\n",
       "      <th>Third</th>\n",
       "    </tr>\n",
       "    <tr>\n",
       "      <th>alone</th>\n",
       "      <th>age</th>\n",
       "      <th></th>\n",
       "      <th></th>\n",
       "      <th></th>\n",
       "    </tr>\n",
       "  </thead>\n",
       "  <tbody>\n",
       "    <tr>\n",
       "      <th rowspan=\"5\" valign=\"top\">False</th>\n",
       "      <th>(0, 15]</th>\n",
       "      <td>0.833333</td>\n",
       "      <td>1.000000</td>\n",
       "      <td>0.403846</td>\n",
       "    </tr>\n",
       "    <tr>\n",
       "      <th>(15, 18]</th>\n",
       "      <td>0.888889</td>\n",
       "      <td>1.000000</td>\n",
       "      <td>0.133333</td>\n",
       "    </tr>\n",
       "    <tr>\n",
       "      <th>(18, 25]</th>\n",
       "      <td>0.705882</td>\n",
       "      <td>0.588235</td>\n",
       "      <td>0.437500</td>\n",
       "    </tr>\n",
       "    <tr>\n",
       "      <th>(25, 35]</th>\n",
       "      <td>0.714286</td>\n",
       "      <td>0.480000</td>\n",
       "      <td>0.240000</td>\n",
       "    </tr>\n",
       "    <tr>\n",
       "      <th>(35, 50]</th>\n",
       "      <td>0.694444</td>\n",
       "      <td>0.500000</td>\n",
       "      <td>0.090909</td>\n",
       "    </tr>\n",
       "    <tr>\n",
       "      <th rowspan=\"5\" valign=\"top\">True</th>\n",
       "      <th>(0, 15]</th>\n",
       "      <td>NaN</td>\n",
       "      <td>NaN</td>\n",
       "      <td>0.666667</td>\n",
       "    </tr>\n",
       "    <tr>\n",
       "      <th>(15, 18]</th>\n",
       "      <td>1.000000</td>\n",
       "      <td>0.250000</td>\n",
       "      <td>0.285714</td>\n",
       "    </tr>\n",
       "    <tr>\n",
       "      <th>(18, 25]</th>\n",
       "      <td>0.777778</td>\n",
       "      <td>0.263158</td>\n",
       "      <td>0.154762</td>\n",
       "    </tr>\n",
       "    <tr>\n",
       "      <th>(25, 35]</th>\n",
       "      <td>0.807692</td>\n",
       "      <td>0.424242</td>\n",
       "      <td>0.273973</td>\n",
       "    </tr>\n",
       "    <tr>\n",
       "      <th>(35, 50]</th>\n",
       "      <td>0.517241</td>\n",
       "      <td>0.428571</td>\n",
       "      <td>0.096774</td>\n",
       "    </tr>\n",
       "  </tbody>\n",
       "</table>\n",
       "</div>"
      ],
      "text/plain": [
       "class              First    Second     Third\n",
       "alone age                                   \n",
       "False (0, 15]   0.833333  1.000000  0.403846\n",
       "      (15, 18]  0.888889  1.000000  0.133333\n",
       "      (18, 25]  0.705882  0.588235  0.437500\n",
       "      (25, 35]  0.714286  0.480000  0.240000\n",
       "      (35, 50]  0.694444  0.500000  0.090909\n",
       "True  (0, 15]        NaN       NaN  0.666667\n",
       "      (15, 18]  1.000000  0.250000  0.285714\n",
       "      (18, 25]  0.777778  0.263158  0.154762\n",
       "      (25, 35]  0.807692  0.424242  0.273973\n",
       "      (35, 50]  0.517241  0.428571  0.096774"
      ]
     },
     "execution_count": 603,
     "metadata": {},
     "output_type": "execute_result"
    }
   ],
   "source": [
    "titanic.pivot_table('survived',['alone',age],'class')\n"
   ]
  },
  {
   "cell_type": "code",
   "execution_count": 613,
   "id": "05e03bc8",
   "metadata": {},
   "outputs": [
    {
     "name": "stderr",
     "output_type": "stream",
     "text": [
      "'curl' is not recognized as an internal or external command,\n",
      "operable program or batch file.\n"
     ]
    }
   ],
   "source": [
    "# shell command to download the data:\n",
    "!curl -O https://raw.githubusercontent.com/jakevdp/data-CDCbirths/master/births.csv"
   ]
  },
  {
   "cell_type": "code",
   "execution_count": 614,
   "id": "2f9047f8",
   "metadata": {},
   "outputs": [
    {
     "name": "stdout",
     "output_type": "stream",
     "text": [
      "On branch master"
     ]
    },
    {
     "name": "stderr",
     "output_type": "stream",
     "text": [
      "hint: core.useBuiltinFSMonitor=true is deprecated;please set core.fsmonitor=true instead\n",
      "hint: Disable this message with \"git config advice.useCoreFSMonitorConfig false\"\n"
     ]
    },
    {
     "name": "stdout",
     "output_type": "stream",
     "text": [
      "\n",
      "Your branch is up to date with 'origin/master'.\n",
      "\n",
      "nothing to commit, working tree clean\n"
     ]
    }
   ],
   "source": [
    "!git status"
   ]
  },
  {
   "cell_type": "code",
   "execution_count": 615,
   "id": "a0777a40",
   "metadata": {},
   "outputs": [
    {
     "name": "stderr",
     "output_type": "stream",
     "text": [
      "'ls' is not recognized as an internal or external command,\n",
      "operable program or batch file.\n"
     ]
    }
   ],
   "source": [
    "!ls"
   ]
  },
  {
   "cell_type": "code",
   "execution_count": 616,
   "id": "7580c5cb",
   "metadata": {},
   "outputs": [
    {
     "name": "stderr",
     "output_type": "stream",
     "text": [
      "'pwd' is not recognized as an internal or external command,\n",
      "operable program or batch file.\n"
     ]
    }
   ],
   "source": [
    "!pwd"
   ]
  },
  {
   "cell_type": "code",
   "execution_count": 617,
   "id": "056d201a",
   "metadata": {},
   "outputs": [
    {
     "name": "stdout",
     "output_type": "stream",
     "text": [
      " Volume in drive C has no label.\n",
      " Volume Serial Number is 4CD3-B1F1\n",
      "\n",
      " Directory of C:\\Users\\AMOS OSHIYOYE\\Downloads\\Github\\data-USstates\n",
      "\n",
      "08/20/2022  09:53 AM    <DIR>          .\n",
      "08/20/2022  09:53 AM    <DIR>          ..\n",
      "08/20/2022  09:53 AM               250 README.md\n",
      "08/20/2022  09:53 AM               923 state-abbrevs.csv\n",
      "08/20/2022  09:53 AM               888 state-areas.csv\n",
      "08/20/2022  09:53 AM            60,480 state-population.csv\n",
      "               4 File(s)         62,541 bytes\n",
      "               2 Dir(s)  233,607,012,352 bytes free\n"
     ]
    }
   ],
   "source": [
    "%ls"
   ]
  },
  {
   "cell_type": "code",
   "execution_count": 618,
   "id": "18791f23",
   "metadata": {},
   "outputs": [
    {
     "name": "stdout",
     "output_type": "stream",
     "text": [
      "C:\\Users\\AMOS OSHIYOYE\\Downloads\\Github\n"
     ]
    }
   ],
   "source": [
    "%cd .."
   ]
  },
  {
   "cell_type": "code",
   "execution_count": 619,
   "id": "7ec8f36b",
   "metadata": {},
   "outputs": [],
   "source": [
    "%mkdir Birth_CDC"
   ]
  },
  {
   "cell_type": "code",
   "execution_count": 620,
   "id": "46fe1c56",
   "metadata": {},
   "outputs": [
    {
     "name": "stdout",
     "output_type": "stream",
     "text": [
      "C:\\Users\\AMOS OSHIYOYE\\Downloads\\Github\\Birth_CDC\n"
     ]
    }
   ],
   "source": [
    "%cd Birth_CDC/"
   ]
  },
  {
   "cell_type": "code",
   "execution_count": 621,
   "id": "e48dc843",
   "metadata": {},
   "outputs": [
    {
     "name": "stdout",
     "output_type": "stream",
     "text": [
      " Volume in drive C has no label.\n",
      " Volume Serial Number is 4CD3-B1F1\n",
      "\n",
      " Directory of C:\\Users\\AMOS OSHIYOYE\\Downloads\\Github\\Birth_CDC\n",
      "\n",
      "09/15/2022  01:34 AM    <DIR>          .\n",
      "09/15/2022  01:34 AM    <DIR>          ..\n",
      "               0 File(s)              0 bytes\n",
      "               2 Dir(s)  233,606,111,232 bytes free\n"
     ]
    }
   ],
   "source": [
    "%ls"
   ]
  },
  {
   "cell_type": "code",
   "execution_count": 631,
   "id": "ff1cbbdb",
   "metadata": {},
   "outputs": [
    {
     "name": "stderr",
     "output_type": "stream",
     "text": [
      "hint: core.useBuiltinFSMonitor=true is deprecated;please set core.fsmonitor=true instead\n",
      "hint: Disable this message with \"git config advice.useCoreFSMonitorConfig false\"\n",
      "remote: 404: Not Found\n",
      "fatal: repository 'https://raw.githubusercontent.com/jakevdp/data-CDCbirths/master/births.csv/' not found\n"
     ]
    }
   ],
   "source": [
    "!git fetch https://raw.githubusercontent.com/jakevdp/data-CDCbirths/master/births.csv"
   ]
  },
  {
   "cell_type": "code",
   "execution_count": null,
   "id": "4d4108c9",
   "metadata": {},
   "outputs": [],
   "source": []
  }
 ],
 "metadata": {
  "kernelspec": {
   "display_name": "Python 3 (ipykernel)",
   "language": "python",
   "name": "python3"
  },
  "language_info": {
   "codemirror_mode": {
    "name": "ipython",
    "version": 3
   },
   "file_extension": ".py",
   "mimetype": "text/x-python",
   "name": "python",
   "nbconvert_exporter": "python",
   "pygments_lexer": "ipython3",
   "version": "3.8.6"
  }
 },
 "nbformat": 4,
 "nbformat_minor": 5
}
