{
 "cells": [
  {
   "cell_type": "code",
   "execution_count": 1,
   "id": "372eb927",
   "metadata": {},
   "outputs": [],
   "source": [
    "import numpy as np\n",
    "import pandas as pd\n",
    "import matplotlib.pyplot as plt\n",
    "import seaborn as sns\n",
    "import itertools as iter\n",
    "# import random as rand\n",
    "sns.set()\n",
    "import re\n",
    "import sys"
   ]
  },
  {
   "cell_type": "code",
   "execution_count": 2,
   "id": "2d0ae80c",
   "metadata": {},
   "outputs": [
    {
     "data": {
      "text/plain": [
       "0"
      ]
     },
     "execution_count": 2,
     "metadata": {},
     "output_type": "execute_result"
    }
   ],
   "source": [
    "import os\n",
    "os.system('cmd command')"
   ]
  },
  {
   "cell_type": "code",
   "execution_count": 6,
   "id": "8a3ad9e2",
   "metadata": {
    "tags": []
   },
   "outputs": [
    {
     "name": "stdout",
     "output_type": "stream",
     "text": [
      " Volume in drive C has no label.\n",
      " Volume Serial Number is 4CD3-B1F1\n",
      "\n",
      " Directory of C:\\Users\\AMOS OSHIYOYE\\Documents\n",
      "\n",
      "10/01/2022  08:18 PM    <DIR>          .\n",
      "10/01/2022  08:18 PM    <DIR>          ..\n",
      "12/06/2017  01:21 PM            15,243 2017 Annual Seed Report.docx\n",
      "11/20/2010  02:00 PM            38,145 2017 Eggua Rice Farmer Data 2.docx\n",
      "11/17/2017  12:46 PM            35,087 2017 Eggua Rice Project Input Collection Data.docx\n",
      "05/07/2018  10:04 PM            13,441 alternative.docx\n",
      "05/07/2018  09:01 PM            15,412 april emergency meeting.docx\n",
      "03/29/2018  10:19 AM            16,105 Back to Office Report from ABP 1.docx\n",
      "10/06/2022  09:01 PM    <DIR>          Bluetooth Exchange Folder\n",
      "11/08/2010  11:41 AM            23,560 CAPITAL COSTS.docx\n",
      "05/29/2022  08:52 PM            56,531 codes for windows 7.png\n",
      "05/03/2018  07:40 PM             3,802 CVMay2018.txt\n",
      "12/03/2017  06:49 PM            13,493 DECEMBER 2017.docx\n",
      "12/06/2017  09:20 AM            19,702 Eggua Rice Report.docx\n",
      "12/03/2017  01:01 PM            14,539 Ewi Igbala Programme.docx\n",
      "05/07/2018  12:02 PM            16,299 FINANCIAL REPORT EXCEL.xlsx\n",
      "05/13/2022  10:10 PM    <DIR>          GitHub\n",
      "11/18/2010  09:48 PM            19,871 Gofamint Social Welfare.docx\n",
      "01/01/2009  01:14 AM            32,256 Graph Practice.xls\n",
      "03/01/2018  11:24 PM            19,309 I have competence along the line of business management.docx\n",
      "12/03/2017  12:46 PM           221,696 List of invitees.doc\n",
      "09/06/2018  09:27 AM            73,634 Livelihood 1.xlsx\n",
      "09/06/2018  10:04 AM           172,032 Livelihood 2.doc\n",
      "04/30/2018  09:38 AM            15,295 Mitros Rice Handover 2.docx\n",
      "04/27/2018  01:11 PM            15,118 Mitros Rice Handover.docx\n",
      "04/23/2018  08:40 PM           107,354 n\n",
      "11/17/2010  12:16 PM            13,928 OG CMS Letter 2.docx\n",
      "10/15/2018  11:40 AM            15,555 OGADEP CMS Debtors.docx\n",
      "01/05/2018  04:08 PM            15,676 Ogun Rice Production 1.docx\n",
      "11/20/2010  01:58 PM            35,945 OGUN STATE GOVERNMEN1.docx\n",
      "11/20/2010  01:28 PM            37,295 OGUN STATE GOVERNMENT.docx\n",
      "01/09/2018  08:40 AM            15,458 Omolara Testimony Foundation 5.docx\n",
      "01/09/2018  08:37 AM            14,326 Omolara Testimony Foundation 6.docx\n",
      "12/06/2017  11:41 AM           422,717 Osiyoye 2.jpg\n",
      "05/07/2018  05:53 PM            13,773 OTF 2017 AUDITED FINANCIAL REPORT.docx\n",
      "05/07/2018  08:45 PM            15,977 OTF 2018 PROPOSAL AND BUDGET.docx\n",
      "03/14/2018  10:53 PM            13,816 OTF Admin 1.docx\n",
      "01/29/2018  01:56 PM            18,045 OTF FINANCIAL INSTRUMENTS.docx\n",
      "05/05/2018  12:00 PM            20,132 OTF MEMBERSHIP FORM.docx\n",
      "02/24/2018  08:51 PM            15,266 OTF opening of Account 2.docx\n",
      "04/15/2022  11:23 PM    <DIR>          Project\n",
      "01/01/2009  02:07 AM            20,141 Promotion Vival.docx\n",
      "11/07/2010  09:57 PM            16,364 Rice Intervention Bidding 1.docx\n",
      "11/07/2010  10:22 PM            16,853 Rice Intervention Bidding 2.docx\n",
      "11/07/2010  10:43 PM            16,857 Rice Intervention Bidding 3.docx\n",
      "11/01/2010  08:13 PM            34,091 Rice Intervention Final Approval.docx\n",
      "11/06/2010  12:47 PM            14,800 Rice Intervention Generator Purchase.docx\n",
      "11/06/2010  08:17 PM            13,823 Rice Intervention Paddy Collection.docx\n",
      "11/06/2010  12:52 PM            15,278 Rice Intervention Slab Contruction.docx\n",
      "02/08/2016  10:57 PM           201,728 Soyabean farmers list.doc\n",
      "03/09/2018  05:51 PM            15,890 student plan addition.docx\n",
      "07/02/2018  11:20 AM            13,898 The Apostolic Church Nigeria.docx\n",
      "01/16/2018  12:15 PM            13,812 TOR Reactions.docx\n",
      "05/31/2018  11:12 AM            13,840 Tunde Soretire 1.docx\n",
      "08/30/2022  07:23 AM    <DIR>          VSCODE_user_files\n",
      "04/25/2022  08:44 PM    <DIR>          Webcam\n",
      "11/23/2017  09:03 PM         2,588,195 World bank report  2.xlsx.docx\n",
      "11/23/2017  08:40 PM            22,818 World bank report 1.xlsx\n",
      "              51 File(s)      4,644,221 bytes\n",
      "               7 Dir(s)  230,376,235,008 bytes free\n"
     ]
    }
   ],
   "source": [
    "%ls\n",
    "# %cd new_DS_shit/\n",
    "# %cd Github/\n",
    "# %del Guitar-Scales-by-Lloyd-English.pdf/\n",
    "# %cd ../"
   ]
  },
  {
   "cell_type": "code",
   "execution_count": 51,
   "id": "17762969",
   "metadata": {},
   "outputs": [
    {
     "data": {
      "text/html": [
       "<div>\n",
       "<style scoped>\n",
       "    .dataframe tbody tr th:only-of-type {\n",
       "        vertical-align: middle;\n",
       "    }\n",
       "\n",
       "    .dataframe tbody tr th {\n",
       "        vertical-align: top;\n",
       "    }\n",
       "\n",
       "    .dataframe thead th {\n",
       "        text-align: right;\n",
       "    }\n",
       "</style>\n",
       "<table border=\"1\" class=\"dataframe\">\n",
       "  <thead>\n",
       "    <tr style=\"text-align: right;\">\n",
       "      <th></th>\n",
       "      <th>order</th>\n",
       "      <th>age</th>\n",
       "      <th>height</th>\n",
       "    </tr>\n",
       "  </thead>\n",
       "  <tbody>\n",
       "    <tr>\n",
       "      <th>count</th>\n",
       "      <td>45.000000</td>\n",
       "      <td>45.000000</td>\n",
       "      <td>45.000000</td>\n",
       "    </tr>\n",
       "    <tr>\n",
       "      <th>mean</th>\n",
       "      <td>23.022222</td>\n",
       "      <td>55.000000</td>\n",
       "      <td>180.000000</td>\n",
       "    </tr>\n",
       "    <tr>\n",
       "      <th>std</th>\n",
       "      <td>13.136502</td>\n",
       "      <td>6.595453</td>\n",
       "      <td>6.977236</td>\n",
       "    </tr>\n",
       "    <tr>\n",
       "      <th>min</th>\n",
       "      <td>1.000000</td>\n",
       "      <td>42.000000</td>\n",
       "      <td>163.000000</td>\n",
       "    </tr>\n",
       "    <tr>\n",
       "      <th>25%</th>\n",
       "      <td>12.000000</td>\n",
       "      <td>51.000000</td>\n",
       "      <td>175.000000</td>\n",
       "    </tr>\n",
       "    <tr>\n",
       "      <th>50%</th>\n",
       "      <td>23.000000</td>\n",
       "      <td>55.000000</td>\n",
       "      <td>182.000000</td>\n",
       "    </tr>\n",
       "    <tr>\n",
       "      <th>75%</th>\n",
       "      <td>34.000000</td>\n",
       "      <td>58.000000</td>\n",
       "      <td>183.000000</td>\n",
       "    </tr>\n",
       "    <tr>\n",
       "      <th>max</th>\n",
       "      <td>45.000000</td>\n",
       "      <td>70.000000</td>\n",
       "      <td>193.000000</td>\n",
       "    </tr>\n",
       "  </tbody>\n",
       "</table>\n",
       "</div>"
      ],
      "text/plain": [
       "           order        age      height\n",
       "count  45.000000  45.000000   45.000000\n",
       "mean   23.022222  55.000000  180.000000\n",
       "std    13.136502   6.595453    6.977236\n",
       "min     1.000000  42.000000  163.000000\n",
       "25%    12.000000  51.000000  175.000000\n",
       "50%    23.000000  55.000000  182.000000\n",
       "75%    34.000000  58.000000  183.000000\n",
       "max    45.000000  70.000000  193.000000"
      ]
     },
     "execution_count": 51,
     "metadata": {},
     "output_type": "execute_result"
    }
   ],
   "source": [
    "pres_df.describe()"
   ]
  },
  {
   "cell_type": "code",
   "execution_count": 18,
   "id": "8e390e10",
   "metadata": {
    "tags": []
   },
   "outputs": [],
   "source": [
    "pres_df=pd.read_csv('president_heights_party.csv')"
   ]
  },
  {
   "cell_type": "code",
   "execution_count": 20,
   "id": "24d59c72",
   "metadata": {
    "scrolled": true
   },
   "outputs": [
    {
     "data": {
      "text/plain": [
       "Index(['order', 'name', 'age', 'height', 'party'], dtype='object')"
      ]
     },
     "execution_count": 20,
     "metadata": {},
     "output_type": "execute_result"
    }
   ],
   "source": [
    "pres_df.columns"
   ]
  },
  {
   "cell_type": "code",
   "execution_count": null,
   "id": "833cefc3",
   "metadata": {},
   "outputs": [],
   "source": [
    "# pres_df.drop('order', axis=1, inplace=True)"
   ]
  },
  {
   "cell_type": "code",
   "execution_count": null,
   "id": "b18979f8",
   "metadata": {
    "scrolled": true
   },
   "outputs": [],
   "source": [
    "pres_df.head(4)"
   ]
  },
  {
   "cell_type": "code",
   "execution_count": 21,
   "id": "9f08322f",
   "metadata": {},
   "outputs": [
    {
     "data": {
      "image/png": "[encoded data removed]",
      "text/plain": [
       "<Figure size 432x288 with 1 Axes>"
      ]
     },
     "metadata": {
      "needs_background": "light"
     },
     "output_type": "display_data"
    }
   ],
   "source": [
    "pres_df.plot(kind='hist',y='height', title='Heights of presidents')\n",
    "plt.xlabel('Heights')\n",
    "plt.show()"
   ]
  },
  {
   "cell_type": "code",
   "execution_count": 50,
   "id": "54f74eb0",
   "metadata": {},
   "outputs": [
    {
     "data": {
      "text/html": [
       "<div>\n",
       "<style scoped>\n",
       "    .dataframe tbody tr th:only-of-type {\n",
       "        vertical-align: middle;\n",
       "    }\n",
       "\n",
       "    .dataframe tbody tr th {\n",
       "        vertical-align: top;\n",
       "    }\n",
       "\n",
       "    .dataframe thead tr th {\n",
       "        text-align: left;\n",
       "    }\n",
       "\n",
       "    .dataframe thead tr:last-of-type th {\n",
       "        text-align: right;\n",
       "    }\n",
       "</style>\n",
       "<table border=\"1\" class=\"dataframe\">\n",
       "  <thead>\n",
       "    <tr>\n",
       "      <th></th>\n",
       "      <th colspan=\"3\" halign=\"left\">height</th>\n",
       "      <th colspan=\"3\" halign=\"left\">age</th>\n",
       "    </tr>\n",
       "    <tr>\n",
       "      <th></th>\n",
       "      <th>mean</th>\n",
       "      <th>sum</th>\n",
       "      <th>median</th>\n",
       "      <th>mean</th>\n",
       "      <th>sum</th>\n",
       "      <th>median</th>\n",
       "    </tr>\n",
       "    <tr>\n",
       "      <th>party</th>\n",
       "      <th></th>\n",
       "      <th></th>\n",
       "      <th></th>\n",
       "      <th></th>\n",
       "      <th></th>\n",
       "      <th></th>\n",
       "    </tr>\n",
       "  </thead>\n",
       "  <tbody>\n",
       "    <tr>\n",
       "      <th>democratic</th>\n",
       "      <td>181.066667</td>\n",
       "      <td>2716</td>\n",
       "      <td>180.0</td>\n",
       "      <td>52.600000</td>\n",
       "      <td>789</td>\n",
       "      <td>52.0</td>\n",
       "    </tr>\n",
       "    <tr>\n",
       "      <th>democratic-republican</th>\n",
       "      <td>176.500000</td>\n",
       "      <td>706</td>\n",
       "      <td>177.0</td>\n",
       "      <td>57.250000</td>\n",
       "      <td>229</td>\n",
       "      <td>57.0</td>\n",
       "    </tr>\n",
       "    <tr>\n",
       "      <th>federalist</th>\n",
       "      <td>170.000000</td>\n",
       "      <td>170</td>\n",
       "      <td>170.0</td>\n",
       "      <td>61.000000</td>\n",
       "      <td>61</td>\n",
       "      <td>61.0</td>\n",
       "    </tr>\n",
       "    <tr>\n",
       "      <th>national union</th>\n",
       "      <td>178.000000</td>\n",
       "      <td>178</td>\n",
       "      <td>178.0</td>\n",
       "      <td>56.000000</td>\n",
       "      <td>56</td>\n",
       "      <td>56.0</td>\n",
       "    </tr>\n",
       "    <tr>\n",
       "      <th>none</th>\n",
       "      <td>189.000000</td>\n",
       "      <td>189</td>\n",
       "      <td>189.0</td>\n",
       "      <td>57.000000</td>\n",
       "      <td>57</td>\n",
       "      <td>57.0</td>\n",
       "    </tr>\n",
       "    <tr>\n",
       "      <th>republican</th>\n",
       "      <td>180.894737</td>\n",
       "      <td>3437</td>\n",
       "      <td>182.0</td>\n",
       "      <td>55.263158</td>\n",
       "      <td>1050</td>\n",
       "      <td>54.0</td>\n",
       "    </tr>\n",
       "    <tr>\n",
       "      <th>whig</th>\n",
       "      <td>176.000000</td>\n",
       "      <td>704</td>\n",
       "      <td>174.0</td>\n",
       "      <td>58.250000</td>\n",
       "      <td>233</td>\n",
       "      <td>57.5</td>\n",
       "    </tr>\n",
       "  </tbody>\n",
       "</table>\n",
       "</div>"
      ],
      "text/plain": [
       "                           height                     age             \n",
       "                             mean   sum median       mean   sum median\n",
       "party                                                                 \n",
       "democratic             181.066667  2716  180.0  52.600000   789   52.0\n",
       "democratic-republican  176.500000   706  177.0  57.250000   229   57.0\n",
       "federalist             170.000000   170  170.0  61.000000    61   61.0\n",
       "national union         178.000000   178  178.0  56.000000    56   56.0\n",
       "none                   189.000000   189  189.0  57.000000    57   57.0\n",
       "republican             180.894737  3437  182.0  55.263158  1050   54.0\n",
       "whig                   176.000000   704  174.0  58.250000   233   57.5"
      ]
     },
     "execution_count": 50,
     "metadata": {},
     "output_type": "execute_result"
    }
   ],
   "source": [
    "pres_df.groupby('party').agg({'height':[np.mean,sum,np.median],'age':[np.mean,sum,np.median]})"
   ]
  },
  {
   "cell_type": "code",
   "execution_count": 65,
   "id": "312cb0c0",
   "metadata": {},
   "outputs": [
    {
     "data": {
      "text/plain": [
       "array(['none', 'federalist', 'democratic-republican', 'democratic',\n",
       "       'whig', 'republican', 'national union'], dtype=object)"
      ]
     },
     "execution_count": 65,
     "metadata": {},
     "output_type": "execute_result"
    }
   ],
   "source": [
    "pres_df.party.unique()"
   ]
  },
  {
   "cell_type": "code",
   "execution_count": null,
   "id": "af92fda2",
   "metadata": {},
   "outputs": [],
   "source": [
    "party_unique={}\n",
    "for party_name,index in enumerate(pres__df['party'].unique()):\n",
    "    party_unique[index]=party_name"
   ]
  },
  {
   "cell_type": "code",
   "execution_count": 95,
   "id": "1b5d828e",
   "metadata": {},
   "outputs": [
    {
     "data": {
      "text/plain": [
       "0     False\n",
       "1     False\n",
       "2     False\n",
       "3     False\n",
       "4     False\n",
       "5     False\n",
       "6     False\n",
       "7     False\n",
       "8     False\n",
       "9     False\n",
       "10    False\n",
       "11    False\n",
       "12    False\n",
       "13    False\n",
       "14    False\n",
       "15    False\n",
       "16    False\n",
       "17    False\n",
       "18    False\n",
       "19    False\n",
       "20    False\n",
       "21    False\n",
       "22    False\n",
       "23    False\n",
       "24    False\n",
       "25    False\n",
       "26    False\n",
       "27    False\n",
       "28    False\n",
       "29    False\n",
       "30    False\n",
       "31    False\n",
       "32    False\n",
       "33    False\n",
       "34    False\n",
       "35    False\n",
       "36    False\n",
       "37    False\n",
       "38    False\n",
       "39    False\n",
       "40    False\n",
       "41    False\n",
       "42    False\n",
       "43    False\n",
       "44    False\n",
       "Name: party, dtype: bool"
      ]
     },
     "execution_count": 93,
     "metadata": {},
     "output_type": "execute_result"
    }
   ],
   "source": [
    "(pres_df['party']=='national union')"
   ]
  },
  {
   "cell_type": "code",
   "execution_count": 111,
   "id": "d1ab11ee",
   "metadata": {},
   "outputs": [],
   "source": [
    "drop_index=pres_df[(pres_df['party']=='none')|(pres_df['party']=='federalist')|(pres_df['party']=='national union')].index"
   ]
  },
  {
   "cell_type": "code",
   "execution_count": null,
   "id": "12e2d19c",
   "metadata": {},
   "outputs": [],
   "source": [
    "pres_df.index['']"
   ]
  },
  {
   "cell_type": "code",
   "execution_count": 114,
   "id": "b41b57bb",
   "metadata": {},
   "outputs": [],
   "source": [
    "pres__df=pres_df.drop(drop_index)"
   ]
  },
  {
   "cell_type": "code",
   "execution_count": null,
   "id": "b8e4c7b0",
   "metadata": {},
   "outputs": [],
   "source": [
    "colours_of_party=[party_unique[i] for i in pres__df['party']]"
   ]
  },
  {
   "cell_type": "code",
   "execution_count": null,
   "id": "27c98aa0",
   "metadata": {},
   "outputs": [],
   "source": [
    "pres__df['age'].max()"
   ]
  },
  {
   "cell_type": "code",
   "execution_count": null,
   "id": "0b4bf6c3",
   "metadata": {},
   "outputs": [],
   "source": [
    "pres__df"
   ]
  },
  {
   "cell_type": "code",
   "execution_count": null,
   "id": "707db93a",
   "metadata": {},
   "outputs": [],
   "source": [
    "# ax=plt.subplot(111)\n",
    "pres_scatter=plt.scatter( x='age',y='height',data=pres__df,c=colours_of_party)\n",
    "# plt.xlim(pres_df['age'].min()-5,pres_df['age'].max()+5)\n",
    "# plt.ylim(pres_df['height'].min()-5,200)\n",
    "plt.legend(handles=pres_scatter.legend_elements()[0],labels=party_unique.keys(),bbox_to_anchor=(1.489,0.56),shadow=True,title='Party Unique'.upper())"
   ]
  },
  {
   "cell_type": "code",
   "execution_count": 52,
   "id": "2fec51db",
   "metadata": {},
   "outputs": [],
   "source": [
    "from sklearn.model_selection import train_test_split\n",
    "from sklearn.linear_model import LinearRegression"
   ]
  },
  {
   "cell_type": "code",
   "execution_count": 53,
   "id": "c9479afb",
   "metadata": {},
   "outputs": [],
   "source": [
    "lR=LinearRegression()"
   ]
  },
  {
   "cell_type": "code",
   "execution_count": 115,
   "id": "14c44d20",
   "metadata": {},
   "outputs": [],
   "source": [
    "X=pres__df[['age']]\n",
    "Y=pres__df['height']\n",
    "X_train,X_test,Y_train,Y_test=train_test_split(X,Y,test_size=0.3,random_state=1)\n",
    "# train_test_split(pres_df, )?"
   ]
  },
  {
   "cell_type": "code",
   "execution_count": 116,
   "id": "3cda3cdf",
   "metadata": {},
   "outputs": [
    {
     "data": {
      "text/html": [
       "<style>#sk-container-id-2 {color: black;background-color: white;}#sk-container-id-2 pre{padding: 0;}#sk-container-id-2 div.sk-toggleable {background-color: white;}#sk-container-id-2 label.sk-toggleable__label {cursor: pointer;display: block;width: 100%;margin-bottom: 0;padding: 0.3em;box-sizing: border-box;text-align: center;}#sk-container-id-2 label.sk-toggleable__label-arrow:before {content: \"▸\";float: left;margin-right: 0.25em;color: #696969;}#sk-container-id-2 label.sk-toggleable__label-arrow:hover:before {color: black;}#sk-container-id-2 div.sk-estimator:hover label.sk-toggleable__label-arrow:before {color: black;}#sk-container-id-2 div.sk-toggleable__content {max-height: 0;max-width: 0;overflow: hidden;text-align: left;background-color: #f0f8ff;}#sk-container-id-2 div.sk-toggleable__content pre {margin: 0.2em;color: black;border-radius: 0.25em;background-color: #f0f8ff;}#sk-container-id-2 input.sk-toggleable__control:checked~div.sk-toggleable__content {max-height: 200px;max-width: 100%;overflow: auto;}#sk-container-id-2 input.sk-toggleable__control:checked~label.sk-toggleable__label-arrow:before {content: \"▾\";}#sk-container-id-2 div.sk-estimator input.sk-toggleable__control:checked~label.sk-toggleable__label {background-color: #d4ebff;}#sk-container-id-2 div.sk-label input.sk-toggleable__control:checked~label.sk-toggleable__label {background-color: #d4ebff;}#sk-container-id-2 input.sk-hidden--visually {border: 0;clip: rect(1px 1px 1px 1px);clip: rect(1px, 1px, 1px, 1px);height: 1px;margin: -1px;overflow: hidden;padding: 0;position: absolute;width: 1px;}#sk-container-id-2 div.sk-estimator {font-family: monospace;background-color: #f0f8ff;border: 1px dotted black;border-radius: 0.25em;box-sizing: border-box;margin-bottom: 0.5em;}#sk-container-id-2 div.sk-estimator:hover {background-color: #d4ebff;}#sk-container-id-2 div.sk-parallel-item::after {content: \"\";width: 100%;border-bottom: 1px solid gray;flex-grow: 1;}#sk-container-id-2 div.sk-label:hover label.sk-toggleable__label {background-color: #d4ebff;}#sk-container-id-2 div.sk-serial::before {content: \"\";position: absolute;border-left: 1px solid gray;box-sizing: border-box;top: 0;bottom: 0;left: 50%;z-index: 0;}#sk-container-id-2 div.sk-serial {display: flex;flex-direction: column;align-items: center;background-color: white;padding-right: 0.2em;padding-left: 0.2em;position: relative;}#sk-container-id-2 div.sk-item {position: relative;z-index: 1;}#sk-container-id-2 div.sk-parallel {display: flex;align-items: stretch;justify-content: center;background-color: white;position: relative;}#sk-container-id-2 div.sk-item::before, #sk-container-id-2 div.sk-parallel-item::before {content: \"\";position: absolute;border-left: 1px solid gray;box-sizing: border-box;top: 0;bottom: 0;left: 50%;z-index: -1;}#sk-container-id-2 div.sk-parallel-item {display: flex;flex-direction: column;z-index: 1;position: relative;background-color: white;}#sk-container-id-2 div.sk-parallel-item:first-child::after {align-self: flex-end;width: 50%;}#sk-container-id-2 div.sk-parallel-item:last-child::after {align-self: flex-start;width: 50%;}#sk-container-id-2 div.sk-parallel-item:only-child::after {width: 0;}#sk-container-id-2 div.sk-dashed-wrapped {border: 1px dashed gray;margin: 0 0.4em 0.5em 0.4em;box-sizing: border-box;padding-bottom: 0.4em;background-color: white;}#sk-container-id-2 div.sk-label label {font-family: monospace;font-weight: bold;display: inline-block;line-height: 1.2em;}#sk-container-id-2 div.sk-label-container {text-align: center;}#sk-container-id-2 div.sk-container {/* jupyter's `normalize.less` sets `[hidden] { display: none; }` but bootstrap.min.css set `[hidden] { display: none !important; }` so we also need the `!important` here to be able to override the default hidden behavior on the sphinx rendered scikit-learn.org. See: https://github.com/scikit-learn/scikit-learn/issues/21755 */display: inline-block !important;position: relative;}#sk-container-id-2 div.sk-text-repr-fallback {display: none;}</style><div id=\"sk-container-id-2\" class=\"sk-top-container\"><div class=\"sk-text-repr-fallback\"><pre>LinearRegression()</pre><b>In a Jupyter environment, please rerun this cell to show the HTML representation or trust the notebook. <br />On GitHub, the HTML representation is unable to render, please try loading this page with nbviewer.org.</b></div><div class=\"sk-container\" hidden><div class=\"sk-item\"><div class=\"sk-estimator sk-toggleable\"><input class=\"sk-toggleable__control sk-hidden--visually\" id=\"sk-estimator-id-2\" type=\"checkbox\" checked><label for=\"sk-estimator-id-2\" class=\"sk-toggleable__label sk-toggleable__label-arrow\">LinearRegression</label><div class=\"sk-toggleable__content\"><pre>LinearRegression()</pre></div></div></div></div></div>"
      ],
      "text/plain": [
       "LinearRegression()"
      ]
     },
     "execution_count": 116,
     "metadata": {},
     "output_type": "execute_result"
    }
   ],
   "source": [
    "lR.fit(X_train,Y_train)"
   ]
  },
  {
   "cell_type": "code",
   "execution_count": 117,
   "id": "412b1988",
   "metadata": {},
   "outputs": [
    {
     "data": {
      "text/plain": [
       "175.33301940101717"
      ]
     },
     "execution_count": 117,
     "metadata": {},
     "output_type": "execute_result"
    }
   ],
   "source": [
    "lR.intercept_"
   ]
  },
  {
   "cell_type": "code",
   "execution_count": 57,
   "id": "ec9addd7",
   "metadata": {},
   "outputs": [
    {
     "data": {
      "text/plain": [
       "republican               19\n",
       "democratic               15\n",
       "democratic-republican     4\n",
       "whig                      4\n",
       "none                      1\n",
       "federalist                1\n",
       "national union            1\n",
       "Name: party, dtype: int64"
      ]
     },
     "execution_count": 57,
     "metadata": {},
     "output_type": "execute_result"
    }
   ],
   "source": [
    "pres_df['party'].value_counts()"
   ]
  },
  {
   "cell_type": "code",
   "execution_count": 118,
   "id": "09cd7b1b",
   "metadata": {},
   "outputs": [
    {
     "name": "stderr",
     "output_type": "stream",
     "text": [
      "c:\\users\\amos oshiyoye\\appdata\\local\\programs\\python\\python38\\lib\\site-packages\\sklearn\\base.py:450: UserWarning: X does not have valid feature names, but LinearRegression was fitted with feature names\n",
      "  warnings.warn(\n"
     ]
    },
    {
     "data": {
      "text/plain": [
       "array([182.37389339])"
      ]
     },
     "execution_count": 118,
     "metadata": {},
     "output_type": "execute_result"
    }
   ],
   "source": [
    "lR.predict([[70]])"
   ]
  },
  {
   "cell_type": "code",
   "execution_count": 59,
   "id": "fb643a01",
   "metadata": {},
   "outputs": [
    {
     "data": {
      "text/html": [
       "<div>\n",
       "<style scoped>\n",
       "    .dataframe tbody tr th:only-of-type {\n",
       "        vertical-align: middle;\n",
       "    }\n",
       "\n",
       "    .dataframe tbody tr th {\n",
       "        vertical-align: top;\n",
       "    }\n",
       "\n",
       "    .dataframe thead th {\n",
       "        text-align: right;\n",
       "    }\n",
       "</style>\n",
       "<table border=\"1\" class=\"dataframe\">\n",
       "  <thead>\n",
       "    <tr style=\"text-align: right;\">\n",
       "      <th></th>\n",
       "      <th>order</th>\n",
       "      <th>name</th>\n",
       "      <th>age</th>\n",
       "      <th>height</th>\n",
       "      <th>party</th>\n",
       "    </tr>\n",
       "  </thead>\n",
       "  <tbody>\n",
       "    <tr>\n",
       "      <th>16</th>\n",
       "      <td>17</td>\n",
       "      <td>Andrew Johnson</td>\n",
       "      <td>56</td>\n",
       "      <td>178</td>\n",
       "      <td>national union</td>\n",
       "    </tr>\n",
       "  </tbody>\n",
       "</table>\n",
       "</div>"
      ],
      "text/plain": [
       "    order            name  age  height           party\n",
       "16     17  Andrew Johnson   56     178  national union"
      ]
     },
     "execution_count": 59,
     "metadata": {},
     "output_type": "execute_result"
    }
   ],
   "source": [
    "pres_df.loc[pres_df['party']=='national union']"
   ]
  },
  {
   "cell_type": "code",
   "execution_count": 60,
   "id": "cb64037d",
   "metadata": {},
   "outputs": [],
   "source": [
    "#Using SKlearn stadtviertel"
   ]
  },
  {
   "cell_type": "code",
   "execution_count": 122,
   "id": "4162bd27",
   "metadata": {},
   "outputs": [],
   "source": [
    "X1=pres__df[['age','height']]\n",
    "Y1=pres__df['party']"
   ]
  },
  {
   "cell_type": "code",
   "execution_count": 123,
   "id": "bcab703b",
   "metadata": {},
   "outputs": [],
   "source": [
    "from sklearn.model_selection import train_test_split\n",
    "X1_train,X1_test,Y1_train,Y1_test=train_test_split(X1,Y1,test_size=0.3,random_state=1, stratify=Y1)"
   ]
  },
  {
   "cell_type": "code",
   "execution_count": 124,
   "id": "537c2c43",
   "metadata": {
    "scrolled": true
   },
   "outputs": [],
   "source": [
    "from sklearn.neighbors import KNeighborsClassifier\n",
    "knn=KNeighborsClassifier(n_neighbors=2)"
   ]
  },
  {
   "cell_type": "code",
   "execution_count": 125,
   "id": "95f4d4ab",
   "metadata": {},
   "outputs": [
    {
     "data": {
      "text/html": [
       "<style>#sk-container-id-3 {color: black;background-color: white;}#sk-container-id-3 pre{padding: 0;}#sk-container-id-3 div.sk-toggleable {background-color: white;}#sk-container-id-3 label.sk-toggleable__label {cursor: pointer;display: block;width: 100%;margin-bottom: 0;padding: 0.3em;box-sizing: border-box;text-align: center;}#sk-container-id-3 label.sk-toggleable__label-arrow:before {content: \"▸\";float: left;margin-right: 0.25em;color: #696969;}#sk-container-id-3 label.sk-toggleable__label-arrow:hover:before {color: black;}#sk-container-id-3 div.sk-estimator:hover label.sk-toggleable__label-arrow:before {color: black;}#sk-container-id-3 div.sk-toggleable__content {max-height: 0;max-width: 0;overflow: hidden;text-align: left;background-color: #f0f8ff;}#sk-container-id-3 div.sk-toggleable__content pre {margin: 0.2em;color: black;border-radius: 0.25em;background-color: #f0f8ff;}#sk-container-id-3 input.sk-toggleable__control:checked~div.sk-toggleable__content {max-height: 200px;max-width: 100%;overflow: auto;}#sk-container-id-3 input.sk-toggleable__control:checked~label.sk-toggleable__label-arrow:before {content: \"▾\";}#sk-container-id-3 div.sk-estimator input.sk-toggleable__control:checked~label.sk-toggleable__label {background-color: #d4ebff;}#sk-container-id-3 div.sk-label input.sk-toggleable__control:checked~label.sk-toggleable__label {background-color: #d4ebff;}#sk-container-id-3 input.sk-hidden--visually {border: 0;clip: rect(1px 1px 1px 1px);clip: rect(1px, 1px, 1px, 1px);height: 1px;margin: -1px;overflow: hidden;padding: 0;position: absolute;width: 1px;}#sk-container-id-3 div.sk-estimator {font-family: monospace;background-color: #f0f8ff;border: 1px dotted black;border-radius: 0.25em;box-sizing: border-box;margin-bottom: 0.5em;}#sk-container-id-3 div.sk-estimator:hover {background-color: #d4ebff;}#sk-container-id-3 div.sk-parallel-item::after {content: \"\";width: 100%;border-bottom: 1px solid gray;flex-grow: 1;}#sk-container-id-3 div.sk-label:hover label.sk-toggleable__label {background-color: #d4ebff;}#sk-container-id-3 div.sk-serial::before {content: \"\";position: absolute;border-left: 1px solid gray;box-sizing: border-box;top: 0;bottom: 0;left: 50%;z-index: 0;}#sk-container-id-3 div.sk-serial {display: flex;flex-direction: column;align-items: center;background-color: white;padding-right: 0.2em;padding-left: 0.2em;position: relative;}#sk-container-id-3 div.sk-item {position: relative;z-index: 1;}#sk-container-id-3 div.sk-parallel {display: flex;align-items: stretch;justify-content: center;background-color: white;position: relative;}#sk-container-id-3 div.sk-item::before, #sk-container-id-3 div.sk-parallel-item::before {content: \"\";position: absolute;border-left: 1px solid gray;box-sizing: border-box;top: 0;bottom: 0;left: 50%;z-index: -1;}#sk-container-id-3 div.sk-parallel-item {display: flex;flex-direction: column;z-index: 1;position: relative;background-color: white;}#sk-container-id-3 div.sk-parallel-item:first-child::after {align-self: flex-end;width: 50%;}#sk-container-id-3 div.sk-parallel-item:last-child::after {align-self: flex-start;width: 50%;}#sk-container-id-3 div.sk-parallel-item:only-child::after {width: 0;}#sk-container-id-3 div.sk-dashed-wrapped {border: 1px dashed gray;margin: 0 0.4em 0.5em 0.4em;box-sizing: border-box;padding-bottom: 0.4em;background-color: white;}#sk-container-id-3 div.sk-label label {font-family: monospace;font-weight: bold;display: inline-block;line-height: 1.2em;}#sk-container-id-3 div.sk-label-container {text-align: center;}#sk-container-id-3 div.sk-container {/* jupyter's `normalize.less` sets `[hidden] { display: none; }` but bootstrap.min.css set `[hidden] { display: none !important; }` so we also need the `!important` here to be able to override the default hidden behavior on the sphinx rendered scikit-learn.org. See: https://github.com/scikit-learn/scikit-learn/issues/21755 */display: inline-block !important;position: relative;}#sk-container-id-3 div.sk-text-repr-fallback {display: none;}</style><div id=\"sk-container-id-3\" class=\"sk-top-container\"><div class=\"sk-text-repr-fallback\"><pre>KNeighborsClassifier(n_neighbors=2)</pre><b>In a Jupyter environment, please rerun this cell to show the HTML representation or trust the notebook. <br />On GitHub, the HTML representation is unable to render, please try loading this page with nbviewer.org.</b></div><div class=\"sk-container\" hidden><div class=\"sk-item\"><div class=\"sk-estimator sk-toggleable\"><input class=\"sk-toggleable__control sk-hidden--visually\" id=\"sk-estimator-id-3\" type=\"checkbox\" checked><label for=\"sk-estimator-id-3\" class=\"sk-toggleable__label sk-toggleable__label-arrow\">KNeighborsClassifier</label><div class=\"sk-toggleable__content\"><pre>KNeighborsClassifier(n_neighbors=2)</pre></div></div></div></div></div>"
      ],
      "text/plain": [
       "KNeighborsClassifier(n_neighbors=2)"
      ]
     },
     "execution_count": 125,
     "metadata": {},
     "output_type": "execute_result"
    }
   ],
   "source": [
    "knn.fit(X1_train,Y1_train)"
   ]
  },
  {
   "cell_type": "code",
   "execution_count": 126,
   "id": "fc3fba1e",
   "metadata": {},
   "outputs": [],
   "source": [
    "pred=knn.predict(X1_test)"
   ]
  },
  {
   "cell_type": "code",
   "execution_count": 127,
   "id": "7806d1ee",
   "metadata": {},
   "outputs": [],
   "source": [
    "Y1_pred_proba=knn.predict_proba(X1_test)"
   ]
  },
  {
   "cell_type": "code",
   "execution_count": null,
   "id": "8262e1f0",
   "metadata": {},
   "outputs": [],
   "source": [
    "((pred==Y1_test.values).sum())/Y1_test.size"
   ]
  },
  {
   "cell_type": "code",
   "execution_count": 128,
   "id": "73212509",
   "metadata": {},
   "outputs": [
    {
     "data": {
      "text/plain": [
       "0.6153846153846154"
      ]
     },
     "execution_count": 128,
     "metadata": {},
     "output_type": "execute_result"
    }
   ],
   "source": [
    "knn.score(X1_test,Y1_test)"
   ]
  },
  {
   "cell_type": "code",
   "execution_count": 129,
   "id": "15e0be26",
   "metadata": {},
   "outputs": [
    {
     "data": {
      "text/plain": [
       "array(['democratic', 'democratic', 'whig', 'republican', 'democratic',\n",
       "       'democratic-republican', 'democratic', 'democratic', 'republican',\n",
       "       'republican', 'republican', 'republican', 'republican'],\n",
       "      dtype=object)"
      ]
     },
     "execution_count": 129,
     "metadata": {},
     "output_type": "execute_result"
    }
   ],
   "source": [
    "Y1_test.values"
   ]
  },
  {
   "cell_type": "code",
   "execution_count": null,
   "id": "186babfb",
   "metadata": {},
   "outputs": [],
   "source": [
    "from sklearn.metrics import accuracy_score"
   ]
  },
  {
   "cell_type": "code",
   "execution_count": null,
   "id": "57d0e4d5",
   "metadata": {
    "scrolled": true
   },
   "outputs": [],
   "source": [
    "accuracy_score(Y1_test,pred)"
   ]
  },
  {
   "cell_type": "code",
   "execution_count": null,
   "id": "7e30d5fc",
   "metadata": {},
   "outputs": [],
   "source": [
    "from sklearn.model_selection import cross_val_score"
   ]
  },
  {
   "cell_type": "code",
   "execution_count": null,
   "id": "faa96fb5",
   "metadata": {},
   "outputs": [],
   "source": [
    "knn_cv=cross_val_score(knn,X1,Y1,cv=3)\n",
    "knn_cv"
   ]
  },
  {
   "cell_type": "code",
   "execution_count": null,
   "id": "327e03f6",
   "metadata": {
    "scrolled": true
   },
   "outputs": [],
   "source": [
    "knn"
   ]
  },
  {
   "cell_type": "code",
   "execution_count": null,
   "id": "3298730b",
   "metadata": {},
   "outputs": [],
   "source": [
    "# arr_centred.mean(0).round(4)"
   ]
  },
  {
   "cell_type": "code",
   "execution_count": null,
   "id": "8ebc158d",
   "metadata": {},
   "outputs": [],
   "source": [
    "x=np.linspace(0,5,50)\n",
    "y=np.linspace(0,5,50)[:,np.newaxis]\n",
    "z=np.sin(x) ** 10 + np.cos(10 + y * x) * np.cos(x)"
   ]
  },
  {
   "cell_type": "code",
   "execution_count": null,
   "id": "2d2f4a1c",
   "metadata": {},
   "outputs": [],
   "source": [
    "plt.imshow(z, origin='lower', extent=[0, 5, 0, 5],cmap='viridis')\n",
    "plt.colorbar();"
   ]
  },
  {
   "cell_type": "code",
   "execution_count": null,
   "id": "5c2b33b7",
   "metadata": {},
   "outputs": [],
   "source": [
    "all_sets"
   ]
  },
  {
   "cell_type": "code",
   "execution_count": null,
   "id": "5701ba1e",
   "metadata": {},
   "outputs": [],
   "source": [
    "new_sets=set ([21,33,12])"
   ]
  },
  {
   "cell_type": "code",
   "execution_count": null,
   "id": "3f5ac6bb",
   "metadata": {},
   "outputs": [],
   "source": [
    "all_sets=new_sets"
   ]
  },
  {
   "cell_type": "code",
   "execution_count": null,
   "id": "b2342b06",
   "metadata": {},
   "outputs": [],
   "source": []
  },
  {
   "cell_type": "code",
   "execution_count": null,
   "id": "5411a609",
   "metadata": {},
   "outputs": [],
   "source": [
    "all_sets.issubset(new_sets)"
   ]
  },
  {
   "cell_type": "code",
   "execution_count": null,
   "id": "6b293ec5",
   "metadata": {},
   "outputs": [],
   "source": [
    "arr1=np.array([1,0,1,1,0,1])\n",
    "arr2=np.array([0,1,0,0,0,1])\n"
   ]
  },
  {
   "cell_type": "code",
   "execution_count": null,
   "id": "94cbe94e",
   "metadata": {},
   "outputs": [],
   "source": [
    "(arr1 & arr2)"
   ]
  },
  {
   "cell_type": "code",
   "execution_count": null,
   "id": "c19530a7",
   "metadata": {},
   "outputs": [],
   "source": [
    "~arr2"
   ]
  },
  {
   "cell_type": "code",
   "execution_count": null,
   "id": "bb21059c",
   "metadata": {},
   "outputs": [],
   "source": [
    "print(list(iter.combinations(range(3),3)))"
   ]
  },
  {
   "cell_type": "code",
   "execution_count": null,
   "id": "9d8e8010",
   "metadata": {},
   "outputs": [],
   "source": [
    "np.random.multivariate_normal?"
   ]
  },
  {
   "cell_type": "code",
   "execution_count": null,
   "id": "5aa65a13",
   "metadata": {},
   "outputs": [],
   "source": [
    "list(iter.permutations(range(4),2))"
   ]
  },
  {
   "cell_type": "code",
   "execution_count": null,
   "id": "97bd2a2d",
   "metadata": {},
   "outputs": [],
   "source": [
    "sns.scatterplot(x='age',y='height', data= pres_df)"
   ]
  },
  {
   "cell_type": "markdown",
   "id": "cb47de94",
   "metadata": {},
   "source": [
    "# hier ist ein Ei, mochtest du ein Kaffee fur mich kaufen\n",
    "# Ich brache eine kleidung fur meine schwester."
   ]
  },
  {
   "cell_type": "code",
   "execution_count": null,
   "id": "7c284409",
   "metadata": {},
   "outputs": [],
   "source": [
    "mean = [1, 1]\n",
    "cov = [[1, 2],[2, 5]]\n",
    "X = np.random.multivariate_normal(mean, cov, 100)"
   ]
  },
  {
   "cell_type": "code",
   "execution_count": null,
   "id": "368a58ff",
   "metadata": {},
   "outputs": [],
   "source": [
    "selected=np.random.choice(X.shape[0],20,replace=False)"
   ]
  },
  {
   "cell_type": "code",
   "execution_count": null,
   "id": "765f9c89",
   "metadata": {},
   "outputs": [],
   "source": [
    "select=X[selected]"
   ]
  },
  {
   "cell_type": "code",
   "execution_count": null,
   "id": "cf9f1ac0",
   "metadata": {},
   "outputs": [],
   "source": [
    "select.shape"
   ]
  },
  {
   "cell_type": "code",
   "execution_count": null,
   "id": "37104fa5",
   "metadata": {},
   "outputs": [],
   "source": [
    "%matplotlib inline\n",
    "plt.scatter(X[:,0],X[:,1],alpha=0.3)\n",
    "plt.scatter(select[:,0],select[:,1],facecolor='none',s=50)\n",
    "sns.set()"
   ]
  },
  {
   "cell_type": "code",
   "execution_count": null,
   "id": "6ddfc63d",
   "metadata": {},
   "outputs": [],
   "source": [
    "x=np.zeros(10)\n",
    "i=[2,3,3,4,4,4]\n",
    "np.add.at(x,i,4)"
   ]
  },
  {
   "cell_type": "code",
   "execution_count": null,
   "id": "fbae017b",
   "metadata": {
    "scrolled": true
   },
   "outputs": [],
   "source": [
    "knn=np.random.rand(10,2)"
   ]
  },
  {
   "cell_type": "code",
   "execution_count": null,
   "id": "44afbd8d",
   "metadata": {},
   "outputs": [],
   "source": [
    "knn"
   ]
  },
  {
   "cell_type": "code",
   "execution_count": null,
   "id": "ce1f0142",
   "metadata": {},
   "outputs": [],
   "source": [
    "knn[:,np.newaxis,:].shape"
   ]
  },
  {
   "cell_type": "code",
   "execution_count": null,
   "id": "1eec60ea",
   "metadata": {},
   "outputs": [],
   "source": [
    "knn[np.newaxis,:,:].shape"
   ]
  },
  {
   "cell_type": "code",
   "execution_count": null,
   "id": "e1375fb5",
   "metadata": {},
   "outputs": [],
   "source": [
    " 0.88034098-0.64401926"
   ]
  },
  {
   "cell_type": "code",
   "execution_count": null,
   "id": "dfb41cab",
   "metadata": {},
   "outputs": [],
   "source": [
    "# knn=np.random.rand(10,2)"
   ]
  },
  {
   "cell_type": "code",
   "execution_count": null,
   "id": "27742861",
   "metadata": {},
   "outputs": [],
   "source": [
    "plt.scatter(knn[:,0],knn[:,1])"
   ]
  },
  {
   "cell_type": "code",
   "execution_count": null,
   "id": "2d9ea537",
   "metadata": {},
   "outputs": [],
   "source": [
    "knn[np.newaxis,:,:]"
   ]
  },
  {
   "cell_type": "code",
   "execution_count": null,
   "id": "5de83a3c",
   "metadata": {},
   "outputs": [],
   "source": [
    "np.array([[0.2835313 , 0.88034098]])-np.array([[0.2835313 , 0.88034098],\n",
    "[0.62586126, 0.64401926],\n",
    "[0.81030683, 0.14819023],\n",
    "[0.24604424, 0.53482592],\n",
    "[0.13915836, 0.55014405],\n",
    "[0.42203612, 0.82712441],\n",
    "[0.70399057, 0.55748275],\n",
    "[0.89525007, 0.63838845],\n",
    "[0.69282795, 0.59248741],\n",
    "[0.96805253, 0.60311561]])"
   ]
  },
  {
   "cell_type": "code",
   "execution_count": null,
   "id": "5f7b450b",
   "metadata": {},
   "outputs": [],
   "source": [
    "kn=(knn[:,np.newaxis,:]-knn[np.newaxis,:,:])"
   ]
  },
  {
   "cell_type": "code",
   "execution_count": null,
   "id": "45b66407",
   "metadata": {},
   "outputs": [],
   "source": [
    "kn.sum(-1)"
   ]
  },
  {
   "cell_type": "code",
   "execution_count": null,
   "id": "77b4b187",
   "metadata": {},
   "outputs": [],
   "source": [
    "kn.sum(-1).diagonal()"
   ]
  },
  {
   "cell_type": "code",
   "execution_count": null,
   "id": "8eb2f254",
   "metadata": {},
   "outputs": [],
   "source": [
    "kn.shape"
   ]
  },
  {
   "cell_type": "code",
   "execution_count": null,
   "id": "23c9df4d",
   "metadata": {},
   "outputs": [],
   "source": [
    "arr=np.random.randint(0,10,(3,3))"
   ]
  },
  {
   "cell_type": "code",
   "execution_count": null,
   "id": "09db4d48",
   "metadata": {},
   "outputs": [],
   "source": [
    "arr=arr[:,np.newaxis,:]"
   ]
  },
  {
   "cell_type": "code",
   "execution_count": null,
   "id": "043dcd84",
   "metadata": {},
   "outputs": [],
   "source": [
    "arr[1]-arr[0]"
   ]
  },
  {
   "cell_type": "code",
   "execution_count": null,
   "id": "564171c2",
   "metadata": {},
   "outputs": [],
   "source": [
    "arr"
   ]
  },
  {
   "cell_type": "code",
   "execution_count": null,
   "id": "dc299eee",
   "metadata": {},
   "outputs": [],
   "source": [
    "(arr[np.newaxis,:,:])"
   ]
  },
  {
   "cell_type": "code",
   "execution_count": null,
   "id": "e5e5e169",
   "metadata": {},
   "outputs": [],
   "source": [
    "car=np.random.randint(0,10,(2,2))"
   ]
  },
  {
   "cell_type": "code",
   "execution_count": null,
   "id": "59ffed56",
   "metadata": {},
   "outputs": [],
   "source": [
    "car"
   ]
  },
  {
   "cell_type": "code",
   "execution_count": null,
   "id": "17afe983",
   "metadata": {},
   "outputs": [],
   "source": [
    "cra=car[:,np.newaxis,:]\n",
    "print(cra)\n",
    "cra.shape"
   ]
  },
  {
   "cell_type": "code",
   "execution_count": null,
   "id": "fae89c8f",
   "metadata": {},
   "outputs": [],
   "source": [
    "arc=car[np.newaxis,:,:]\n",
    "print(arc)\n",
    "arc.shape"
   ]
  },
  {
   "cell_type": "markdown",
   "id": "0e1711d3",
   "metadata": {},
   "source": [
    "# (2,4,3)"
   ]
  },
  {
   "cell_type": "code",
   "execution_count": null,
   "id": "95467bfa",
   "metadata": {},
   "outputs": [],
   "source": [
    "cam=np.array([\n",
    "    [[1,2,3]],\n",
    "    [[1,2,3]],\n",
    "])"
   ]
  },
  {
   "cell_type": "code",
   "execution_count": null,
   "id": "37b0b770",
   "metadata": {},
   "outputs": [],
   "source": [
    "cam.shape"
   ]
  },
  {
   "cell_type": "code",
   "execution_count": null,
   "id": "3185e9cb",
   "metadata": {},
   "outputs": [],
   "source": [
    "np.array([[\n",
    "    [4,6]],\n",
    "    [[1,7]]\n",
    "]).shape"
   ]
  },
  {
   "cell_type": "code",
   "execution_count": null,
   "id": "fd8b8e0b",
   "metadata": {},
   "outputs": [],
   "source": [
    "nab=np.array([\n",
    "                [[1,2]],\n",
    "                [[1,2]]                \n",
    "                     ])"
   ]
  },
  {
   "cell_type": "code",
   "execution_count": null,
   "id": "ff712920",
   "metadata": {},
   "outputs": [],
   "source": [
    "nab.shape"
   ]
  },
  {
   "cell_type": "code",
   "execution_count": null,
   "id": "171fefa1",
   "metadata": {},
   "outputs": [],
   "source": [
    "np.array([[[4,7],[4,7]]]).shape"
   ]
  },
  {
   "cell_type": "code",
   "execution_count": null,
   "id": "bb5f186d",
   "metadata": {},
   "outputs": [],
   "source": [
    "(arc-cra).shape\n",
    "# 2,2,2"
   ]
  },
  {
   "cell_type": "code",
   "execution_count": null,
   "id": "a6af18cf",
   "metadata": {},
   "outputs": [],
   "source": [
    "arc\n",
    "# 1,1,2,2"
   ]
  },
  {
   "cell_type": "code",
   "execution_count": null,
   "id": "d8836c78",
   "metadata": {},
   "outputs": [],
   "source": [
    "barc=arc"
   ]
  },
  {
   "cell_type": "code",
   "execution_count": null,
   "id": "a5f18d2b",
   "metadata": {},
   "outputs": [],
   "source": [
    "barc.shape\n",
    "# 1,1,1,2"
   ]
  },
  {
   "cell_type": "code",
   "execution_count": null,
   "id": "ed8a6864",
   "metadata": {},
   "outputs": [],
   "source": [
    "ax=x.argsort()"
   ]
  },
  {
   "cell_type": "code",
   "execution_count": null,
   "id": "b8ba4a64",
   "metadata": {},
   "outputs": [],
   "source": [
    "x[ax]"
   ]
  },
  {
   "cell_type": "code",
   "execution_count": null,
   "id": "2f18551a",
   "metadata": {},
   "outputs": [],
   "source": [
    "knd=(kn.sum(-1))**2"
   ]
  },
  {
   "cell_type": "code",
   "execution_count": null,
   "id": "7645664c",
   "metadata": {},
   "outputs": [],
   "source": [
    "knd"
   ]
  },
  {
   "cell_type": "code",
   "execution_count": null,
   "id": "f1a730ed",
   "metadata": {},
   "outputs": [],
   "source": [
    "knd.round(2)"
   ]
  },
  {
   "cell_type": "code",
   "execution_count": null,
   "id": "38256032",
   "metadata": {},
   "outputs": [],
   "source": [
    "knd.argsort()"
   ]
  },
  {
   "cell_type": "code",
   "execution_count": null,
   "id": "1a67e892",
   "metadata": {},
   "outputs": [],
   "source": [
    "k=2\n",
    "nearest_knd=knd.argpartition(k+1)"
   ]
  },
  {
   "cell_type": "code",
   "execution_count": null,
   "id": "45975426",
   "metadata": {},
   "outputs": [],
   "source": [
    "nearest_knd"
   ]
  },
  {
   "cell_type": "code",
   "execution_count": null,
   "id": "476e936a",
   "metadata": {},
   "outputs": [],
   "source": [
    "\n",
    "plt.scatter(knn[:,0],knn[:,1])\n",
    "sns.set()"
   ]
  },
  {
   "cell_type": "code",
   "execution_count": null,
   "id": "644d35b3",
   "metadata": {},
   "outputs": [],
   "source": [
    "nearest_knd[9]"
   ]
  },
  {
   "cell_type": "code",
   "execution_count": null,
   "id": "ea6332cb",
   "metadata": {},
   "outputs": [],
   "source": [
    "for i in range(10):\n",
    "    print(i)"
   ]
  },
  {
   "cell_type": "code",
   "execution_count": null,
   "id": "8f433d76",
   "metadata": {},
   "outputs": [],
   "source": [
    "plt.scatter(knn[:,0],knn[:,1])\n",
    "for i in range(knn.shape[0]):\n",
    "    for j in nearest_knd[i, :k+1]:\n",
    "        plt.plot(*zip(X[j], X[i]), color='black')\n"
   ]
  },
  {
   "cell_type": "code",
   "execution_count": null,
   "id": "61b16b05",
   "metadata": {},
   "outputs": [],
   "source": [
    "# status=pd.Series({'Dad':'Head','Ma':'Assist'})\n",
    "# pos=pd.Series({'Dad':'01','Ma':'02'})\n",
    "# loc=pd.Series({\"Dad\":'Nig','Ma':\"Nig\"})\n",
    "\n",
    "mem=[\"Dad\",'Ma',\"Mama D\",'Tee Boi', 'Abi Boi','Bobo D']\n",
    "\n",
    "status=pd.Series(['Head','Assist','Somebody\\'s wife','Fransozisch', 'Data Boi','Disturbance'], index=[\"Dad\",'Ma',\"Mama D\",'Tee Boi', 'Abi Boi','Bobo D'])\n",
    "pos=pd.Series(['01','02','03','04', '05','06'], index=mem)\n",
    "loc=pd.Series(['Nig',\"Nig\",'Nig','Fra', 'Nig','Nig'], index=mem)\n",
    "\n"
   ]
  },
  {
   "cell_type": "code",
   "execution_count": null,
   "id": "d3d337c7",
   "metadata": {},
   "outputs": [],
   "source": [
    "fam=pd.DataFrame({\"Status\":status,\"Position\":pos, 'Location':loc},index=(mem))"
   ]
  },
  {
   "cell_type": "code",
   "execution_count": null,
   "id": "df512368",
   "metadata": {},
   "outputs": [],
   "source": []
  },
  {
   "cell_type": "code",
   "execution_count": null,
   "id": "9fd2f4cb",
   "metadata": {},
   "outputs": [],
   "source": [
    "fam"
   ]
  },
  {
   "cell_type": "code",
   "execution_count": null,
   "id": "94ad885f",
   "metadata": {},
   "outputs": [],
   "source": [
    "pd.Series.groupby()."
   ]
  },
  {
   "cell_type": "code",
   "execution_count": null,
   "id": "9cc53dc9",
   "metadata": {},
   "outputs": [],
   "source": [
    "alle.head(10).sort_values(by='year', ascending=True)"
   ]
  },
  {
   "cell_type": "code",
   "execution_count": null,
   "id": "548c4ede",
   "metadata": {
    "scrolled": true
   },
   "outputs": [],
   "source": [
    "above18=alle.head(10).sort_values(by='year', ascending=True).groupby(['year','ages'])['population'].mean().unstack()"
   ]
  },
  {
   "cell_type": "code",
   "execution_count": null,
   "id": "102a77c0",
   "metadata": {},
   "outputs": [],
   "source": [
    "alle[state].fi('USA')"
   ]
  },
  {
   "cell_type": "code",
   "execution_count": null,
   "id": "83dfdc31",
   "metadata": {},
   "outputs": [],
   "source": [
    "# del all_ages\n",
    "above18"
   ]
  },
  {
   "cell_type": "code",
   "execution_count": null,
   "id": "97e594e6",
   "metadata": {},
   "outputs": [],
   "source": [
    "all_ages_index=alles[alles['ages']=='under18'].index\n",
    "# alle.loc[]"
   ]
  },
  {
   "cell_type": "code",
   "execution_count": null,
   "id": "14425d52",
   "metadata": {},
   "outputs": [],
   "source": [
    "def above(x):\n",
    "    return x['total']-x['under18']"
   ]
  },
  {
   "cell_type": "code",
   "execution_count": null,
   "id": "0c3a4bf1",
   "metadata": {},
   "outputs": [],
   "source": [
    "# alle.loc[all_ages,'ages']==alle.loc[ages,'ages']*-1\n",
    "alles.loc[all_ages,'ages']*(-1)"
   ]
  },
  {
   "cell_type": "code",
   "execution_count": null,
   "id": "5b3c7294",
   "metadata": {},
   "outputs": [],
   "source": [
    "alle.head()"
   ]
  },
  {
   "cell_type": "code",
   "execution_count": null,
   "id": "44195ea6",
   "metadata": {},
   "outputs": [],
   "source": [
    "alle.groupby(['year','population'])['ages']"
   ]
  },
  {
   "cell_type": "code",
   "execution_count": null,
   "id": "e04604c0",
   "metadata": {},
   "outputs": [],
   "source": [
    "def above18(x):\n",
    "    '''\n",
    "    to find the population of people above the age of 18\n",
    "    '''\n",
    "    rem=x['total']-x['under18']\n",
    "    return rem"
   ]
  },
  {
   "cell_type": "code",
   "execution_count": null,
   "id": "c603e822",
   "metadata": {},
   "outputs": [],
   "source": [
    "def appf(x):\n",
    "    x['data1']/=x['data2'].sum()\n",
    "    return x"
   ]
  },
  {
   "cell_type": "code",
   "execution_count": null,
   "id": "05e43a80",
   "metadata": {
    "scrolled": true
   },
   "outputs": [],
   "source": [
    "df.groupby('key').apply(appf)"
   ]
  },
  {
   "cell_type": "code",
   "execution_count": null,
   "id": "45c668a1",
   "metadata": {},
   "outputs": [],
   "source": []
  },
  {
   "cell_type": "code",
   "execution_count": null,
   "id": "7d071efb",
   "metadata": {},
   "outputs": [],
   "source": [
    "status[[0,3,5]]"
   ]
  },
  {
   "cell_type": "code",
   "execution_count": null,
   "id": "e46f9d8f",
   "metadata": {},
   "outputs": [],
   "source": [
    "fam.loc['Tee Boi':,:\"Location\"]"
   ]
  },
  {
   "cell_type": "code",
   "execution_count": null,
   "id": "5a2db7fd",
   "metadata": {},
   "outputs": [],
   "source": [
    "# %xmode\n",
    "rng = np.random.RandomState(42)\n",
    "ser = pd.DataFrame(rng.randint(0, 10, (3,4)), columns=['A','B','C','D'])"
   ]
  },
  {
   "cell_type": "code",
   "execution_count": null,
   "id": "d4b13107",
   "metadata": {},
   "outputs": [],
   "source": [
    "ser"
   ]
  },
  {
   "cell_type": "code",
   "execution_count": null,
   "id": "5cb7ac01",
   "metadata": {},
   "outputs": [],
   "source": [
    "A=pd.DataFrame(rng.randint(1,20,(2,2,)), columns=list('AB'))"
   ]
  },
  {
   "cell_type": "code",
   "execution_count": null,
   "id": "d442b166",
   "metadata": {},
   "outputs": [],
   "source": [
    "A"
   ]
  },
  {
   "cell_type": "code",
   "execution_count": null,
   "id": "647f6cbf",
   "metadata": {},
   "outputs": [],
   "source": [
    "B=pd.DataFrame(rng.randint(1,10,(4,4)), columns=list('QRST'))"
   ]
  },
  {
   "cell_type": "code",
   "execution_count": null,
   "id": "fdcec5cb",
   "metadata": {},
   "outputs": [],
   "source": [
    "B"
   ]
  },
  {
   "cell_type": "code",
   "execution_count": null,
   "id": "d9cb5488",
   "metadata": {},
   "outputs": [],
   "source": [
    "gab=pd.Series([23,np.nan,'crib',34,None,17])"
   ]
  },
  {
   "cell_type": "code",
   "execution_count": null,
   "id": "9d1ea8c4",
   "metadata": {},
   "outputs": [],
   "source": [
    "gab.isna()"
   ]
  },
  {
   "cell_type": "code",
   "execution_count": null,
   "id": "2bcd4dd6",
   "metadata": {},
   "outputs": [],
   "source": [
    "pd.MultiIndex.from_tuples([('Dad',0),('Ma',1),('Dan',2),('Bio',3),(0,0,1,1)])"
   ]
  },
  {
   "cell_type": "code",
   "execution_count": null,
   "id": "73849893",
   "metadata": {},
   "outputs": [],
   "source": [
    "gab.isna()"
   ]
  },
  {
   "cell_type": "code",
   "execution_count": null,
   "id": "5e112fbd",
   "metadata": {},
   "outputs": [],
   "source": []
  },
  {
   "cell_type": "code",
   "execution_count": null,
   "id": "ae68a78e",
   "metadata": {},
   "outputs": [],
   "source": [
    "gab.fillna(value=gab.mean().round(2))"
   ]
  },
  {
   "cell_type": "code",
   "execution_count": null,
   "id": "7f8e875d",
   "metadata": {},
   "outputs": [],
   "source": []
  },
  {
   "cell_type": "code",
   "execution_count": null,
   "id": "69af1053",
   "metadata": {
    "scrolled": true
   },
   "outputs": [],
   "source": [
    "B.subtract(B.iloc[1])"
   ]
  },
  {
   "cell_type": "code",
   "execution_count": null,
   "id": "b7daf33a",
   "metadata": {},
   "outputs": [],
   "source": [
    "list(iter.product(['Abiodun','Baba','Tee','Bobo D'],['Mama D','Ma']))"
   ]
  },
  {
   "cell_type": "code",
   "execution_count": null,
   "id": "b4926c8a",
   "metadata": {},
   "outputs": [],
   "source": [
    "cases=pd.MultiIndex.from_tuples([('Abiodun','1'),('Baba','2'),('Tee','1'),('Bobo D','2')])"
   ]
  },
  {
   "cell_type": "code",
   "execution_count": null,
   "id": "94018849",
   "metadata": {},
   "outputs": [],
   "source": [
    "cases"
   ]
  },
  {
   "cell_type": "code",
   "execution_count": null,
   "id": "427a016c",
   "metadata": {},
   "outputs": [],
   "source": [
    "case=pd.MultiIndex.from_product([['a','b'],['1','2']])"
   ]
  },
  {
   "cell_type": "code",
   "execution_count": null,
   "id": "a584582c",
   "metadata": {
    "scrolled": true
   },
   "outputs": [],
   "source": [
    "case"
   ]
  },
  {
   "cell_type": "code",
   "execution_count": null,
   "id": "c67521a9",
   "metadata": {},
   "outputs": [],
   "source": [
    "list('ABCD')"
   ]
  },
  {
   "cell_type": "code",
   "execution_count": null,
   "id": "cd8442c1",
   "metadata": {},
   "outputs": [],
   "source": [
    "index = [('California', 2000), ('California', 2010),\n",
    "('New York', 2000), ('New York', 2010),\n",
    "('Texas', 2000), ('Texas', 2010)]\n",
    "populations = [33871648, 37253956,\n",
    "18976457, 19378102,\n",
    "20851820, 25145561]\n",
    "pop = pd.Series(populations, index=index)"
   ]
  },
  {
   "cell_type": "code",
   "execution_count": null,
   "id": "8394c435",
   "metadata": {},
   "outputs": [],
   "source": [
    "pop"
   ]
  },
  {
   "cell_type": "code",
   "execution_count": null,
   "id": "a866c518",
   "metadata": {},
   "outputs": [],
   "source": [
    "pop__df=pd.DataFrame({'State':pop},index=pd.MultiIndex.from_tuples(index))"
   ]
  },
  {
   "cell_type": "code",
   "execution_count": null,
   "id": "b83a0d75",
   "metadata": {},
   "outputs": [],
   "source": [
    "pop__df"
   ]
  },
  {
   "cell_type": "code",
   "execution_count": null,
   "id": "0865dff5",
   "metadata": {},
   "outputs": [],
   "source": [
    "pop.index=pd.MultiIndex.from_tuples(index)"
   ]
  },
  {
   "cell_type": "code",
   "execution_count": null,
   "id": "3f782962",
   "metadata": {},
   "outputs": [],
   "source": [
    "pop_df=pd.DataFrame({'everyone':pop,'u18':[9267089, 9284094, 4687374, 4318033,5906301, 6879014]})\n"
   ]
  },
  {
   "cell_type": "code",
   "execution_count": null,
   "id": "0a43fd59",
   "metadata": {},
   "outputs": [],
   "source": [
    "pop_df.index.names=['State','Year']"
   ]
  },
  {
   "cell_type": "code",
   "execution_count": null,
   "id": "7a438479",
   "metadata": {
    "scrolled": true
   },
   "outputs": [],
   "source": [
    "pop_df"
   ]
  },
  {
   "cell_type": "code",
   "execution_count": null,
   "id": "9a0e6c61",
   "metadata": {},
   "outputs": [],
   "source": [
    "pop[:,2000], pop[:,2010]"
   ]
  },
  {
   "cell_type": "code",
   "execution_count": null,
   "id": "d661c3d5",
   "metadata": {},
   "outputs": [],
   "source": [
    "indices = pd.MultiIndex.from_product([[2013, 2014], [1, 2]],\n",
    "names=['Year', 'Visit'])"
   ]
  },
  {
   "cell_type": "code",
   "execution_count": null,
   "id": "90599720",
   "metadata": {},
   "outputs": [],
   "source": [
    "indices"
   ]
  },
  {
   "cell_type": "code",
   "execution_count": null,
   "id": "7e28e4a3",
   "metadata": {},
   "outputs": [],
   "source": [
    "cols=pd.MultiIndex.from_product([['Bob', 'Guido', 'Sue'], ['HR', 'Temp']],\n",
    "names=['Subject', 'Type'])"
   ]
  },
  {
   "cell_type": "code",
   "execution_count": null,
   "id": "4ac4a798",
   "metadata": {},
   "outputs": [],
   "source": [
    "cols"
   ]
  },
  {
   "cell_type": "code",
   "execution_count": null,
   "id": "24a2941c",
   "metadata": {},
   "outputs": [],
   "source": [
    "data = np.round(np.random.randn(4, 6), 2, out=data)\n",
    "# data[:, ::2] *= 10\n",
    "# data += 37"
   ]
  },
  {
   "cell_type": "code",
   "execution_count": null,
   "id": "397784d4",
   "metadata": {},
   "outputs": [],
   "source": [
    "data[:, ::2] *= 10\n",
    "data += 37"
   ]
  },
  {
   "cell_type": "code",
   "execution_count": null,
   "id": "20baed11",
   "metadata": {},
   "outputs": [],
   "source": [
    "data"
   ]
  },
  {
   "cell_type": "code",
   "execution_count": null,
   "id": "3e927fd8",
   "metadata": {},
   "outputs": [],
   "source": [
    "data"
   ]
  },
  {
   "cell_type": "code",
   "execution_count": null,
   "id": "80b76e6e",
   "metadata": {},
   "outputs": [],
   "source": [
    "-0.57+37"
   ]
  },
  {
   "cell_type": "code",
   "execution_count": null,
   "id": "5ded0ae8",
   "metadata": {},
   "outputs": [],
   "source": [
    "med_rec=pd.DataFrame(data=data,index=indices,columns=cols)"
   ]
  },
  {
   "cell_type": "code",
   "execution_count": null,
   "id": "7106b894",
   "metadata": {},
   "outputs": [],
   "source": [
    "med_rec"
   ]
  },
  {
   "cell_type": "code",
   "execution_count": null,
   "id": "0604ed8a",
   "metadata": {},
   "outputs": [],
   "source": [
    "(med_rec['Bob']).shape"
   ]
  },
  {
   "cell_type": "code",
   "execution_count": null,
   "id": "d926554d",
   "metadata": {},
   "outputs": [],
   "source": [
    "(med_rec[['Bob']]).shape"
   ]
  },
  {
   "cell_type": "code",
   "execution_count": null,
   "id": "a2d8cb25",
   "metadata": {},
   "outputs": [],
   "source": [
    "index=pd.MultiIndex.from_product([['Jan','May','July'],list(range(1,32))])"
   ]
  },
  {
   "cell_type": "code",
   "execution_count": null,
   "id": "512f6716",
   "metadata": {},
   "outputs": [],
   "source": [
    "col=pd.MultiIndex.from_product([['Credit','Debit'],['First Quarter Hours','Second Quarter Hours','Third Quarter Hours','Fourth Quarter Hours']])"
   ]
  },
  {
   "cell_type": "code",
   "execution_count": null,
   "id": "d70b171f",
   "metadata": {},
   "outputs": [],
   "source": [
    "col"
   ]
  },
  {
   "cell_type": "code",
   "execution_count": null,
   "id": "1cc31f1f",
   "metadata": {
    "scrolled": true
   },
   "outputs": [],
   "source": [
    "contributions=pd.DataFrame(data=data,index=index, columns=col)"
   ]
  },
  {
   "cell_type": "code",
   "execution_count": null,
   "id": "01004a1f",
   "metadata": {},
   "outputs": [],
   "source": [
    "`contributions.index.names=['Month','Date']"
   ]
  },
  {
   "cell_type": "code",
   "execution_count": null,
   "id": "7eccb8c1",
   "metadata": {},
   "outputs": [],
   "source": [
    "contributions.loc[:,('Credit','First Quarter Hours')]"
   ]
  },
  {
   "cell_type": "code",
   "execution_count": null,
   "id": "4d81f4c7",
   "metadata": {},
   "outputs": [],
   "source": [
    "# %%timeit\n",
    "contributions.isna()"
   ]
  },
  {
   "cell_type": "code",
   "execution_count": null,
   "id": "b456e134",
   "metadata": {},
   "outputs": [],
   "source": [
    "contributions.reset_index()"
   ]
  },
  {
   "cell_type": "code",
   "execution_count": null,
   "id": "cd2d8707",
   "metadata": {},
   "outputs": [],
   "source": [
    "med_rec"
   ]
  },
  {
   "cell_type": "code",
   "execution_count": null,
   "id": "82c335e2",
   "metadata": {},
   "outputs": [],
   "source": [
    "bax=pd.MultiIndex.from_product([['A','B','C'],['1','2','3']])"
   ]
  },
  {
   "cell_type": "code",
   "execution_count": null,
   "id": "a867dc90",
   "metadata": {},
   "outputs": [],
   "source": [
    "bax"
   ]
  },
  {
   "cell_type": "code",
   "execution_count": null,
   "id": "0b3796cc",
   "metadata": {},
   "outputs": [],
   "source": [
    "med_recmean=med_rec.groupby(level=0).mean()\n",
    "med_recmean"
   ]
  },
  {
   "cell_type": "code",
   "execution_count": null,
   "id": "bc6fe718",
   "metadata": {},
   "outputs": [],
   "source": [
    "med_recmean.groupby(level=0).mean()"
   ]
  },
  {
   "cell_type": "code",
   "execution_count": null,
   "id": "f54ae009",
   "metadata": {},
   "outputs": [],
   "source": [
    "arr=np.array([[4,9],[8,7]])"
   ]
  },
  {
   "cell_type": "code",
   "execution_count": null,
   "id": "80929175",
   "metadata": {},
   "outputs": [],
   "source": [
    "arr"
   ]
  },
  {
   "cell_type": "code",
   "execution_count": null,
   "id": "19a6be73",
   "metadata": {},
   "outputs": [],
   "source": [
    "np.concatenate([arr,arr],axis=0)"
   ]
  },
  {
   "cell_type": "code",
   "execution_count": null,
   "id": "a1904617",
   "metadata": {},
   "outputs": [],
   "source": [
    "print(__)"
   ]
  },
  {
   "cell_type": "code",
   "execution_count": null,
   "id": "2702d453",
   "metadata": {},
   "outputs": [],
   "source": [
    "df6 = pd.DataFrame ({ 'name' : [ 'Peter' , 'Paul' , 'Mary' ],'food' : [ 'fish' , 'beans' , 'bread' ]},columns= [ 'name' , 'food' ])\n",
    "df7 = pd.DataFrame ({ 'name' : [ 'Mary' , 'Joseph' ],'drink' : [ 'wine' , 'beer' ]},columns= [ 'name' , 'drink' ])"
   ]
  },
  {
   "cell_type": "code",
   "execution_count": null,
   "id": "a792d73a",
   "metadata": {},
   "outputs": [],
   "source": [
    "print(pd.merge(df6,df7,how='right'))"
   ]
  },
  {
   "cell_type": "code",
   "execution_count": null,
   "id": "12342d45",
   "metadata": {},
   "outputs": [],
   "source": [
    "Fam1=pd.DataFrame({'Parents':['Father','Mom'],'names':['Amos','Mary'],\"Influence\":[2,1]})\n",
    "Fam2=pd.DataFrame({'Eltern':['Father','Mom'],'Salary':['200 000','150 000'], 'Position':[1,2]})"
   ]
  },
  {
   "cell_type": "code",
   "execution_count": null,
   "id": "1dd344f8",
   "metadata": {},
   "outputs": [],
   "source": [
    "print(pd.merge(Fam1,Fam2,left_on='Parents',right_on='Eltern', suffixes=[' Pa',' Ma']).drop('Parents', axis=1))"
   ]
  },
  {
   "cell_type": "code",
   "execution_count": null,
   "id": "ce287fcd",
   "metadata": {},
   "outputs": [],
   "source": [
    "df8 = pd . DataFrame ({ 'name' : [ 'Bob' , 'Jake' , 'Lisa' , 'Sue' ],'rank' : [ 1 , 2 , 3 , 4 ]})\n",
    "df9 = pd . DataFrame ({ 'name' : [ 'Bob' , 'Jake' , 'Lisa' , 'Sue' ],'rank' : [ 3 , 1 , 4 , 2 ]})\n",
    "print(pd.merge(df8,df9,on='name'))"
   ]
  },
  {
   "cell_type": "code",
   "execution_count": null,
   "id": "77fbf0b8",
   "metadata": {},
   "outputs": [],
   "source": []
  },
  {
   "cell_type": "code",
   "execution_count": null,
   "id": "c580bb16",
   "metadata": {},
   "outputs": [],
   "source": [
    "%cd data-USstates/"
   ]
  },
  {
   "cell_type": "markdown",
   "id": "b7718117",
   "metadata": {},
   "source": [
    "# Example 2"
   ]
  },
  {
   "cell_type": "code",
   "execution_count": null,
   "id": "8b6b8ff7",
   "metadata": {},
   "outputs": [],
   "source": [
    "%cd Downloads/Github/data-USstates/"
   ]
  },
  {
   "cell_type": "code",
   "execution_count": null,
   "id": "4e651b8a",
   "metadata": {},
   "outputs": [],
   "source": [
    "states_areas=pd.read_csv('state-areas.csv')\n",
    "states_pop=pd.read_csv('state-population.csv')\n",
    "states_abbrev=pd.read_csv('state-abbrevs.csv')"
   ]
  },
  {
   "cell_type": "code",
   "execution_count": null,
   "id": "53989e51",
   "metadata": {},
   "outputs": [],
   "source": [
    "\n",
    "# states_pop.sort_values()\n",
    "print(states_pop.head())\n",
    "print(states_abbrev.head())"
   ]
  },
  {
   "cell_type": "code",
   "execution_count": null,
   "id": "857d47c2",
   "metadata": {},
   "outputs": [],
   "source": [
    "pd.merge(states_abbrev,states_pop,how='outer',right_on='state/region',left_on='abbreviation')"
   ]
  },
  {
   "cell_type": "code",
   "execution_count": null,
   "id": "72025554",
   "metadata": {},
   "outputs": [],
   "source": [
    "kalle=pd.merge(states_pop,states_abbrev, how='outer', left_on='state/region',right_on='abbreviation').drop('abbreviation', axis=1)"
   ]
  },
  {
   "cell_type": "code",
   "execution_count": null,
   "id": "ce39549a",
   "metadata": {},
   "outputs": [],
   "source": []
  },
  {
   "cell_type": "code",
   "execution_count": null,
   "id": "6370298e",
   "metadata": {},
   "outputs": [],
   "source": [
    "alle.info()"
   ]
  },
  {
   "cell_type": "code",
   "execution_count": null,
   "id": "d58225fc",
   "metadata": {},
   "outputs": [],
   "source": [
    "alle.isnull().any()"
   ]
  },
  {
   "cell_type": "code",
   "execution_count": null,
   "id": "790e6acb",
   "metadata": {},
   "outputs": [],
   "source": [
    "alle_nulls=alle.loc[alle['state'].isnull(),'state/region']\n",
    "alle_nulls.unique()"
   ]
  },
  {
   "cell_type": "code",
   "execution_count": null,
   "id": "c154cbf1",
   "metadata": {},
   "outputs": [],
   "source": [
    "alle.dropna(axis=0, inplace=True)"
   ]
  },
  {
   "cell_type": "code",
   "execution_count": null,
   "id": "ef703271",
   "metadata": {},
   "outputs": [],
   "source": [
    "alle.loc[alle['state/region']=='PR','state']='Puerto Rico'\n",
    "alle.loc[alle['state/region']=='USA','state']='United State of America'"
   ]
  },
  {
   "cell_type": "code",
   "execution_count": null,
   "id": "3e8884a4",
   "metadata": {
    "scrolled": true
   },
   "outputs": [],
   "source": [
    "alle"
   ]
  },
  {
   "cell_type": "code",
   "execution_count": null,
   "id": "c448155e",
   "metadata": {},
   "outputs": [],
   "source": [
    "for (st,st_gr) in alle.isna().groupby('state'):\n",
    "    print(st,st_gr.shape)"
   ]
  },
  {
   "cell_type": "code",
   "execution_count": null,
   "id": "60a3189a",
   "metadata": {
    "scrolled": true
   },
   "outputs": [],
   "source": [
    "# alle[alle['state'].isnull()]\n",
    "# alle.loc[alle['state/region']=='PR','state']\n",
    "# alle.loc[alle['year']==1990,]"
   ]
  },
  {
   "cell_type": "code",
   "execution_count": null,
   "id": "af59d9c8",
   "metadata": {},
   "outputs": [],
   "source": [
    "ages_edwarchne=alle.pivot_table('population',columns='ages',index=['year','state/region'])\n",
    "ages_edwarchne.loc[[:,'PR'],]"
   ]
  },
  {
   "cell_type": "code",
   "execution_count": null,
   "id": "7e2ba3b6",
   "metadata": {},
   "outputs": [],
   "source": [
    "(ages_edwarchne['total']-ages_edwarchne['under18']).unstack()"
   ]
  },
  {
   "cell_type": "code",
   "execution_count": null,
   "id": "cb8d6949",
   "metadata": {},
   "outputs": [],
   "source": [
    "for"
   ]
  },
  {
   "cell_type": "code",
   "execution_count": null,
   "id": "f7101112",
   "metadata": {},
   "outputs": [],
   "source": [
    "all_data=pd.merge(states_areas,alle,on='state',how='outer',)"
   ]
  },
  {
   "cell_type": "code",
   "execution_count": null,
   "id": "a1dfceed",
   "metadata": {},
   "outputs": [],
   "source": [
    "all_data.columns"
   ]
  },
  {
   "cell_type": "code",
   "execution_count": null,
   "id": "1c32a0dd",
   "metadata": {
    "scrolled": true
   },
   "outputs": [],
   "source": [
    "all_data.isnull().any()"
   ]
  },
  {
   "cell_type": "code",
   "execution_count": null,
   "id": "451b7afc",
   "metadata": {},
   "outputs": [],
   "source": [
    "# all_data['state'][all_data['area (sq. mi)'].isnull()]\n",
    "all_data.loc[all_data['area (sq. mi)'].isnull(),'state'].unique()"
   ]
  },
  {
   "cell_type": "code",
   "execution_count": null,
   "id": "35b00e66",
   "metadata": {},
   "outputs": [],
   "source": [
    "all_data=all_data.dropna()"
   ]
  },
  {
   "cell_type": "code",
   "execution_count": null,
   "id": "bf14c120",
   "metadata": {
    "scrolled": true
   },
   "outputs": [],
   "source": [
    "all_data.isnull().any()"
   ]
  },
  {
   "cell_type": "code",
   "execution_count": null,
   "id": "0a1295db",
   "metadata": {},
   "outputs": [],
   "source": [
    "all_total_2010=all_data.query(\"year==2010 & ages=='total'\")"
   ]
  },
  {
   "cell_type": "code",
   "execution_count": null,
   "id": "ab44907b",
   "metadata": {},
   "outputs": [],
   "source": [
    "all_total_2010.head()"
   ]
  },
  {
   "cell_type": "code",
   "execution_count": null,
   "id": "af9dfb05",
   "metadata": {},
   "outputs": [],
   "source": [
    "all_total_2010.head(1)\n",
    "all_total_2010.columns"
   ]
  },
  {
   "cell_type": "code",
   "execution_count": null,
   "id": "f48d06ba",
   "metadata": {
    "scrolled": true
   },
   "outputs": [],
   "source": [
    "all_total_2010.set_index(['state','state/region'], inplace=True)"
   ]
  },
  {
   "cell_type": "code",
   "execution_count": null,
   "id": "4949e48d",
   "metadata": {},
   "outputs": [],
   "source": [
    "dense2010=all_total_2010['population']/all_total_2010['area (sq. mi)']"
   ]
  },
  {
   "cell_type": "code",
   "execution_count": null,
   "id": "10db3d9d",
   "metadata": {},
   "outputs": [],
   "source": [
    "dense2010.sort_values(ascending=True)"
   ]
  },
  {
   "cell_type": "code",
   "execution_count": null,
   "id": "994b747e",
   "metadata": {},
   "outputs": [],
   "source": [
    "dense2010.max()"
   ]
  },
  {
   "cell_type": "code",
   "execution_count": null,
   "id": "cf91b0cf",
   "metadata": {},
   "outputs": [],
   "source": [
    "PR_1=alle[(alle['state/region']=='PR')&(alle['population']>1)]\n",
    "PR_1q=PR_1.query('ages==\"under18\" & year>2000')"
   ]
  },
  {
   "cell_type": "code",
   "execution_count": null,
   "id": "1ad1b139",
   "metadata": {
    "scrolled": true
   },
   "outputs": [],
   "source": [
    "alle.head(6)"
   ]
  },
  {
   "cell_type": "code",
   "execution_count": null,
   "id": "ebfaa485",
   "metadata": {},
   "outputs": [],
   "source": [
    "PR_1q.reset_index(drop=True,inplace=True)"
   ]
  },
  {
   "cell_type": "code",
   "execution_count": null,
   "id": "0d07838e",
   "metadata": {},
   "outputs": [],
   "source": [
    "alle.set_index(['state','ages'])"
   ]
  },
  {
   "cell_type": "code",
   "execution_count": null,
   "id": "5c5d40dd",
   "metadata": {},
   "outputs": [],
   "source": [
    "alle[alle['ages']=='total']"
   ]
  },
  {
   "cell_type": "code",
   "execution_count": null,
   "id": "766fec8e",
   "metadata": {},
   "outputs": [],
   "source": [
    "alle.iloc[53:59]"
   ]
  },
  {
   "cell_type": "code",
   "execution_count": null,
   "id": "821067f0",
   "metadata": {},
   "outputs": [],
   "source": []
  },
  {
   "cell_type": "code",
   "execution_count": null,
   "id": "91a271df",
   "metadata": {},
   "outputs": [],
   "source": [
    "alle.loc[alle['year']>2010,'year':'state']"
   ]
  },
  {
   "cell_type": "code",
   "execution_count": null,
   "id": "1e4208b5",
   "metadata": {},
   "outputs": [],
   "source": [
    "alle.groupby('ages').aggregate(['min',np.median,max])"
   ]
  },
  {
   "cell_type": "code",
   "execution_count": null,
   "id": "5551adbb",
   "metadata": {
    "scrolled": true
   },
   "outputs": [],
   "source": [
    "alle.groupby('year')['population'].sum()"
   ]
  },
  {
   "cell_type": "markdown",
   "id": "7ffe23ad",
   "metadata": {},
   "source": [
    "# Example 3"
   ]
  },
  {
   "cell_type": "code",
   "execution_count": null,
   "id": "9acff60a",
   "metadata": {},
   "outputs": [],
   "source": [
    "planets_data=sns.load_dataset('planets')"
   ]
  },
  {
   "cell_type": "code",
   "execution_count": null,
   "id": "a004906c",
   "metadata": {},
   "outputs": [],
   "source": [
    "planets_data.head()\n",
    "# planets_data.shape"
   ]
  },
  {
   "cell_type": "code",
   "execution_count": null,
   "id": "7e368c3d",
   "metadata": {},
   "outputs": [],
   "source": [
    "planets_data.info()"
   ]
  },
  {
   "cell_type": "code",
   "execution_count": null,
   "id": "29fa99ee",
   "metadata": {},
   "outputs": [],
   "source": [
    "planets_data.isnull().sum()"
   ]
  },
  {
   "cell_type": "code",
   "execution_count": null,
   "id": "9cd019c1",
   "metadata": {},
   "outputs": [],
   "source": [
    "planets_data[planets_data.isna().any(axis=1)]\n",
    "# planets_data.loc[planets_data['method'].isna():planets_data['mass'].isna()]\n",
    "# planets_data.notna()\n",
    "# planets_data.shape"
   ]
  },
  {
   "cell_type": "code",
   "execution_count": null,
   "id": "b079fddf",
   "metadata": {},
   "outputs": [],
   "source": [
    "#dropped all NaN data\n",
    "planets_data_nd=planets_data.dropna()\n",
    "planets_data_nd.sort_values(by='year', inplace=True)\n",
    "planets_data_nd.reset_index(drop=True, inplace=True)\n",
    "planets_data_nd.index=planets_data_nd.index+1"
   ]
  },
  {
   "cell_type": "code",
   "execution_count": null,
   "id": "d5290eb9",
   "metadata": {},
   "outputs": [],
   "source": [
    "planets_data_nd.columns"
   ]
  },
  {
   "cell_type": "code",
   "execution_count": null,
   "id": "11435382",
   "metadata": {},
   "outputs": [],
   "source": [
    "planets_data_nd[planets_data_nd.loc[:,'mass']==3]"
   ]
  },
  {
   "cell_type": "code",
   "execution_count": null,
   "id": "f4d4b68b",
   "metadata": {},
   "outputs": [],
   "source": [
    "# to reload PLT\n",
    "from importlib import reload\n",
    "plt=reload(plt)"
   ]
  },
  {
   "cell_type": "code",
   "execution_count": null,
   "id": "4c1d4fb9",
   "metadata": {},
   "outputs": [],
   "source": [
    "planets_data_nd.columns"
   ]
  },
  {
   "cell_type": "code",
   "execution_count": null,
   "id": "311ddc1d",
   "metadata": {},
   "outputs": [],
   "source": [
    "from sklearn.linear_model import LinearRegression\n",
    "from sklearn.model_selection import train_test_split \n",
    "model_planets=LinearRegression()"
   ]
  },
  {
   "cell_type": "code",
   "execution_count": null,
   "id": "8cf8a256",
   "metadata": {},
   "outputs": [],
   "source": [
    "X=planets_data_nd[['orbital_period']]\n",
    "Y=planets_data_nd['year']"
   ]
  },
  {
   "cell_type": "code",
   "execution_count": null,
   "id": "1a73452e",
   "metadata": {
    "scrolled": true
   },
   "outputs": [],
   "source": [
    "X_train,X_test,Y_train,Y_test=train_test_split(X,Y,test_size=0.3)"
   ]
  },
  {
   "cell_type": "code",
   "execution_count": null,
   "id": "d1ade777",
   "metadata": {
    "scrolled": true
   },
   "outputs": [],
   "source": [
    "model_planets.fit(X_train,Y_train)"
   ]
  },
  {
   "cell_type": "code",
   "execution_count": null,
   "id": "1bd814f3",
   "metadata": {},
   "outputs": [],
   "source": [
    "model_planets.coef_"
   ]
  },
  {
   "cell_type": "code",
   "execution_count": null,
   "id": "8157dfb0",
   "metadata": {},
   "outputs": [],
   "source": [
    "y_test_pred=model_planets.predict(X_test)\n",
    "# y_train_pred=model_planets.predict(X_train)"
   ]
  },
  {
   "cell_type": "code",
   "execution_count": null,
   "id": "d2ad187d",
   "metadata": {
    "scrolled": true
   },
   "outputs": [],
   "source": [
    "plt.scatter(X_test,Y_test,label='testing data')\n",
    "plt.plot(X_test,y_test_pred,linewidth=3,linestyle='dashed', c='k',label='predicted data')\n",
    "plt.xlabel('Orbital Period')\n",
    "plt.title('Orbial Period against Year of the planetary bodies')\n",
    "plt.ylabel('Year')\n",
    "plt.legend()"
   ]
  },
  {
   "cell_type": "code",
   "execution_count": null,
   "id": "6f3d890f",
   "metadata": {},
   "outputs": [],
   "source": [
    "X_test.max(numeric_only=True).mass"
   ]
  },
  {
   "cell_type": "code",
   "execution_count": null,
   "id": "dcea2d47",
   "metadata": {},
   "outputs": [],
   "source": [
    "plt.scatter(X_test,residuals)\n",
    "\n",
    "plt.hlines(y=0,xmin=X_test.min(), xmax=X_test.max(),colors='k',linestyles='dashed')\n",
    "plt.xlim(0,X_test.max().mass+2)\n",
    "plt.xlabel('Distance')\n",
    "plt.ylabel('residuals')"
   ]
  },
  {
   "cell_type": "code",
   "execution_count": null,
   "id": "45ef6387",
   "metadata": {},
   "outputs": [],
   "source": [
    "residuals=Y_test-y_test_pred\n",
    "(residuals**2).mean()"
   ]
  },
  {
   "cell_type": "code",
   "execution_count": null,
   "id": "38e8bee2",
   "metadata": {},
   "outputs": [],
   "source": [
    "from sklearn.metrics import mean_squared_error\n",
    "mean_squared_error(Y_test,y_test_pred)"
   ]
  },
  {
   "cell_type": "code",
   "execution_count": null,
   "id": "135ce5d1",
   "metadata": {},
   "outputs": [],
   "source": [
    "model_planets.score(X_test,Y_test)"
   ]
  },
  {
   "cell_type": "code",
   "execution_count": null,
   "id": "fdffc2c5",
   "metadata": {},
   "outputs": [],
   "source": [
    "planets_data_nd.corr()"
   ]
  },
  {
   "cell_type": "code",
   "execution_count": null,
   "id": "39b42e72",
   "metadata": {
    "scrolled": true
   },
   "outputs": [],
   "source": [
    "# fig=plt.figure()\n",
    "# plt.scatter(x='mass',y='distance',data=planets_data_nd)\n",
    "sns.scatterplot(x='orbital_period',y='mass', data=planets_data_nd)\n",
    "plt.legend()\n",
    "plt.xlabel('mass')\n",
    "plt.ylabel('distance')\n",
    "plt.title('Mass against Distance')\n",
    "plt.show()"
   ]
  },
  {
   "cell_type": "code",
   "execution_count": null,
   "id": "891035a1",
   "metadata": {},
   "outputs": [],
   "source": [
    "planets_data.sort_values(by='method',ascending=True)"
   ]
  },
  {
   "cell_type": "code",
   "execution_count": null,
   "id": "c28124ff",
   "metadata": {},
   "outputs": [],
   "source": [
    "planets_data[planets_data['method']=='Transit Timing Variations']"
   ]
  },
  {
   "cell_type": "code",
   "execution_count": null,
   "id": "e811579f",
   "metadata": {},
   "outputs": [],
   "source": [
    "planets_data.groupby('method')['year'].describe()"
   ]
  },
  {
   "cell_type": "code",
   "execution_count": null,
   "id": "30b0cb4c",
   "metadata": {},
   "outputs": [],
   "source": [
    "planets_data[planets_data['method']=='Transit Timing Variations'].count()"
   ]
  },
  {
   "cell_type": "code",
   "execution_count": null,
   "id": "74677099",
   "metadata": {},
   "outputs": [],
   "source": [
    "for ( method , group ) in planets_data.groupby( 'method' ):\n",
    "    print ( \"{0:30s} shape={1}\" . format ( method , group.shape))"
   ]
  },
  {
   "cell_type": "code",
   "execution_count": null,
   "id": "7384a0d8",
   "metadata": {},
   "outputs": [],
   "source": [
    "decade = 10 * ( planets_data [ 'year' ] // 10 )\n",
    "decade = decade . astype ( str ) + 's'\n",
    "# decade . name = 'decade'\n",
    "planets_data . groupby ([ 'method' , decade ])[ 'number' ] . sum ().unstack(). fillna ( 0 )"
   ]
  },
  {
   "cell_type": "code",
   "execution_count": null,
   "id": "4d8c3f56",
   "metadata": {},
   "outputs": [],
   "source": [
    "alle.head()"
   ]
  },
  {
   "cell_type": "code",
   "execution_count": null,
   "id": "121cb179",
   "metadata": {},
   "outputs": [],
   "source": [
    "alle.groupby('year')[['ages']].sum()"
   ]
  },
  {
   "cell_type": "code",
   "execution_count": null,
   "id": "f2e2c54d",
   "metadata": {},
   "outputs": [],
   "source": [
    "alle.columns"
   ]
  },
  {
   "cell_type": "code",
   "execution_count": null,
   "id": "7eb6b99b",
   "metadata": {},
   "outputs": [],
   "source": [
    "df1=pd.DataFrame({'A':[1,2,3],'B':list('345')},index=['i','j','k'])"
   ]
  },
  {
   "cell_type": "code",
   "execution_count": null,
   "id": "7eab56c1",
   "metadata": {},
   "outputs": [],
   "source": [
    "df=pd.DataFrame({'cast':['Sam','Noah','Downey'],'production':['Cap America','Hulk','Thor']})"
   ]
  },
  {
   "cell_type": "code",
   "execution_count": null,
   "id": "50007935",
   "metadata": {},
   "outputs": [],
   "source": [
    "df1"
   ]
  },
  {
   "cell_type": "code",
   "execution_count": null,
   "id": "62e0e39d",
   "metadata": {},
   "outputs": [],
   "source": [
    "df1.groupby(str.upper).mean(0)"
   ]
  },
  {
   "cell_type": "code",
   "execution_count": null,
   "id": "61bc1e7a",
   "metadata": {},
   "outputs": [],
   "source": [
    "age=['under18','total']\n",
    "# alle.groupby(['year','ages']).agg()\n",
    "alle.set_index(['state/region'], inplace=True)\n",
    "alle.head()"
   ]
  },
  {
   "cell_type": "code",
   "execution_count": null,
   "id": "6072b627",
   "metadata": {
    "scrolled": true
   },
   "outputs": [],
   "source": [
    "alle.pivot_table(values=['population','year'],columns='ages')"
   ]
  },
  {
   "cell_type": "code",
   "execution_count": null,
   "id": "2472df5b",
   "metadata": {},
   "outputs": [],
   "source": [
    "titanic=sns.load_dataset('titanic')"
   ]
  },
  {
   "cell_type": "code",
   "execution_count": null,
   "id": "c269bf82",
   "metadata": {},
   "outputs": [],
   "source": [
    "titanic.columns"
   ]
  },
  {
   "cell_type": "code",
   "execution_count": null,
   "id": "44b25ead",
   "metadata": {},
   "outputs": [],
   "source": [
    "titanic.head()"
   ]
  },
  {
   "cell_type": "code",
   "execution_count": null,
   "id": "07fb5159",
   "metadata": {},
   "outputs": [],
   "source": [
    "titanic['alone']."
   ]
  },
  {
   "cell_type": "code",
   "execution_count": null,
   "id": "b8662558",
   "metadata": {},
   "outputs": [],
   "source": [
    "titanic.groupby(['age']).agg({'survived':[np.median,min,max],'alone':[np.median,min,max]})"
   ]
  },
  {
   "cell_type": "code",
   "execution_count": null,
   "id": "fa3a6c1a",
   "metadata": {},
   "outputs": [],
   "source": [
    "titanic . groupby ( 'sex' )[['survived','pclass','fare']].std()"
   ]
  },
  {
   "cell_type": "code",
   "execution_count": null,
   "id": "05f8fa93",
   "metadata": {},
   "outputs": [],
   "source": [
    "titanic[titanic.loc[:,'fare']==0]['age']"
   ]
  },
  {
   "cell_type": "code",
   "execution_count": null,
   "id": "3dfa5c58",
   "metadata": {},
   "outputs": [],
   "source": [
    "for (classes,grous) in titanic.groupby('pclass')['survived','sex','age','fare']:\n",
    "    print(f'{classes},                  ,{grous.shape}')"
   ]
  },
  {
   "cell_type": "code",
   "execution_count": null,
   "id": "0aea477f",
   "metadata": {},
   "outputs": [],
   "source": [
    "planets_data.head()"
   ]
  },
  {
   "cell_type": "code",
   "execution_count": null,
   "id": "98a15c4b",
   "metadata": {},
   "outputs": [],
   "source": [
    "decade=planets_data['year']"
   ]
  },
  {
   "cell_type": "code",
   "execution_count": null,
   "id": "cf50c6e6",
   "metadata": {},
   "outputs": [],
   "source": [
    "decade"
   ]
  },
  {
   "cell_type": "code",
   "execution_count": null,
   "id": "c620136d",
   "metadata": {},
   "outputs": [],
   "source": [
    "titanic['age'].describe()"
   ]
  },
  {
   "cell_type": "code",
   "execution_count": null,
   "id": "258e0322",
   "metadata": {},
   "outputs": [],
   "source": [
    "age=pd.qcut(titanic['age'],2)"
   ]
  },
  {
   "cell_type": "code",
   "execution_count": null,
   "id": "5a652d32",
   "metadata": {},
   "outputs": [],
   "source": [
    "age"
   ]
  },
  {
   "cell_type": "code",
   "execution_count": null,
   "id": "db03a779",
   "metadata": {},
   "outputs": [],
   "source": [
    "titanic.columns"
   ]
  },
  {
   "cell_type": "code",
   "execution_count": null,
   "id": "d4617395",
   "metadata": {
    "scrolled": true
   },
   "outputs": [],
   "source": [
    "titanic.pivot_table('survived',['alone',age],'class')\n"
   ]
  },
  {
   "cell_type": "code",
   "execution_count": null,
   "id": "b583973d",
   "metadata": {},
   "outputs": [],
   "source": [
    "# shell command to download the data:\n",
    "!curl -O https://raw.githubusercontent.com/jakevdp/data-CDCbirths/master/births.csv"
   ]
  },
  {
   "cell_type": "code",
   "execution_count": null,
   "id": "9a3d7db2",
   "metadata": {},
   "outputs": [],
   "source": [
    "!git status"
   ]
  },
  {
   "cell_type": "code",
   "execution_count": null,
   "id": "a2d9182e",
   "metadata": {},
   "outputs": [],
   "source": [
    "!ls"
   ]
  },
  {
   "cell_type": "code",
   "execution_count": null,
   "id": "994c3916",
   "metadata": {},
   "outputs": [],
   "source": [
    "!pwd"
   ]
  },
  {
   "cell_type": "code",
   "execution_count": null,
   "id": "209a96a4",
   "metadata": {},
   "outputs": [],
   "source": [
    "%ls"
   ]
  },
  {
   "cell_type": "code",
   "execution_count": null,
   "id": "7fb5f358",
   "metadata": {},
   "outputs": [],
   "source": [
    "%cd .."
   ]
  },
  {
   "cell_type": "code",
   "execution_count": null,
   "id": "864b0a4c",
   "metadata": {},
   "outputs": [],
   "source": [
    "%mkdir Birth_CDC"
   ]
  },
  {
   "cell_type": "code",
   "execution_count": null,
   "id": "1af3f9de",
   "metadata": {},
   "outputs": [],
   "source": [
    "%cd Birth_CDC/"
   ]
  },
  {
   "cell_type": "code",
   "execution_count": null,
   "id": "d294ca7c",
   "metadata": {},
   "outputs": [],
   "source": [
    "%ls"
   ]
  },
  {
   "cell_type": "code",
   "execution_count": null,
   "id": "04326a46",
   "metadata": {},
   "outputs": [],
   "source": [
    "!git fetch https://raw.githubusercontent.com/jakevdp/data-CDCbirths/master/births.csv"
   ]
  },
  {
   "cell_type": "code",
   "execution_count": null,
   "id": "ac8e5b93",
   "metadata": {},
   "outputs": [],
   "source": []
  }
 ],
 "metadata": {
  "kernelspec": {
   "display_name": "Python 3 (ipykernel)",
   "language": "python",
   "name": "python3"
  },
  "language_info": {
   "codemirror_mode": {
    "name": "ipython",
    "version": 3
   },
   "file_extension": ".py",
   "mimetype": "text/x-python",
   "name": "python",
   "nbconvert_exporter": "python",
   "pygments_lexer": "ipython3",
   "version": "3.8.6"
  }
 },
 "nbformat": 4,
 "nbformat_minor": 5
}
