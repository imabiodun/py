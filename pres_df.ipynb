{
 "cells": [
  {
   "cell_type": "code",
   "execution_count": 3,
   "id": "0a0e0e37",
   "metadata": {},
   "outputs": [],
   "source": [
    "import numpy as np\n",
    "import pandas as pd\n",
    "import matplotlib.pyplot as plt\n",
    "import seaborn as sns\n",
    "import itertools as iter\n",
    "# import random as rand\n",
    "sns.set()\n",
    "import re\n",
    "import sys"
   ]
  },
  {
   "cell_type": "code",
   "execution_count": 4,
   "id": "da2dcf3c",
   "metadata": {},
   "outputs": [
    {
     "data": {
      "text/plain": [
       "0"
      ]
     },
     "execution_count": 4,
     "metadata": {},
     "output_type": "execute_result"
    }
   ],
   "source": [
    "import os\n",
    "os.system('cmd command')"
   ]
  },
  {
   "cell_type": "code",
   "execution_count": 5,
   "id": "8236cbe6",
   "metadata": {
    "tags": []
   },
   "outputs": [
    {
     "name": "stdout",
     "output_type": "stream",
     "text": [
      "C:\\Users\\AMOS OSHIYOYE\\cloned_Git\\py\\1_DShit\n"
     ]
    }
   ],
   "source": [
    "# %ls\n",
    "%cd 1_DShit\n",
    "# %cd Github/\n",
    "# %del Guitar-Scales-by-Lloyd-English.pdf/\n",
    "# %cd ../"
   ]
  },
  {
   "cell_type": "code",
   "execution_count": 6,
   "id": "45c537c6",
   "metadata": {
    "tags": []
   },
   "outputs": [],
   "source": [
    "pres_df=pd.read_csv('president_heights_party.csv')"
   ]
  },
  {
   "cell_type": "code",
   "execution_count": 7,
   "id": "014fb8da",
   "metadata": {},
   "outputs": [
    {
     "data": {
      "text/html": [
       "<div>\n",
       "<style scoped>\n",
       "    .dataframe tbody tr th:only-of-type {\n",
       "        vertical-align: middle;\n",
       "    }\n",
       "\n",
       "    .dataframe tbody tr th {\n",
       "        vertical-align: top;\n",
       "    }\n",
       "\n",
       "    .dataframe thead th {\n",
       "        text-align: right;\n",
       "    }\n",
       "</style>\n",
       "<table border=\"1\" class=\"dataframe\">\n",
       "  <thead>\n",
       "    <tr style=\"text-align: right;\">\n",
       "      <th></th>\n",
       "      <th>order</th>\n",
       "      <th>age</th>\n",
       "      <th>height</th>\n",
       "    </tr>\n",
       "  </thead>\n",
       "  <tbody>\n",
       "    <tr>\n",
       "      <th>count</th>\n",
       "      <td>45.000000</td>\n",
       "      <td>45.000000</td>\n",
       "      <td>45.000000</td>\n",
       "    </tr>\n",
       "    <tr>\n",
       "      <th>mean</th>\n",
       "      <td>23.022222</td>\n",
       "      <td>55.000000</td>\n",
       "      <td>180.000000</td>\n",
       "    </tr>\n",
       "    <tr>\n",
       "      <th>std</th>\n",
       "      <td>13.136502</td>\n",
       "      <td>6.595453</td>\n",
       "      <td>6.977236</td>\n",
       "    </tr>\n",
       "    <tr>\n",
       "      <th>min</th>\n",
       "      <td>1.000000</td>\n",
       "      <td>42.000000</td>\n",
       "      <td>163.000000</td>\n",
       "    </tr>\n",
       "    <tr>\n",
       "      <th>25%</th>\n",
       "      <td>12.000000</td>\n",
       "      <td>51.000000</td>\n",
       "      <td>175.000000</td>\n",
       "    </tr>\n",
       "    <tr>\n",
       "      <th>50%</th>\n",
       "      <td>23.000000</td>\n",
       "      <td>55.000000</td>\n",
       "      <td>182.000000</td>\n",
       "    </tr>\n",
       "    <tr>\n",
       "      <th>75%</th>\n",
       "      <td>34.000000</td>\n",
       "      <td>58.000000</td>\n",
       "      <td>183.000000</td>\n",
       "    </tr>\n",
       "    <tr>\n",
       "      <th>max</th>\n",
       "      <td>45.000000</td>\n",
       "      <td>70.000000</td>\n",
       "      <td>193.000000</td>\n",
       "    </tr>\n",
       "  </tbody>\n",
       "</table>\n",
       "</div>"
      ],
      "text/plain": [
       "           order        age      height\n",
       "count  45.000000  45.000000   45.000000\n",
       "mean   23.022222  55.000000  180.000000\n",
       "std    13.136502   6.595453    6.977236\n",
       "min     1.000000  42.000000  163.000000\n",
       "25%    12.000000  51.000000  175.000000\n",
       "50%    23.000000  55.000000  182.000000\n",
       "75%    34.000000  58.000000  183.000000\n",
       "max    45.000000  70.000000  193.000000"
      ]
     },
     "execution_count": 7,
     "metadata": {},
     "output_type": "execute_result"
    }
   ],
   "source": [
    "pres_df.describe()"
   ]
  },
  {
   "cell_type": "code",
   "execution_count": 8,
   "id": "71f5fd46",
   "metadata": {
    "scrolled": true
   },
   "outputs": [
    {
     "data": {
      "text/plain": [
       "Index(['order', 'name', 'age', 'height', 'party'], dtype='object')"
      ]
     },
     "execution_count": 8,
     "metadata": {},
     "output_type": "execute_result"
    }
   ],
   "source": [
    "pres_df.columns"
   ]
  },
  {
   "cell_type": "code",
   "execution_count": 9,
   "id": "81435ea6",
   "metadata": {
    "scrolled": true
   },
   "outputs": [
    {
     "data": {
      "text/html": [
       "<div>\n",
       "<style scoped>\n",
       "    .dataframe tbody tr th:only-of-type {\n",
       "        vertical-align: middle;\n",
       "    }\n",
       "\n",
       "    .dataframe tbody tr th {\n",
       "        vertical-align: top;\n",
       "    }\n",
       "\n",
       "    .dataframe thead th {\n",
       "        text-align: right;\n",
       "    }\n",
       "</style>\n",
       "<table border=\"1\" class=\"dataframe\">\n",
       "  <thead>\n",
       "    <tr style=\"text-align: right;\">\n",
       "      <th></th>\n",
       "      <th>order</th>\n",
       "      <th>name</th>\n",
       "      <th>age</th>\n",
       "      <th>height</th>\n",
       "      <th>party</th>\n",
       "    </tr>\n",
       "  </thead>\n",
       "  <tbody>\n",
       "    <tr>\n",
       "      <th>0</th>\n",
       "      <td>1</td>\n",
       "      <td>George Washington</td>\n",
       "      <td>57</td>\n",
       "      <td>189</td>\n",
       "      <td>none</td>\n",
       "    </tr>\n",
       "    <tr>\n",
       "      <th>1</th>\n",
       "      <td>2</td>\n",
       "      <td>John Adams</td>\n",
       "      <td>61</td>\n",
       "      <td>170</td>\n",
       "      <td>federalist</td>\n",
       "    </tr>\n",
       "    <tr>\n",
       "      <th>2</th>\n",
       "      <td>3</td>\n",
       "      <td>Thomas Jefferson</td>\n",
       "      <td>57</td>\n",
       "      <td>189</td>\n",
       "      <td>democratic-republican</td>\n",
       "    </tr>\n",
       "    <tr>\n",
       "      <th>3</th>\n",
       "      <td>4</td>\n",
       "      <td>James Madison</td>\n",
       "      <td>57</td>\n",
       "      <td>163</td>\n",
       "      <td>democratic-republican</td>\n",
       "    </tr>\n",
       "  </tbody>\n",
       "</table>\n",
       "</div>"
      ],
      "text/plain": [
       "   order               name  age  height                  party\n",
       "0      1  George Washington   57     189                   none\n",
       "1      2         John Adams   61     170             federalist\n",
       "2      3   Thomas Jefferson   57     189  democratic-republican\n",
       "3      4      James Madison   57     163  democratic-republican"
      ]
     },
     "execution_count": 9,
     "metadata": {},
     "output_type": "execute_result"
    }
   ],
   "source": [
    "pres_df.head(4)"
   ]
  },
  {
   "cell_type": "code",
   "execution_count": 10,
   "id": "349fb9e7",
   "metadata": {},
   "outputs": [
    {
     "data": {
      "image/png": "[encoded data removed]",
      "text/plain": [
       "<Figure size 432x288 with 1 Axes>"
      ]
     },
     "metadata": {
      "needs_background": "light"
     },
     "output_type": "display_data"
    }
   ],
   "source": [
    "pres_df.plot(kind='hist',y='height', title='Heights of presidents')\n",
    "plt.xlabel('Heights')\n",
    "plt.show()"
   ]
  },
  {
   "cell_type": "code",
   "execution_count": 11,
   "id": "e4787d6c",
   "metadata": {},
   "outputs": [],
   "source": [
    "age_decade=10*(pres_df['age']//10)\n",
    "age_decade=age_decade.astype(str)+'s'"
   ]
  },
  {
   "cell_type": "code",
   "execution_count": 12,
   "id": "2e5b0f90",
   "metadata": {},
   "outputs": [],
   "source": [
    "age_decade.name='Decade'"
   ]
  },
  {
   "cell_type": "code",
   "execution_count": 13,
   "id": "df97749e",
   "metadata": {},
   "outputs": [],
   "source": [
    "age_col={}\n",
    "for a,b in enumerate(age_decade.unique()):\n",
    "    age_col[b]=a"
   ]
  },
  {
   "cell_type": "code",
   "execution_count": 17,
   "id": "7b178d2e",
   "metadata": {},
   "outputs": [
    {
     "data": {
      "image/png": "[encoded data removed]",
      "text/plain": [
       "<Figure size 432x288 with 1 Axes>"
      ]
     },
     "metadata": {
      "needs_background": "light"
     },
     "output_type": "display_data"
    }
   ],
   "source": [
    "party_count=pres_df['party'].value_counts()\n",
    "party_count.plot(kind='barh')\n",
    "plt.show()"
   ]
  },
  {
   "cell_type": "code",
   "execution_count": 15,
   "id": "22564c61",
   "metadata": {},
   "outputs": [
    {
     "data": {
      "text/plain": [
       "<AxesSubplot:title={'center':\"Bar chart freq of Presidents' Height\"}, ylabel='Frequency'>"
      ]
     },
     "execution_count": 15,
     "metadata": {},
     "output_type": "execute_result"
    },
    {
     "data": {
      "image/png": "[encoded data removed]",
      "text/plain": [
       "<Figure size 432x288 with 1 Axes>"
      ]
     },
     "metadata": {
      "needs_background": "light"
     },
     "output_type": "display_data"
    }
   ],
   "source": [
    "height_count=pres_df['height'].value_counts()\n",
    "# height_count.plot(kind='bar')\n",
    "height_count.plot(kind='hist',title='Bar chart freq of Presidents\\' Height',bins=12)"
   ]
  },
  {
   "cell_type": "code",
   "execution_count": 16,
   "id": "738e7173",
   "metadata": {},
   "outputs": [
    {
     "ename": "SyntaxError",
     "evalue": "invalid syntax (635931771.py, line 1)",
     "output_type": "error",
     "traceback": [
      "\u001b[1;36m  Input \u001b[1;32mIn [16]\u001b[1;36m\u001b[0m\n\u001b[1;33m    col_by_age=[age_col[a] for a in age_decade]plot\u001b[0m\n\u001b[1;37m                                               ^\u001b[0m\n\u001b[1;31mSyntaxError\u001b[0m\u001b[1;31m:\u001b[0m invalid syntax\n"
     ]
    }
   ],
   "source": [
    "col_by_age=[age_col[a] for a in age_decade]plot"
   ]
  },
  {
   "cell_type": "code",
   "execution_count": null,
   "id": "7892e434",
   "metadata": {},
   "outputs": [],
   "source": [
    "categories=np.array(['r','g','b'])\n",
    "pres_df.plot(kind='scatter',y='height',x='party', s= 12,c=col_by_age[categories])\n",
    "plt.show()"
   ]
  },
  {
   "cell_type": "code",
   "execution_count": 18,
   "id": "507a90ed",
   "metadata": {},
   "outputs": [
    {
     "data": {
      "text/html": [
       "<div>\n",
       "<style scoped>\n",
       "    .dataframe tbody tr th:only-of-type {\n",
       "        vertical-align: middle;\n",
       "    }\n",
       "\n",
       "    .dataframe tbody tr th {\n",
       "        vertical-align: top;\n",
       "    }\n",
       "\n",
       "    .dataframe thead tr th {\n",
       "        text-align: left;\n",
       "    }\n",
       "\n",
       "    .dataframe thead tr:last-of-type th {\n",
       "        text-align: right;\n",
       "    }\n",
       "</style>\n",
       "<table border=\"1\" class=\"dataframe\">\n",
       "  <thead>\n",
       "    <tr>\n",
       "      <th></th>\n",
       "      <th colspan=\"3\" halign=\"left\">height</th>\n",
       "      <th colspan=\"3\" halign=\"left\">age</th>\n",
       "    </tr>\n",
       "    <tr>\n",
       "      <th></th>\n",
       "      <th>mean</th>\n",
       "      <th>sum</th>\n",
       "      <th>median</th>\n",
       "      <th>mean</th>\n",
       "      <th>sum</th>\n",
       "      <th>median</th>\n",
       "    </tr>\n",
       "    <tr>\n",
       "      <th>party</th>\n",
       "      <th></th>\n",
       "      <th></th>\n",
       "      <th></th>\n",
       "      <th></th>\n",
       "      <th></th>\n",
       "      <th></th>\n",
       "    </tr>\n",
       "  </thead>\n",
       "  <tbody>\n",
       "    <tr>\n",
       "      <th>democratic</th>\n",
       "      <td>181.066667</td>\n",
       "      <td>2716</td>\n",
       "      <td>180.0</td>\n",
       "      <td>52.600000</td>\n",
       "      <td>789</td>\n",
       "      <td>52.0</td>\n",
       "    </tr>\n",
       "    <tr>\n",
       "      <th>democratic-republican</th>\n",
       "      <td>176.500000</td>\n",
       "      <td>706</td>\n",
       "      <td>177.0</td>\n",
       "      <td>57.250000</td>\n",
       "      <td>229</td>\n",
       "      <td>57.0</td>\n",
       "    </tr>\n",
       "    <tr>\n",
       "      <th>federalist</th>\n",
       "      <td>170.000000</td>\n",
       "      <td>170</td>\n",
       "      <td>170.0</td>\n",
       "      <td>61.000000</td>\n",
       "      <td>61</td>\n",
       "      <td>61.0</td>\n",
       "    </tr>\n",
       "    <tr>\n",
       "      <th>national union</th>\n",
       "      <td>178.000000</td>\n",
       "      <td>178</td>\n",
       "      <td>178.0</td>\n",
       "      <td>56.000000</td>\n",
       "      <td>56</td>\n",
       "      <td>56.0</td>\n",
       "    </tr>\n",
       "    <tr>\n",
       "      <th>none</th>\n",
       "      <td>189.000000</td>\n",
       "      <td>189</td>\n",
       "      <td>189.0</td>\n",
       "      <td>57.000000</td>\n",
       "      <td>57</td>\n",
       "      <td>57.0</td>\n",
       "    </tr>\n",
       "    <tr>\n",
       "      <th>republican</th>\n",
       "      <td>180.894737</td>\n",
       "      <td>3437</td>\n",
       "      <td>182.0</td>\n",
       "      <td>55.263158</td>\n",
       "      <td>1050</td>\n",
       "      <td>54.0</td>\n",
       "    </tr>\n",
       "    <tr>\n",
       "      <th>whig</th>\n",
       "      <td>176.000000</td>\n",
       "      <td>704</td>\n",
       "      <td>174.0</td>\n",
       "      <td>58.250000</td>\n",
       "      <td>233</td>\n",
       "      <td>57.5</td>\n",
       "    </tr>\n",
       "  </tbody>\n",
       "</table>\n",
       "</div>"
      ],
      "text/plain": [
       "                           height                     age             \n",
       "                             mean   sum median       mean   sum median\n",
       "party                                                                 \n",
       "democratic             181.066667  2716  180.0  52.600000   789   52.0\n",
       "democratic-republican  176.500000   706  177.0  57.250000   229   57.0\n",
       "federalist             170.000000   170  170.0  61.000000    61   61.0\n",
       "national union         178.000000   178  178.0  56.000000    56   56.0\n",
       "none                   189.000000   189  189.0  57.000000    57   57.0\n",
       "republican             180.894737  3437  182.0  55.263158  1050   54.0\n",
       "whig                   176.000000   704  174.0  58.250000   233   57.5"
      ]
     },
     "execution_count": 18,
     "metadata": {},
     "output_type": "execute_result"
    }
   ],
   "source": [
    "pres_df.groupby('party').agg({'height':[np.mean,sum,np.median],'age':[np.mean,sum,np.median]})"
   ]
  },
  {
   "cell_type": "code",
   "execution_count": 19,
   "id": "4157596a",
   "metadata": {},
   "outputs": [
    {
     "data": {
      "text/plain": [
       "array(['none', 'federalist', 'democratic-republican', 'democratic',\n",
       "       'whig', 'republican', 'national union'], dtype=object)"
      ]
     },
     "execution_count": 19,
     "metadata": {},
     "output_type": "execute_result"
    }
   ],
   "source": [
    "pres_df.party.unique()"
   ]
  },
  {
   "cell_type": "code",
   "execution_count": 20,
   "id": "8fb04f7d",
   "metadata": {},
   "outputs": [],
   "source": [
    "party_unique={}\n",
    "for party_name,index in enumerate(pres_df['party'].unique()):\n",
    "    party_unique[index]=party_name"
   ]
  },
  {
   "cell_type": "code",
   "execution_count": 22,
   "id": "b80bc432",
   "metadata": {},
   "outputs": [],
   "source": [
    "colours_of_party=[party_unique[i] for i in pres_df['party']]"
   ]
  },
  {
   "cell_type": "code",
   "execution_count": 23,
   "id": "da880ebc",
   "metadata": {},
   "outputs": [],
   "source": [
    "drop_index=pres_df[(pres_df['party']=='none')|(pres_df['party']=='federalist')|(pres_df['party']=='national union')].index"
   ]
  },
  {
   "cell_type": "code",
   "execution_count": 24,
   "id": "5de77ac2",
   "metadata": {},
   "outputs": [],
   "source": [
    "pres__df=pres_df.drop(drop_index)"
   ]
  },
  {
   "cell_type": "code",
   "execution_count": 25,
   "id": "cc10346b",
   "metadata": {},
   "outputs": [],
   "source": [
    "from sklearn.model_selection import train_test_split\n",
    "from sklearn.linear_model import LinearRegression"
   ]
  },
  {
   "cell_type": "code",
   "execution_count": null,
   "id": "4c9de7fe",
   "metadata": {},
   "outputs": [],
   "source": [
    "lR=LinearRegression()"
   ]
  },
  {
   "cell_type": "code",
   "execution_count": null,
   "id": "72609c9c",
   "metadata": {},
   "outputs": [],
   "source": [
    "X=pres__df[['age']]\n",
    "Y=pres__df['height']\n",
    "X_train,X_test,Y_train,Y_test=train_test_split(X,Y,test_size=0.3,random_state=1)\n",
    "# train_test_split(pres_df, )?"
   ]
  },
  {
   "cell_type": "code",
   "execution_count": null,
   "id": "16a60887",
   "metadata": {},
   "outputs": [],
   "source": [
    "lR.fit(X_train,Y_train)"
   ]
  },
  {
   "cell_type": "code",
   "execution_count": null,
   "id": "7901382c",
   "metadata": {},
   "outputs": [],
   "source": [
    "lR.intercept_"
   ]
  },
  {
   "cell_type": "code",
   "execution_count": null,
   "id": "b17b623d",
   "metadata": {},
   "outputs": [],
   "source": [
    "#predicting the height of a president if the age is 70\n",
    "lR.predict([[70]])"
   ]
  },
  {
   "cell_type": "code",
   "execution_count": null,
   "id": "3b95be24",
   "metadata": {},
   "outputs": [],
   "source": [
    "#Using SKlearn stadtviertel\n",
    "# To predict the party of the president based on age and Height"
   ]
  },
  {
   "cell_type": "code",
   "execution_count": null,
   "id": "b4925681",
   "metadata": {},
   "outputs": [],
   "source": [
    "X1=pres__df[['age','height']]\n",
    "Y1=pres__df['party']"
   ]
  },
  {
   "cell_type": "code",
   "execution_count": null,
   "id": "e2624dc2",
   "metadata": {},
   "outputs": [],
   "source": [
    "# ax=plt.subplot(111)\n",
    "pres_scatter=plt.scatter( x='age',y='height',data=pres__df,c=colours_of_party)\n",
    "# plt.xlim(pres_df['age'].min()-5,pres_df['age'].max()+5)\n",
    "# plt.ylim(pres_df['height'].min()-5,200)\n",
    "plt.legend(handles=pres_scatter.legend_elements()[0],labels=party_unique.keys(),bbox_to_anchor=(1.489,0.56),shadow=True,title='Party Unique'.upper())"
   ]
  },
  {
   "cell_type": "code",
   "execution_count": null,
   "id": "e8701fbc",
   "metadata": {},
   "outputs": [],
   "source": [
    "from sklearn.model_selection import train_test_split\n",
    "X1_train,X1_test,Y1_train,Y1_test=train_test_split(X1,Y1,test_size=0.3,random_state=1, stratify=Y1)"
   ]
  },
  {
   "cell_type": "code",
   "execution_count": null,
   "id": "de22977e",
   "metadata": {
    "scrolled": true
   },
   "outputs": [],
   "source": [
    "from sklearn.neighbors import KNeighborsClassifier\n",
    "knn=KNeighborsClassifier(n_neighbors=3)"
   ]
  },
  {
   "cell_type": "code",
   "execution_count": null,
   "id": "7380f891",
   "metadata": {},
   "outputs": [],
   "source": [
    "knn.fit(X1_train,Y1_train)"
   ]
  },
  {
   "cell_type": "code",
   "execution_count": null,
   "id": "ae20c3db",
   "metadata": {},
   "outputs": [],
   "source": [
    "pred=knn.predict(X1_test)"
   ]
  },
  {
   "cell_type": "code",
   "execution_count": null,
   "id": "8d3d5783",
   "metadata": {},
   "outputs": [],
   "source": [
    "Y1_pred_proba=knn.predict_proba(X1_test)"
   ]
  },
  {
   "cell_type": "code",
   "execution_count": null,
   "id": "0f3c9af7",
   "metadata": {},
   "outputs": [],
   "source": [
    "knn.score(X1_test,Y1_test)"
   ]
  },
  {
   "cell_type": "code",
   "execution_count": null,
   "id": "fc4e1f9c",
   "metadata": {
    "scrolled": true
   },
   "outputs": [],
   "source": [
    "from sklearn.metrics import accuracy_score\n",
    "accuracy_score(pred,Y1_test)"
   ]
  },
  {
   "cell_type": "code",
   "execution_count": null,
   "id": "3bef44cf",
   "metadata": {},
   "outputs": [],
   "source": [
    "from sklearn.model_selection import cross_val_score"
   ]
  },
  {
   "cell_type": "code",
   "execution_count": null,
   "id": "fc5cef8f",
   "metadata": {},
   "outputs": [],
   "source": [
    "knn_cv=cross_val_score(knn,X1,Y1,cv=3)\n",
    "knn_cv.mean()"
   ]
  },
  {
   "cell_type": "code",
   "execution_count": null,
   "id": "c1b83476",
   "metadata": {},
   "outputs": [],
   "source": [
    "pres_df.groupby(['party',age_decade])['age'].count().unstack().fillna(0)"
   ]
  },
  {
   "cell_type": "code",
   "execution_count": null,
   "id": "690337b1",
   "metadata": {},
   "outputs": [],
   "source": [
    "party_sel=pres_df['party']"
   ]
  },
  {
   "cell_type": "code",
   "execution_count": null,
   "id": "97b26368",
   "metadata": {},
   "outputs": [],
   "source": [
    "party_sel.name='Party'"
   ]
  },
  {
   "cell_type": "code",
   "execution_count": null,
   "id": "6f18cbeb",
   "metadata": {},
   "outputs": [],
   "source": [
    "pres_df.groupby(['age',party_sel])['party'].count().unstack().fillna(0)"
   ]
  },
  {
   "cell_type": "code",
   "execution_count": null,
   "id": "fdd4660f",
   "metadata": {},
   "outputs": [],
   "source": [
    "pres_df[pres_df['age']==52]"
   ]
  },
  {
   "cell_type": "code",
   "execution_count": null,
   "id": "eb0a81dc",
   "metadata": {},
   "outputs": [],
   "source": [
    "import random\n",
    "random.randint(0,12)"
   ]
  },
  {
   "cell_type": "code",
   "execution_count": null,
   "id": "d2d3c6f6",
   "metadata": {},
   "outputs": [],
   "source": [
    "cant=pd.Series([0,1,2,3,4,5])"
   ]
  },
  {
   "cell_type": "code",
   "execution_count": null,
   "id": "144abcb2",
   "metadata": {},
   "outputs": [],
   "source": [
    "cant.describe()"
   ]
  },
  {
   "cell_type": "code",
   "execution_count": null,
   "id": "6be05374",
   "metadata": {},
   "outputs": [],
   "source": [
    "df = pd.DataFrame({'key': ['A', 'B', 'C', 'A', 'B', 'C'],\n",
    "'data1': range(6),'data2':[2,5,3,7,6,1]},columns=['key','data1','data2'])"
   ]
  },
  {
   "cell_type": "code",
   "execution_count": null,
   "id": "191cabdc",
   "metadata": {},
   "outputs": [],
   "source": [
    "df"
   ]
  },
  {
   "cell_type": "code",
   "execution_count": null,
   "id": "371b610d",
   "metadata": {},
   "outputs": [],
   "source": [
    "df.groupby('key').std()"
   ]
  },
  {
   "cell_type": "code",
   "execution_count": null,
   "id": "fffaa058",
   "metadata": {},
   "outputs": [],
   "source": [
    "meth=[0,2,1,0,0,2]"
   ]
  },
  {
   "cell_type": "code",
   "execution_count": null,
   "id": "1ea3a220",
   "metadata": {},
   "outputs": [],
   "source": [
    "df.groupby(meth).sum()"
   ]
  },
  {
   "cell_type": "code",
   "execution_count": null,
   "id": "ca814ccf",
   "metadata": {},
   "outputs": [],
   "source": []
  }
 ],
 "metadata": {
  "kernelspec": {
   "display_name": "Python 3 (ipykernel)",
   "language": "python",
   "name": "python3"
  },
  "language_info": {
   "codemirror_mode": {
    "name": "ipython",
    "version": 3
   },
   "file_extension": ".py",
   "mimetype": "text/x-python",
   "name": "python",
   "nbconvert_exporter": "python",
   "pygments_lexer": "ipython3",
   "version": "3.8.6"
  }
 },
 "nbformat": 4,
 "nbformat_minor": 5
}
