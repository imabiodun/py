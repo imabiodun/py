{
 "cells": [
  {
   "cell_type": "code",
   "execution_count": 6,
   "id": "d75d0e34",
   "metadata": {},
   "outputs": [
    {
     "name": "stdout",
     "output_type": "stream",
     "text": [
      "   rot_wein  weiss_wein\n",
      "0         3           4\n",
      "1         2           3\n",
      "2         1           8\n",
      "3         8           2\n",
      "4         4           9\n",
      "5         8           4\n",
      "6         3           2\n",
      "7         8           5\n",
      "8         5           1\n",
      "9         6           9\n",
      "        rot_wein  weiss_wein\n",
      "count  10.000000   10.000000\n",
      "mean    4.800000    4.700000\n",
      "std     2.616189    2.983287\n",
      "min     1.000000    1.000000\n",
      "25%     3.000000    2.250000\n",
      "50%     4.500000    4.000000\n",
      "75%     7.500000    7.250000\n",
      "max     8.000000    9.000000\n",
      "rot_wein  weiss_wein\n",
      "1         8             1\n",
      "2         3             1\n",
      "3         2             1\n",
      "          4             1\n",
      "4         9             1\n",
      "5         1             1\n",
      "6         9             1\n",
      "8         2             1\n",
      "          4             1\n",
      "          5             1\n",
      "dtype: int64\n",
      "The mean is:\n",
      " 0    3\n",
      "1    2\n",
      "2    1\n",
      "3    8\n",
      "4    4\n",
      "5    8\n",
      "6    3\n",
      "7    8\n",
      "8    5\n",
      "9    6\n",
      "Name: rot_wein, dtype: int64\n",
      "The median is: \n",
      "rot_wein      4.5\n",
      "weiss_wein    4.0\n",
      "dtype: float64\n"
     ]
    },
    {
     "name": "stderr",
     "output_type": "stream",
     "text": [
      "No artists with labels found to put in legend.  Note that artists whose label start with an underscore are ignored when legend() is called with no argument.\n"
     ]
    },
    {
     "data": {
      "image/png": "[encoded data removed]",
      "text/plain": [
       "<Figure size 432x288 with 1 Axes>"
      ]
     },
     "metadata": {
      "needs_background": "light"
     },
     "output_type": "display_data"
    },
    {
     "name": "stdout",
     "output_type": "stream",
     "text": [
      "Index(['rot_wein', 'weiss_wein'], dtype='object')\n"
     ]
    }
   ],
   "source": [
    "import numpy as np \n",
    "import pandas as pd \n",
    "import matplotlib.pyplot as plt\n",
    "\n",
    "wine_reg={'rot_wein':[3,2,1,8,4,8,3,8,5,6], \n",
    "'weiss_wein':[4,3,8,2,9,4,2,5,1,9]}\n",
    "pd_wine_reg= pd.DataFrame(wine_reg)\n",
    "np_wine_reg=np.array(pd_wine_reg)\n",
    "# np_wine_reg[1,1]=7\n",
    "\n",
    "blau_wein=[2,5,8]\n",
    "# pd_wine_reg=pd_wine_reg.append(blau_wein)\n",
    "# pd_wine_reg.columns[2]='blau_wein'\n",
    "print(pd_wine_reg)\n",
    "print(pd_wine_reg.describe())\n",
    "print(pd_wine_reg.value_counts())\n",
    "\n",
    "# print(f'Here is the output of the wine in the cellar: {np_wine_reg[:,1]}')\n",
    "print(f'The mean is:\\n {pd_wine_reg[\"rot_wein\"]}')\n",
    "print(f'The median is: \\n{pd_wine_reg.median()}')\n",
    "plt.style.use('classic')\n",
    "\n",
    "fig=plt.figure()\n",
    "ax=plt.axes()\n",
    "z=pd_wine_reg['rot_wein']\n",
    "y=pd_wine_reg['weiss_wein']\n",
    "# plt.scatter(z,y, marker='*', color='r')\n",
    "# pd_wine_reg['rot_wein'].plot(kind='hist', title='rot wein',bins=2)\n",
    "# pd_wine_reg.boxplot(column='rot_wein')\n",
    "plt.legend()\n",
    "plt.show()\n",
    "print(pd_wine_reg.columns)"
   ]
  },
  {
   "cell_type": "raw",
   "id": "198133f1",
   "metadata": {},
   "source": [
    "# # now or never"
   ]
  },
  {
   "cell_type": "code",
   "execution_count": 25,
   "id": "ddea1cac",
   "metadata": {},
   "outputs": [],
   "source": [
    "bay=[i for i in range(10)]"
   ]
  },
  {
   "cell_type": "code",
   "execution_count": 8,
   "id": "5c89be22",
   "metadata": {},
   "outputs": [
    {
     "data": {
      "text/plain": [
       "[2, 5, 8]"
      ]
     },
     "execution_count": 8,
     "metadata": {},
     "output_type": "execute_result"
    }
   ],
   "source": [
    "blau_wein"
   ]
  },
  {
   "cell_type": "code",
   "execution_count": 9,
   "id": "a3757a66",
   "metadata": {},
   "outputs": [],
   "source": [
    "arr=[]\n"
   ]
  },
  {
   "cell_type": "code",
   "execution_count": 14,
   "id": "7cc6131a",
   "metadata": {},
   "outputs": [],
   "source": [
    "bay=[]"
   ]
  },
  {
   "cell_type": "code",
   "execution_count": 15,
   "id": "25ab1d3a",
   "metadata": {},
   "outputs": [
    {
     "data": {
      "text/plain": [
       "[1, 3, 5, 7, 9]"
      ]
     },
     "execution_count": 15,
     "metadata": {},
     "output_type": "execute_result"
    }
   ],
   "source": [
    "arr"
   ]
  },
  {
   "cell_type": "code",
   "execution_count": 16,
   "id": "1d2df7c1",
   "metadata": {},
   "outputs": [],
   "source": [
    "arr1=arr[:]"
   ]
  },
  {
   "cell_type": "code",
   "execution_count": 17,
   "id": "a8827d91",
   "metadata": {},
   "outputs": [],
   "source": [
    "arr2=[]"
   ]
  },
  {
   "cell_type": "code",
   "execution_count": 19,
   "id": "5298e860",
   "metadata": {},
   "outputs": [
    {
     "data": {
      "text/plain": [
       "[]"
      ]
     },
     "execution_count": 19,
     "metadata": {},
     "output_type": "execute_result"
    }
   ],
   "source": [
    "arr2"
   ]
  },
  {
   "cell_type": "code",
   "execution_count": null,
   "id": "e40cd846",
   "metadata": {},
   "outputs": [],
   "source": []
  },
  {
   "cell_type": "code",
   "execution_count": 31,
   "id": "37efde3a",
   "metadata": {},
   "outputs": [],
   "source": [
    "for a in bay:\n",
    "    if a%2!=1:\n",
    "        arr2.append(a)\n",
    "        \n",
    "        "
   ]
  },
  {
   "cell_type": "code",
   "execution_count": 32,
   "id": "8b3d97f5",
   "metadata": {},
   "outputs": [
    {
     "data": {
      "text/plain": [
       "[0, 2, 4, 6, 8]"
      ]
     },
     "execution_count": 32,
     "metadata": {},
     "output_type": "execute_result"
    }
   ],
   "source": [
    "arr2\n"
   ]
  },
  {
   "cell_type": "code",
   "execution_count": 27,
   "id": "9ac65dda",
   "metadata": {},
   "outputs": [
    {
     "name": "stdout",
     "output_type": "stream",
     "text": [
      "0\n",
      "2\n",
      "4\n",
      "6\n",
      "8\n"
     ]
    }
   ],
   "source": [
    "for a in bay:\n",
    "    if a%2!=1:\n",
    "        print(a)"
   ]
  },
  {
   "cell_type": "code",
   "execution_count": 33,
   "id": "51c9f2fe",
   "metadata": {},
   "outputs": [
    {
     "data": {
      "text/plain": [
       "([0, 1, 2, 3, 4, 5, 6, 7, 8, 9], [1, 3, 5, 7, 9], [0, 2, 4, 6, 8])"
      ]
     },
     "execution_count": 33,
     "metadata": {},
     "output_type": "execute_result"
    }
   ],
   "source": [
    "bay,arr1,arr2"
   ]
  },
  {
   "cell_type": "code",
   "execution_count": 34,
   "id": "ba8361b7",
   "metadata": {},
   "outputs": [
    {
     "data": {
      "text/html": [
       "<div>\n",
       "<style scoped>\n",
       "    .dataframe tbody tr th:only-of-type {\n",
       "        vertical-align: middle;\n",
       "    }\n",
       "\n",
       "    .dataframe tbody tr th {\n",
       "        vertical-align: top;\n",
       "    }\n",
       "\n",
       "    .dataframe thead th {\n",
       "        text-align: right;\n",
       "    }\n",
       "</style>\n",
       "<table border=\"1\" class=\"dataframe\">\n",
       "  <thead>\n",
       "    <tr style=\"text-align: right;\">\n",
       "      <th></th>\n",
       "      <th>rot_wein</th>\n",
       "      <th>weiss_wein</th>\n",
       "    </tr>\n",
       "  </thead>\n",
       "  <tbody>\n",
       "    <tr>\n",
       "      <th>0</th>\n",
       "      <td>3</td>\n",
       "      <td>4</td>\n",
       "    </tr>\n",
       "    <tr>\n",
       "      <th>1</th>\n",
       "      <td>2</td>\n",
       "      <td>3</td>\n",
       "    </tr>\n",
       "    <tr>\n",
       "      <th>2</th>\n",
       "      <td>1</td>\n",
       "      <td>8</td>\n",
       "    </tr>\n",
       "    <tr>\n",
       "      <th>3</th>\n",
       "      <td>8</td>\n",
       "      <td>2</td>\n",
       "    </tr>\n",
       "    <tr>\n",
       "      <th>4</th>\n",
       "      <td>4</td>\n",
       "      <td>9</td>\n",
       "    </tr>\n",
       "    <tr>\n",
       "      <th>5</th>\n",
       "      <td>8</td>\n",
       "      <td>4</td>\n",
       "    </tr>\n",
       "    <tr>\n",
       "      <th>6</th>\n",
       "      <td>3</td>\n",
       "      <td>2</td>\n",
       "    </tr>\n",
       "    <tr>\n",
       "      <th>7</th>\n",
       "      <td>8</td>\n",
       "      <td>5</td>\n",
       "    </tr>\n",
       "    <tr>\n",
       "      <th>8</th>\n",
       "      <td>5</td>\n",
       "      <td>1</td>\n",
       "    </tr>\n",
       "    <tr>\n",
       "      <th>9</th>\n",
       "      <td>6</td>\n",
       "      <td>9</td>\n",
       "    </tr>\n",
       "  </tbody>\n",
       "</table>\n",
       "</div>"
      ],
      "text/plain": [
       "   rot_wein  weiss_wein\n",
       "0         3           4\n",
       "1         2           3\n",
       "2         1           8\n",
       "3         8           2\n",
       "4         4           9\n",
       "5         8           4\n",
       "6         3           2\n",
       "7         8           5\n",
       "8         5           1\n",
       "9         6           9"
      ]
     },
     "execution_count": 34,
     "metadata": {},
     "output_type": "execute_result"
    }
   ],
   "source": [
    "wine_pd_wine_reg"
   ]
  },
  {
   "cell_type": "code",
   "execution_count": 45,
   "id": "7a1df59b",
   "metadata": {},
   "outputs": [
    {
     "name": "stdout",
     "output_type": "stream",
     "text": [
      "   rot_wein  weiss_wein\n",
      "0         3           4\n",
      "1         2           3\n",
      "2         1           8\n",
      "3         8           2\n",
      "4         4           9\n",
      "5         8           4\n",
      "6         3           2\n",
      "7         8           5\n",
      "8         5           1\n",
      "9         6           9\n"
     ]
    }
   ],
   "source": [
    "print(pd_wine_reg)"
   ]
  },
  {
   "cell_type": "code",
   "execution_count": 47,
   "id": "fd9a1c72",
   "metadata": {},
   "outputs": [
    {
     "data": {
      "text/plain": [
       "Text(0, 0.5, 'white wine')"
      ]
     },
     "execution_count": 47,
     "metadata": {},
     "output_type": "execute_result"
    },
    {
     "data": {
      "image/png": "[encoded data removed]",
      "text/plain": [
       "<Figure size 432x288 with 1 Axes>"
      ]
     },
     "metadata": {
      "needs_background": "light"
     },
     "output_type": "display_data"
    }
   ],
   "source": [
    "plt.scatter(pd_wine_reg['rot_wein'],pd_wine_reg['weiss_wein']); plt.xlabel('red wine'); plt.ylabel('white wine')"
   ]
  },
  {
   "cell_type": "code",
   "execution_count": 38,
   "id": "dace2ef8",
   "metadata": {},
   "outputs": [],
   "source": [
    "x=np.linspace(0,10,10)"
   ]
  },
  {
   "cell_type": "code",
   "execution_count": 39,
   "id": "71d15493",
   "metadata": {},
   "outputs": [],
   "source": [
    "y=np.sin(x)"
   ]
  },
  {
   "cell_type": "code",
   "execution_count": 51,
   "id": "37cb2c49",
   "metadata": {},
   "outputs": [],
   "source": [
    "pd_wine_quality=pd.read_csv('winequality-red.csv')"
   ]
  },
  {
   "cell_type": "code",
   "execution_count": 52,
   "id": "fa2b911d",
   "metadata": {},
   "outputs": [
    {
     "data": {
      "text/plain": [
       "Index(['fixed acidity', 'volatile acidity', 'citric acid', 'residual sugar',\n",
       "       'chlorides', 'free sulfur dioxide', 'total sulfur dioxide', 'density',\n",
       "       'pH', 'sulphates', 'alcohol', 'quality'],\n",
       "      dtype='object')"
      ]
     },
     "execution_count": 52,
     "metadata": {},
     "output_type": "execute_result"
    }
   ],
   "source": [
    "pd_wine_quality.columns"
   ]
  },
  {
   "cell_type": "code",
   "execution_count": 60,
   "id": "f4c85f2d",
   "metadata": {},
   "outputs": [
    {
     "data": {
      "text/html": [
       "<div>\n",
       "<style scoped>\n",
       "    .dataframe tbody tr th:only-of-type {\n",
       "        vertical-align: middle;\n",
       "    }\n",
       "\n",
       "    .dataframe tbody tr th {\n",
       "        vertical-align: top;\n",
       "    }\n",
       "\n",
       "    .dataframe thead th {\n",
       "        text-align: right;\n",
       "    }\n",
       "</style>\n",
       "<table border=\"1\" class=\"dataframe\">\n",
       "  <thead>\n",
       "    <tr style=\"text-align: right;\">\n",
       "      <th></th>\n",
       "      <th>fixed acidity</th>\n",
       "      <th>volatile acidity</th>\n",
       "      <th>citric acid</th>\n",
       "    </tr>\n",
       "  </thead>\n",
       "  <tbody>\n",
       "    <tr>\n",
       "      <th>0</th>\n",
       "      <td>7.4</td>\n",
       "      <td>0.700</td>\n",
       "      <td>0.00</td>\n",
       "    </tr>\n",
       "    <tr>\n",
       "      <th>1</th>\n",
       "      <td>7.8</td>\n",
       "      <td>0.880</td>\n",
       "      <td>0.00</td>\n",
       "    </tr>\n",
       "    <tr>\n",
       "      <th>2</th>\n",
       "      <td>7.8</td>\n",
       "      <td>0.760</td>\n",
       "      <td>0.04</td>\n",
       "    </tr>\n",
       "    <tr>\n",
       "      <th>3</th>\n",
       "      <td>11.2</td>\n",
       "      <td>0.280</td>\n",
       "      <td>0.56</td>\n",
       "    </tr>\n",
       "    <tr>\n",
       "      <th>4</th>\n",
       "      <td>7.4</td>\n",
       "      <td>0.700</td>\n",
       "      <td>0.00</td>\n",
       "    </tr>\n",
       "    <tr>\n",
       "      <th>...</th>\n",
       "      <td>...</td>\n",
       "      <td>...</td>\n",
       "      <td>...</td>\n",
       "    </tr>\n",
       "    <tr>\n",
       "      <th>1594</th>\n",
       "      <td>6.2</td>\n",
       "      <td>0.600</td>\n",
       "      <td>0.08</td>\n",
       "    </tr>\n",
       "    <tr>\n",
       "      <th>1595</th>\n",
       "      <td>5.9</td>\n",
       "      <td>0.550</td>\n",
       "      <td>0.10</td>\n",
       "    </tr>\n",
       "    <tr>\n",
       "      <th>1596</th>\n",
       "      <td>6.3</td>\n",
       "      <td>0.510</td>\n",
       "      <td>0.13</td>\n",
       "    </tr>\n",
       "    <tr>\n",
       "      <th>1597</th>\n",
       "      <td>5.9</td>\n",
       "      <td>0.645</td>\n",
       "      <td>0.12</td>\n",
       "    </tr>\n",
       "    <tr>\n",
       "      <th>1598</th>\n",
       "      <td>6.0</td>\n",
       "      <td>0.310</td>\n",
       "      <td>0.47</td>\n",
       "    </tr>\n",
       "  </tbody>\n",
       "</table>\n",
       "<p>1599 rows × 3 columns</p>\n",
       "</div>"
      ],
      "text/plain": [
       "      fixed acidity  volatile acidity  citric acid\n",
       "0               7.4             0.700         0.00\n",
       "1               7.8             0.880         0.00\n",
       "2               7.8             0.760         0.04\n",
       "3              11.2             0.280         0.56\n",
       "4               7.4             0.700         0.00\n",
       "...             ...               ...          ...\n",
       "1594            6.2             0.600         0.08\n",
       "1595            5.9             0.550         0.10\n",
       "1596            6.3             0.510         0.13\n",
       "1597            5.9             0.645         0.12\n",
       "1598            6.0             0.310         0.47\n",
       "\n",
       "[1599 rows x 3 columns]"
      ]
     },
     "execution_count": 60,
     "metadata": {},
     "output_type": "execute_result"
    }
   ],
   "source": [
    "pd_wine_quality.loc[:,'fixed acidity':'citric acid']\n",
    "\n"
   ]
  },
  {
   "cell_type": "code",
   "execution_count": 62,
   "id": "36604028",
   "metadata": {},
   "outputs": [
    {
     "data": {
      "text/plain": [
       "count    1599.000000\n",
       "mean        0.270976\n",
       "std         0.194801\n",
       "min         0.000000\n",
       "25%         0.090000\n",
       "50%         0.260000\n",
       "75%         0.420000\n",
       "max         1.000000\n",
       "Name: citric acid, dtype: float64"
      ]
     },
     "execution_count": 62,
     "metadata": {},
     "output_type": "execute_result"
    }
   ],
   "source": [
    "pd_wine_quality['citric acid'].describe()"
   ]
  },
  {
   "cell_type": "code",
   "execution_count": 93,
   "id": "c857c747",
   "metadata": {},
   "outputs": [],
   "source": [
    "pdca_mask=(pd_wine_quality['citric acid']<0.26)&(pd_wine_quality['citric acid']>0.00)&(pd_wine_quality['pH']>3.21)&(pd_wine_quality['pH']<3.40)"
   ]
  },
  {
   "cell_type": "code",
   "execution_count": 94,
   "id": "2ebcdfe1",
   "metadata": {},
   "outputs": [],
   "source": [
    "pdca=pd_wine_quality[pdca_mask]"
   ]
  },
  {
   "cell_type": "code",
   "execution_count": 188,
   "id": "90f9bf41",
   "metadata": {},
   "outputs": [
    {
     "ename": "SyntaxError",
     "evalue": "cannot assign to function call (2112273378.py, line 1)",
     "output_type": "error",
     "traceback": [
      "\u001b[1;36m  Input \u001b[1;32mIn [188]\u001b[1;36m\u001b[0m\n\u001b[1;33m    plt.scatter(pd_wine_quality['pH'].head(100), pd_wine_quality['citric acid'].head(100)), plt.xlabel='pH level', plt.ylabel='citric acid'\u001b[0m\n\u001b[1;37m    ^\u001b[0m\n\u001b[1;31mSyntaxError\u001b[0m\u001b[1;31m:\u001b[0m cannot assign to function call\n"
     ]
    }
   ],
   "source": [
    "plt.scatter(pd_wine_quality['pH'].head(100), pd_wine_quality['citric acid'].head(100)), plt.xlabel='pH level', plt.ylabel='citric acid'"
   ]
  },
  {
   "cell_type": "code",
   "execution_count": 175,
   "id": "085fa9cd",
   "metadata": {},
   "outputs": [
    {
     "data": {
      "text/plain": [
       "3.39    7\n",
       "3.17    6\n",
       "3.38    5\n",
       "3.41    5\n",
       "3.26    4\n",
       "3.16    4\n",
       "3.30    4\n",
       "3.34    4\n",
       "3.28    4\n",
       "3.25    3\n",
       "3.32    3\n",
       "3.44    3\n",
       "3.51    3\n",
       "3.35    3\n",
       "2.93    3\n",
       "3.31    2\n",
       "3.23    2\n",
       "3.54    2\n",
       "3.48    2\n",
       "3.21    2\n",
       "3.33    2\n",
       "3.40    2\n",
       "3.42    2\n",
       "3.43    2\n",
       "3.36    2\n",
       "3.04    2\n",
       "3.52    2\n",
       "3.45    2\n",
       "3.20    2\n",
       "3.90    1\n",
       "3.47    1\n",
       "3.46    1\n",
       "3.15    1\n",
       "3.50    1\n",
       "3.11    1\n",
       "3.58    1\n",
       "3.13    1\n",
       "3.14    1\n",
       "3.75    1\n",
       "3.85    1\n",
       "Name: pH, dtype: int64"
      ]
     },
     "execution_count": 175,
     "metadata": {},
     "output_type": "execute_result"
    }
   ],
   "source": [
    "pH_Levels"
   ]
  },
  {
   "cell_type": "code",
   "execution_count": 186,
   "id": "2776f5b0",
   "metadata": {},
   "outputs": [
    {
     "data": {
      "text/plain": [
       "(count    1599.000000\n",
       " mean        0.270976\n",
       " std         0.194801\n",
       " min         0.000000\n",
       " 25%         0.090000\n",
       " 50%         0.260000\n",
       " 75%         0.420000\n",
       " max         1.000000\n",
       " Name: citric acid, dtype: float64,\n",
       " count    1599.000000\n",
       " mean        3.311113\n",
       " std         0.154386\n",
       " min         2.740000\n",
       " 25%         3.210000\n",
       " 50%         3.310000\n",
       " 75%         3.400000\n",
       " max         4.010000\n",
       " Name: pH, dtype: float64)"
      ]
     },
     "execution_count": 186,
     "metadata": {},
     "output_type": "execute_result"
    }
   ],
   "source": [
    "pd_wine_quality['citric acid'].describe(),pd_wine_quality['pH'].describe()"
   ]
  },
  {
   "cell_type": "code",
   "execution_count": 146,
   "id": "a3f9d67f",
   "metadata": {},
   "outputs": [],
   "source": [
    "# plt.style.use('ggplot');pd_wine_quality.plot(kind='bar',color='k')"
   ]
  },
  {
   "cell_type": "code",
   "execution_count": null,
   "id": "4e2a9217",
   "metadata": {},
   "outputs": [],
   "source": [
    "(pd_wine_quality['pH']>4.0).value_counts()"
   ]
  },
  {
   "cell_type": "code",
   "execution_count": 176,
   "id": "7a6d2fdf",
   "metadata": {},
   "outputs": [
    {
     "data": {
      "image/png": "[encoded data removed]",
      "text/plain": [
       "<Figure size 640x480 with 1 Axes>"
      ]
     },
     "metadata": {},
     "output_type": "display_data"
    }
   ],
   "source": [
    "pH_Levels.plot(kind='bar');\n",
    "plt.show()"
   ]
  },
  {
   "cell_type": "code",
   "execution_count": 164,
   "id": "ddbe4874",
   "metadata": {},
   "outputs": [],
   "source": [
    "plt.show()"
   ]
  },
  {
   "cell_type": "code",
   "execution_count": null,
   "id": "ae83993c",
   "metadata": {},
   "outputs": [],
   "source": [
    "print('HI')"
   ]
  },
  {
   "cell_type": "code",
   "execution_count": null,
   "id": "aa90e7a8",
   "metadata": {},
   "outputs": [],
   "source": [
    "'Hello World'"
   ]
  },
  {
   "cell_type": "code",
   "execution_count": null,
   "id": "067adcc0",
   "metadata": {},
   "outputs": [],
   "source": []
  }
 ],
 "metadata": {
  "kernelspec": {
   "display_name": "Python 3 (ipykernel)",
   "language": "python",
   "name": "python3"
  },
  "language_info": {
   "codemirror_mode": {
    "name": "ipython",
    "version": 3
   },
   "file_extension": ".py",
   "mimetype": "text/x-python",
   "name": "python",
   "nbconvert_exporter": "python",
   "pygments_lexer": "ipython3",
   "version": "3.8.6"
  }
 },
 "nbformat": 4,
 "nbformat_minor": 5
}
